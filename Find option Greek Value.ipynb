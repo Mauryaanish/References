{
 "cells": [
  {
   "cell_type": "code",
   "execution_count": 2,
   "id": "76c2fb5c",
   "metadata": {},
   "outputs": [],
   "source": [
    "import pandas as pd\n",
    "import numpy as np\n",
    "from mibian import BS\n",
    "from math import exp, log, sqrt\n",
    "from scipy.stats import norm"
   ]
  },
  {
   "cell_type": "code",
   "execution_count": 9,
   "id": "3288a786",
   "metadata": {},
   "outputs": [
    {
     "name": "stdout",
     "output_type": "stream",
     "text": [
      "Delta: -0.8056\n",
      "Theta: -1907.7897\n"
     ]
    }
   ],
   "source": [
    "# Find the Delta and Theta Value\n",
    "\n",
    "def black_scholes_delta(spot_price, strike_price, time_to_expiry, risk_free_rate, volatility, option_type):\n",
    "    d1 = (log(spot_price / strike_price) + (risk_free_rate + 0.5 * volatility**2) * time_to_expiry) / (volatility * sqrt(time_to_expiry))\n",
    "    if (option_type.lower() == 'put'):\n",
    "        if (spot_price < strike_price):\n",
    "            return -norm.cdf(d1)\n",
    "        elif (spot_price > strike_price):\n",
    "            return   norm.cdf(d1) - 1\n",
    "    elif (option_type.lower() == 'call'):\n",
    "         if (spot_price > strike_price):\n",
    "            return norm.cdf(d1)\n",
    "        \n",
    "         elif (spot_price < strike_price):\n",
    "            return   1- norm.cdf(d1)\n",
    "        \n",
    "    else:\n",
    "        raise ValueError(\"Invalid option type. Use 'call' or 'put'.\")\n",
    "\n",
    "def black_scholes_theta(spot_price, strike_price, time_to_expiry, risk_free_rate, volatility, option_type):\n",
    "    d1 = (log(spot_price / strike_price) + (risk_free_rate + 0.5 * volatility**2) * time_to_expiry) / (volatility * sqrt(time_to_expiry))\n",
    "    d2 = d1 - volatility * sqrt(time_to_expiry)\n",
    "    \n",
    "    if option_type.lower() == 'call':\n",
    "        theta = -(spot_price * norm.pdf(d1) * volatility) / (2 * sqrt(time_to_expiry)) - risk_free_rate * strike_price * exp(-risk_free_rate * time_to_expiry) * norm.cdf(d2)\n",
    "    elif option_type.lower() == 'put':\n",
    "        theta = -(spot_price * norm.pdf(d1) * volatility) / (2 * sqrt(time_to_expiry)) + risk_free_rate * strike_price * exp(-risk_free_rate * time_to_expiry) * norm.cdf(-d2)\n",
    "    else:\n",
    "        raise ValueError(\"Invalid option type. Use 'call' or 'put'.\")\n",
    "    \n",
    "    return theta / 365.25\n",
    "\n",
    "# Example usage\n",
    "spot_price = 48100\n",
    "strike_price = 48400\n",
    "time_to_expiry = 6 / 365.25  # 30 days to expiry\n",
    "risk_free_rate = 0.01\n",
    "volatility = 13.5\n",
    "option_type = 'put'\n",
    "\n",
    "delta = black_scholes_delta(spot_price, strike_price, time_to_expiry, risk_free_rate, volatility, option_type)\n",
    "theta = black_scholes_theta(spot_price, strike_price, time_to_expiry, risk_free_rate, volatility, option_type)\n",
    "\n",
    "print(f\"Delta: {delta:.4f}\")\n",
    "print(f\"Theta: {theta:.4f}\")\n"
   ]
  },
  {
   "cell_type": "code",
   "execution_count": 12,
   "id": "9405bbf2",
   "metadata": {},
   "outputs": [
    {
     "name": "stdout",
     "output_type": "stream",
     "text": [
      "Implied Volatility: 13.6032\n"
     ]
    }
   ],
   "source": [
    "## Find Call implied Volatility\n",
    "\n",
    "from mibian import BS\n",
    "\n",
    "# Example option data\n",
    "spot_price = 48110\n",
    "strike_price = 49000\n",
    "interest_rate = 0.01\n",
    "days_to_expiry = 6\n",
    "call_option_price = 64\n",
    "\n",
    "# Calculate implied volatility\n",
    "bs = BS([spot_price, strike_price, interest_rate, days_to_expiry], callPrice=call_option_price)\n",
    "implied_volatility = bs.impliedVolatility\n",
    "\n",
    "print(f\"Implied Volatility: {implied_volatility:.4f}\")"
   ]
  },
  {
   "cell_type": "code",
   "execution_count": 13,
   "id": "27787667",
   "metadata": {},
   "outputs": [
    {
     "name": "stdout",
     "output_type": "stream",
     "text": [
      "Implied Volatility for Put: 14.0228\n"
     ]
    }
   ],
   "source": [
    "## Find Put implied Volatility\n",
    "\n",
    "from mibian import BS\n",
    "\n",
    "# Example option data for a put option\n",
    "spot_price = 48110\n",
    "strike_price = 49000\n",
    "interest_rate = 0.01\n",
    "days_to_expiry = 6\n",
    "put_option_price = 960\n",
    "\n",
    "# Calculate implied volatility for the put option\n",
    "bs_put = BS([spot_price, strike_price, interest_rate, days_to_expiry], putPrice=put_option_price)\n",
    "implied_volatility_put = bs_put.impliedVolatility\n",
    "\n",
    "print(f\"Implied Volatility for Put: {implied_volatility_put:.4f}\")\n"
   ]
  },
  {
   "cell_type": "code",
   "execution_count": 16,
   "id": "875cf4ff",
   "metadata": {},
   "outputs": [
    {
     "name": "stdout",
     "output_type": "stream",
     "text": [
      "Put Delta:- -0.8207974569791956\n",
      "Put Theta:- -20.702533778522778\n",
      "Put Rho:- -6.652581826218778\n",
      "*******************************\n",
      "Call Delta:- 0.3071390955878299\n",
      "call Theta:- -22.218932483395154\n",
      "Call Rho:- 2.4046944951394464\n"
     ]
    }
   ],
   "source": [
    "## Simple way to find Option Greek value\n",
    "\n",
    "\n",
    "# find Put delta and theta,rho\n",
    "\n",
    "Underlying_Price=48110\n",
    "Strike_Price = 49000\n",
    "Interest_Rate = 0.01\n",
    "Daystoexpiration = 6\n",
    "put_volatility = 15.4\n",
    "p =BS([Underlying_Price, Strike_Price, Interest_Rate, Daystoexpiration],volatility = put_volatility)\n",
    "\n",
    "put_delta = p.putDelta\n",
    "put_theta = p.putTheta\n",
    "put_rho = p.putRho\n",
    "\n",
    "\n",
    "# Find Call delta and theta,rho\n",
    "Underlying_Price=48110\n",
    "Strike_Price = 48500\n",
    "Interest_Rate = 0.01\n",
    "Daystoexpiration = 6\n",
    "call_volatility = 12.30\n",
    "c =BS([Underlying_Price, Strike_Price, Interest_Rate, Daystoexpiration],volatility = call_volatility)\n",
    "call_delta = c.callDelta\n",
    "call_theta = c.callTheta\n",
    "call_rho = c.callRho\n",
    "\n",
    "print(f'Put Delta:- {put_delta}')\n",
    "print(f'Put Theta:- {put_theta}')\n",
    "print(f'Put Rho:- {put_rho}')\n",
    "\n",
    "print('*******************************')\n",
    "\n",
    "print(f'Call Delta:- {call_delta}')\n",
    "print(f'call Theta:- {call_theta}')\n",
    "print(f'Call Rho:- {call_rho}')"
   ]
  },
  {
   "cell_type": "code",
   "execution_count": null,
   "id": "5a50b52b",
   "metadata": {},
   "outputs": [],
   "source": []
  }
 ],
 "metadata": {
  "kernelspec": {
   "display_name": "Python 3 (ipykernel)",
   "language": "python",
   "name": "python3"
  },
  "language_info": {
   "codemirror_mode": {
    "name": "ipython",
    "version": 3
   },
   "file_extension": ".py",
   "mimetype": "text/x-python",
   "name": "python",
   "nbconvert_exporter": "python",
   "pygments_lexer": "ipython3",
   "version": "3.11.5"
  }
 },
 "nbformat": 4,
 "nbformat_minor": 5
}
