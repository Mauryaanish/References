{
 "cells": [
  {
   "cell_type": "code",
   "execution_count": 1,
   "id": "fd74e2a8",
   "metadata": {},
   "outputs": [],
   "source": [
    "class Robot :\n",
    "    def introduce_self(self):\n",
    "        print(\"my name is \" + self.name ,\"|\", \"my age is \" + self.age)\n",
    "        "
   ]
  },
  {
   "cell_type": "code",
   "execution_count": 2,
   "id": "28cb8ba1",
   "metadata": {},
   "outputs": [],
   "source": [
    "r1 = Robot()"
   ]
  },
  {
   "cell_type": "code",
   "execution_count": 3,
   "id": "561d6180",
   "metadata": {},
   "outputs": [],
   "source": [
    "r1.name = \"anish\"\n",
    "r1.age = \"24\""
   ]
  },
  {
   "cell_type": "code",
   "execution_count": 4,
   "id": "71c2aadb",
   "metadata": {},
   "outputs": [
    {
     "name": "stdout",
     "output_type": "stream",
     "text": [
      "my name is anish | my age is 24\n"
     ]
    }
   ],
   "source": [
    "r1.introduce_self()"
   ]
  },
  {
   "cell_type": "code",
   "execution_count": 5,
   "id": "f27eac94",
   "metadata": {},
   "outputs": [],
   "source": [
    "class Robot :\n",
    "    def __init__(self,name,age,gender):\n",
    "        self.name=name\n",
    "        self.age=age\n",
    "        self.gender=gender\n",
    "        \n",
    "    def introduce_self(self):\n",
    "        print(\"my name is \" , self.name ,\"|\", \"my age is \" , self.age , \"Gender\" , self.gender)"
   ]
  },
  {
   "cell_type": "code",
   "execution_count": 6,
   "id": "381ba4f4",
   "metadata": {},
   "outputs": [],
   "source": [
    "r = Robot(\"anish\" , 24 , \"male\")"
   ]
  },
  {
   "cell_type": "code",
   "execution_count": 7,
   "id": "c7057399",
   "metadata": {},
   "outputs": [
    {
     "name": "stdout",
     "output_type": "stream",
     "text": [
      "my name is  anish | my age is  24 Gender male\n"
     ]
    }
   ],
   "source": [
    "r.introduce_self()"
   ]
  },
  {
   "cell_type": "code",
   "execution_count": 8,
   "id": "7b824496",
   "metadata": {},
   "outputs": [],
   "source": [
    "class Bankaccount:\n",
    "    def __init__(self,account_number , account_name , balance ) :\n",
    "        self.account_number = account_number\n",
    "        self.account_name = account_name\n",
    "        self.balance = balance\n",
    "    \n",
    "    def deposit_amount(self , d_amount):\n",
    "        self.d_amount = d_amount\n",
    "        self.balance+= self.d_amount\n",
    "        print(f\"After Deposit  amount is: {self.balance+ d_amount}\")\n",
    "                                                           \n",
    "    def withdrawal_amount(self , w_amount) :\n",
    "        self.w_amount = w_amount\n",
    "        self.balance-=self.w_amount\n",
    "        print(f\"After Withdrawal ammount Than Balance is: {self.balance- w_amount}\")\n",
    "        \n",
    "    def detail_account(self):\n",
    "        print(\"Account Number is: \" , self.account_number)\n",
    "        print(\"Account Name is: \" , self.account_name)\n",
    "        print(\"Account Balance is: \", self.balance)"
   ]
  },
  {
   "cell_type": "code",
   "execution_count": 9,
   "id": "eb30baaa",
   "metadata": {},
   "outputs": [],
   "source": [
    "a = Bankaccount(8347176457 , \"Anish\" , 1500)"
   ]
  },
  {
   "cell_type": "code",
   "execution_count": 10,
   "id": "ed61f38b",
   "metadata": {},
   "outputs": [
    {
     "name": "stdout",
     "output_type": "stream",
     "text": [
      "Account Number is:  8347176457\n",
      "Account Name is:  Anish\n",
      "Account Balance is:  1500\n"
     ]
    }
   ],
   "source": [
    "a.detail_account()"
   ]
  },
  {
   "cell_type": "code",
   "execution_count": 11,
   "id": "5890f5e7",
   "metadata": {},
   "outputs": [
    {
     "name": "stdout",
     "output_type": "stream",
     "text": [
      "After Deposit  amount is: 2500\n"
     ]
    }
   ],
   "source": [
    "a.deposit_amount(500)"
   ]
  },
  {
   "cell_type": "code",
   "execution_count": 12,
   "id": "51907eb1",
   "metadata": {},
   "outputs": [
    {
     "name": "stdout",
     "output_type": "stream",
     "text": [
      "After Withdrawal ammount Than Balance is: 1300\n"
     ]
    }
   ],
   "source": [
    "a.withdrawal_amount(350)"
   ]
  },
  {
   "cell_type": "code",
   "execution_count": 13,
   "id": "1cbb5fff",
   "metadata": {},
   "outputs": [
    {
     "name": "stdout",
     "output_type": "stream",
     "text": [
      "Account Number is:  8347176457\n",
      "Account Name is:  Anish\n",
      "Account Balance is:  1650\n"
     ]
    }
   ],
   "source": [
    "a.detail_account()"
   ]
  },
  {
   "cell_type": "code",
   "execution_count": 14,
   "id": "c0f6cbee",
   "metadata": {},
   "outputs": [],
   "source": [
    "class Person :\n",
    "    def __init__(self , name , age , color , height , weight) :\n",
    "        self.name = name\n",
    "        self.age = age\n",
    "        self.color = color\n",
    "        self.height = height\n",
    "        self.weight = weight\n",
    "        \n",
    "    def bio_data(self) :\n",
    "        print(\"My Name is: \" , self.name)\n",
    "        print(\"My Age is: \" , self.age)\n",
    "        print(\"My Skin Color is: \" , self.color)\n",
    "        print(\"My Height is: \" , self.height)\n",
    "        print(\"My Weight is: \" , self.weight)"
   ]
  },
  {
   "cell_type": "code",
   "execution_count": 15,
   "id": "ef30eede",
   "metadata": {},
   "outputs": [],
   "source": [
    "a = Person(\"Anish\" , 24 , \"Balck\" , \"5'8\" , 56)"
   ]
  },
  {
   "cell_type": "code",
   "execution_count": 16,
   "id": "c54293fe",
   "metadata": {},
   "outputs": [
    {
     "name": "stdout",
     "output_type": "stream",
     "text": [
      "My Name is:  Anish\n",
      "My Age is:  24\n",
      "My Skin Color is:  Balck\n",
      "My Height is:  5'8\n",
      "My Weight is:  56\n"
     ]
    }
   ],
   "source": [
    "a.bio_data()"
   ]
  },
  {
   "cell_type": "code",
   "execution_count": 17,
   "id": "45baac70",
   "metadata": {},
   "outputs": [],
   "source": [
    "class Divya_Portfolio_Pvt_Ltd :\n",
    "    \n",
    "    def __init__(self , Emp_name , Designation , Working_place , Joining_date , Working_day , Salary ):\n",
    "        self.Emp_name = Emp_name\n",
    "        self.Designation = Designation\n",
    "        self.Working_place = Working_place\n",
    "        self.Joining_date = Joining_date\n",
    "        self.Working_day = Working_day\n",
    "        self.Salary = Salary\n",
    "        self.pay = (self.Salary/30)*self.Working_day\n",
    "    \n",
    "    def Emp_Detail(self) :\n",
    "        print(\"Employee Name: \" , self.Emp_name)\n",
    "        print(\"Employee Designation: \" , self.Designation)\n",
    "        print(\"Working Place: \" , self.Working_place)\n",
    "        print(\"Joining Date : \" , self.Joining_date)\n",
    "        print(\"Total Working Day on This Current Month: \" , self.Working_day)\n",
    "        print(\"Your Gross Salary: \" , self.Salary)\n",
    "        print(f\"This Month Net Payble Salary is: {self.pay}\")"
   ]
  },
  {
   "cell_type": "code",
   "execution_count": 18,
   "id": "4b96a32b",
   "metadata": {},
   "outputs": [],
   "source": [
    "sagar = Divya_Portfolio_Pvt_Ltd (\"Sagar\" , \"Trader\" , \"Gift City\" , \"21-Jan-2020\" , 28 , 19500)"
   ]
  },
  {
   "cell_type": "code",
   "execution_count": 19,
   "id": "66dc4190",
   "metadata": {},
   "outputs": [
    {
     "name": "stdout",
     "output_type": "stream",
     "text": [
      "Employee Name:  Sagar\n",
      "Employee Designation:  Trader\n",
      "Working Place:  Gift City\n",
      "Joining Date :  21-Jan-2020\n",
      "Total Working Day on This Current Month:  28\n",
      "Your Gross Salary:  19500\n",
      "This Month Net Payble Salary is: 18200.0\n"
     ]
    }
   ],
   "source": [
    "sagar.Emp_Detail()"
   ]
  },
  {
   "cell_type": "code",
   "execution_count": 20,
   "id": "afd999ba",
   "metadata": {},
   "outputs": [],
   "source": [
    "class Bankaccount() :\n",
    "    def __init__(self , Account_Holder_Name , Balance , Interest):\n",
    "        self.Account_Holder_Name = Account_Holder_Name\n",
    "        self.Balance = Balance\n",
    "        self.Interest = Interest\n",
    "        self.net = self.Balance*(self.Interest)/100\n",
    "        \n",
    "    def Account_Detail(self):\n",
    "        print(\"Account Holder Name: \" , self.Account_Holder_Name)\n",
    "        print(\"Account Balance: \" , self.Balance)\n",
    "        print(\"Par Annual Interest: \" , self.Interest)\n",
    "        print(\"Your Interest is: \" , self.net)\n",
    "    \n",
    "    def Apply_interest(self):\n",
    "        \n",
    "        print(f\"After Add Interest Than Net Balance is: {self.net + self.Balance}\")\n",
    "        \n",
    "    "
   ]
  },
  {
   "cell_type": "code",
   "execution_count": 21,
   "id": "7b985d8a",
   "metadata": {},
   "outputs": [],
   "source": [
    "a = Bankaccount(\"Manish Maurya \" , 25000 , 3)"
   ]
  },
  {
   "cell_type": "code",
   "execution_count": 22,
   "id": "547ac4a8",
   "metadata": {},
   "outputs": [
    {
     "name": "stdout",
     "output_type": "stream",
     "text": [
      "Account Holder Name:  Manish Maurya \n",
      "Account Balance:  25000\n",
      "Par Annual Interest:  3\n",
      "Your Interest is:  750.0\n"
     ]
    }
   ],
   "source": [
    "a.Account_Detail()"
   ]
  },
  {
   "cell_type": "code",
   "execution_count": 23,
   "id": "e9f06804",
   "metadata": {},
   "outputs": [],
   "source": [
    "b = Bankaccount(\"Juan De Hattatime\" , 20000 , 2)"
   ]
  },
  {
   "cell_type": "code",
   "execution_count": 24,
   "id": "8fb261b1",
   "metadata": {},
   "outputs": [
    {
     "name": "stdout",
     "output_type": "stream",
     "text": [
      "Account Holder Name:  Juan De Hattatime\n",
      "Account Balance:  20000\n",
      "Par Annual Interest:  2\n",
      "Your Interest is:  400.0\n"
     ]
    }
   ],
   "source": [
    "b.Account_Detail()"
   ]
  },
  {
   "cell_type": "code",
   "execution_count": 25,
   "id": "2e97b3f7",
   "metadata": {},
   "outputs": [
    {
     "name": "stdout",
     "output_type": "stream",
     "text": [
      "After Add Interest Than Net Balance is: 20400.0\n"
     ]
    }
   ],
   "source": [
    "b.Apply_interest()"
   ]
  },
  {
   "cell_type": "code",
   "execution_count": 26,
   "id": "0a14cff9",
   "metadata": {},
   "outputs": [],
   "source": [
    "class Item :\n",
    "    def __init__(self , item_name , price) :\n",
    "        self.item_name = item_name\n",
    "        self.price = price\n",
    "        \n",
    "    def __str__(self):\n",
    "        print(\"Item Name is: \" , self.item_name)\n",
    "        print(\"Item Price is Per KG: \" , self.price)"
   ]
  },
  {
   "cell_type": "code",
   "execution_count": 27,
   "id": "19b2ef17",
   "metadata": {},
   "outputs": [],
   "source": [
    "a = Item(\"Apple\" , 150 )"
   ]
  },
  {
   "cell_type": "code",
   "execution_count": 28,
   "id": "5fc03e95",
   "metadata": {},
   "outputs": [
    {
     "data": {
      "text/plain": [
       "'Apple'"
      ]
     },
     "execution_count": 28,
     "metadata": {},
     "output_type": "execute_result"
    }
   ],
   "source": [
    "a.item_name"
   ]
  },
  {
   "cell_type": "code",
   "execution_count": 29,
   "id": "7bb9531b",
   "metadata": {},
   "outputs": [
    {
     "data": {
      "text/plain": [
       "150"
      ]
     },
     "execution_count": 29,
     "metadata": {},
     "output_type": "execute_result"
    }
   ],
   "source": [
    "a.price"
   ]
  },
  {
   "cell_type": "code",
   "execution_count": 30,
   "id": "fff3ad80",
   "metadata": {},
   "outputs": [
    {
     "name": "stdout",
     "output_type": "stream",
     "text": [
      "Item Name is:  Apple\n",
      "Item Price is Per KG:  150\n",
      "None\n"
     ]
    }
   ],
   "source": [
    "print(a.__str__())"
   ]
  },
  {
   "cell_type": "code",
   "execution_count": 31,
   "id": "9e764b24",
   "metadata": {},
   "outputs": [
    {
     "ename": "SyntaxError",
     "evalue": "invalid syntax (3905452595.py, line 1)",
     "output_type": "error",
     "traceback": [
      "\u001b[1;36m  File \u001b[1;32m\"C:\\Users\\maury\\AppData\\Local\\Temp\\ipykernel_9016\\3905452595.py\"\u001b[1;36m, line \u001b[1;32m1\u001b[0m\n\u001b[1;33m    a.\u001b[0m\n\u001b[1;37m      ^\u001b[0m\n\u001b[1;31mSyntaxError\u001b[0m\u001b[1;31m:\u001b[0m invalid syntax\n"
     ]
    }
   ],
   "source": [
    "a."
   ]
  },
  {
   "cell_type": "code",
   "execution_count": 35,
   "id": "83078c67",
   "metadata": {},
   "outputs": [],
   "source": [
    "class Person:\n",
    "\n",
    "    def __init__(self, person_name, person_age):\n",
    "        self.name = person_name\n",
    "        self.age = person_age\n",
    "\n",
    "    def __str__(self):\n",
    "        return f'Person name is {self.name} and age is {self.age}'\n",
    "    \n",
    "    def __repr__(self):\n",
    "        return f'Person(name={self.name}, age={self.age})'"
   ]
  },
  {
   "cell_type": "code",
   "execution_count": 36,
   "id": "f338c9ec",
   "metadata": {},
   "outputs": [],
   "source": [
    "p = Person(\"anish\" , 24)"
   ]
  },
  {
   "cell_type": "code",
   "execution_count": 37,
   "id": "a473a84d",
   "metadata": {},
   "outputs": [
    {
     "name": "stdout",
     "output_type": "stream",
     "text": [
      "Person name is anish and age is 24\n"
     ]
    }
   ],
   "source": [
    "print(p.__str__())"
   ]
  },
  {
   "cell_type": "code",
   "execution_count": 38,
   "id": "5ddd8926",
   "metadata": {},
   "outputs": [
    {
     "data": {
      "text/plain": [
       "'anish'"
      ]
     },
     "execution_count": 38,
     "metadata": {},
     "output_type": "execute_result"
    }
   ],
   "source": [
    "p.name"
   ]
  },
  {
   "cell_type": "code",
   "execution_count": 40,
   "id": "91f1457e",
   "metadata": {},
   "outputs": [],
   "source": [
    "# parametized constructor\n",
    "\n",
    "class Calculator :\n",
    "    def __init__(self, a , b) :\n",
    "        self.a = a\n",
    "        self.b = b\n",
    "        \n",
    "    def addition (self) :\n",
    "        return self.a + self.b\n",
    "    \n",
    "    def subtraction (self) :\n",
    "        return self.a - self.b\n",
    "    \n",
    "    def multification (self) :\n",
    "        return self.a * self.b\n",
    "    \n",
    "    def division (self) :\n",
    "        try:\n",
    "            return self.a / self.b\n",
    "        \n",
    "        except Exception as e :\n",
    "            print(\"Not Division 0 so write a Curreat Value: \" , e)\n",
    "            \n",
    "    def __str__(self) :\n",
    "        return (\"This is A Caculator\")"
   ]
  },
  {
   "cell_type": "code",
   "execution_count": 41,
   "id": "45cf6a40",
   "metadata": {},
   "outputs": [],
   "source": [
    "value = Calculator(50 , 25)"
   ]
  },
  {
   "cell_type": "code",
   "execution_count": 42,
   "id": "662b3d6a",
   "metadata": {},
   "outputs": [
    {
     "data": {
      "text/plain": [
       "75"
      ]
     },
     "execution_count": 42,
     "metadata": {},
     "output_type": "execute_result"
    }
   ],
   "source": [
    "value.addition()"
   ]
  },
  {
   "cell_type": "code",
   "execution_count": 43,
   "id": "111c59f8",
   "metadata": {},
   "outputs": [
    {
     "data": {
      "text/plain": [
       "2.0"
      ]
     },
     "execution_count": 43,
     "metadata": {},
     "output_type": "execute_result"
    }
   ],
   "source": [
    "value.division()"
   ]
  },
  {
   "cell_type": "code",
   "execution_count": 44,
   "id": "d9c37f52",
   "metadata": {},
   "outputs": [
    {
     "data": {
      "text/plain": [
       "1250"
      ]
     },
     "execution_count": 44,
     "metadata": {},
     "output_type": "execute_result"
    }
   ],
   "source": [
    "value.multification()"
   ]
  },
  {
   "cell_type": "code",
   "execution_count": 45,
   "id": "c21b450d",
   "metadata": {},
   "outputs": [
    {
     "data": {
      "text/plain": [
       "25"
      ]
     },
     "execution_count": 45,
     "metadata": {},
     "output_type": "execute_result"
    }
   ],
   "source": [
    "value.subtraction()"
   ]
  },
  {
   "cell_type": "code",
   "execution_count": 47,
   "id": "cc7b586f",
   "metadata": {},
   "outputs": [],
   "source": [
    "c= Calculator(5 , 0)"
   ]
  },
  {
   "cell_type": "code",
   "execution_count": 48,
   "id": "a53b31d9",
   "metadata": {},
   "outputs": [
    {
     "name": "stdout",
     "output_type": "stream",
     "text": [
      "Not Division 0 so write a Curreat Value:  division by zero\n"
     ]
    }
   ],
   "source": [
    "c.division()"
   ]
  },
  {
   "cell_type": "code",
   "execution_count": 49,
   "id": "c3dc502e",
   "metadata": {},
   "outputs": [
    {
     "name": "stdout",
     "output_type": "stream",
     "text": [
      "This is A Caculator\n"
     ]
    }
   ],
   "source": [
    "print(c)"
   ]
  },
  {
   "cell_type": "code",
   "execution_count": 50,
   "id": "47a21b83",
   "metadata": {},
   "outputs": [],
   "source": [
    "# non parametized constructor \n",
    "\n",
    "class Calculator :\n",
    "    def __init__(self) :\n",
    "        self.a = int(input(\" Value of A: \"))\n",
    "        self.b = int(input(\" Value of B: \"))\n",
    "        \n",
    "    def addition (self) :\n",
    "        return self.a + self.b\n",
    "    \n",
    "    def subtraction (self) :\n",
    "        return self.a - self.b\n",
    "    \n",
    "    def multification (self) :\n",
    "        return self.a * self.b\n",
    "    \n",
    "    def division (self) :\n",
    "        try:\n",
    "            return self.a / self.b\n",
    "        \n",
    "        except Exception as e :\n",
    "            print(\"Not Division 0 so write a Curreat Value: \" , e)\n",
    "            \n",
    "    def __str__(self) :\n",
    "        return (\"This is A Caculator\")"
   ]
  },
  {
   "cell_type": "code",
   "execution_count": 51,
   "id": "f2082830",
   "metadata": {},
   "outputs": [
    {
     "name": "stdout",
     "output_type": "stream",
     "text": [
      " Value of A: 25\n",
      " Value of B: 32\n"
     ]
    }
   ],
   "source": [
    "c = Calculator()"
   ]
  },
  {
   "cell_type": "code",
   "execution_count": 52,
   "id": "457dc287",
   "metadata": {},
   "outputs": [
    {
     "data": {
      "text/plain": [
       "25"
      ]
     },
     "execution_count": 52,
     "metadata": {},
     "output_type": "execute_result"
    }
   ],
   "source": [
    "c.a"
   ]
  },
  {
   "cell_type": "code",
   "execution_count": 53,
   "id": "fce57e07",
   "metadata": {},
   "outputs": [
    {
     "data": {
      "text/plain": [
       "57"
      ]
     },
     "execution_count": 53,
     "metadata": {},
     "output_type": "execute_result"
    }
   ],
   "source": [
    "c.addition()"
   ]
  },
  {
   "cell_type": "code",
   "execution_count": 54,
   "id": "fe9f3ddb",
   "metadata": {},
   "outputs": [],
   "source": [
    "# defult constructor\n",
    "\n",
    "class Student :\n",
    "    \n",
    "    def who(self):\n",
    "        print(\"I am student\")\n",
    "    \n",
    "    "
   ]
  },
  {
   "cell_type": "code",
   "execution_count": 55,
   "id": "c2fd7dfa",
   "metadata": {},
   "outputs": [],
   "source": [
    "s1 = Student()"
   ]
  },
  {
   "cell_type": "code",
   "execution_count": 56,
   "id": "6b092256",
   "metadata": {},
   "outputs": [
    {
     "name": "stdout",
     "output_type": "stream",
     "text": [
      "I am student\n"
     ]
    }
   ],
   "source": [
    "\n",
    "s1.who()"
   ]
  },
  {
   "cell_type": "code",
   "execution_count": 76,
   "id": "6427e055",
   "metadata": {},
   "outputs": [],
   "source": [
    "# How can work public and prodected and previte \n",
    "\n",
    "class Test :\n",
    "    def __init__(self):\n",
    "        self.a = 5    # this is a public \n",
    "        self._b = 7   # this is a prodected(_)\n",
    "        self.__c= 8   # this is a previte(__)\n",
    "        \n",
    "        print (\"Public\" , self.a , \"Prodected\" , self._b , \"Previte\" , self.__c)\n",
    "        \n",
    "    def who(self) :\n",
    "        print(\"Prodected: \" , self._b , \"Previte\" , self.__c)"
   ]
  },
  {
   "cell_type": "code",
   "execution_count": 67,
   "id": "966ef85b",
   "metadata": {},
   "outputs": [
    {
     "name": "stdout",
     "output_type": "stream",
     "text": [
      "Public 5 Prodected 7 Previte 8\n"
     ]
    }
   ],
   "source": [
    "t1=Test()"
   ]
  },
  {
   "cell_type": "code",
   "execution_count": 68,
   "id": "58d31027",
   "metadata": {},
   "outputs": [
    {
     "name": "stdout",
     "output_type": "stream",
     "text": [
      "Prodected:  7 Previte 8\n"
     ]
    }
   ],
   "source": [
    "# prodected and previte print method\n",
    "\n",
    "t1.who()"
   ]
  },
  {
   "cell_type": "code",
   "execution_count": 74,
   "id": "bb6afd4b",
   "metadata": {},
   "outputs": [
    {
     "data": {
      "text/plain": [
       "8"
      ]
     },
     "execution_count": 74,
     "metadata": {},
     "output_type": "execute_result"
    }
   ],
   "source": [
    "# prodected and previte print second method  \n",
    "\n",
    "t1._Test__c # this is a previte method print"
   ]
  },
  {
   "cell_type": "code",
   "execution_count": 75,
   "id": "2aad2be9",
   "metadata": {},
   "outputs": [
    {
     "data": {
      "text/plain": [
       "7"
      ]
     },
     "execution_count": 75,
     "metadata": {},
     "output_type": "execute_result"
    }
   ],
   "source": [
    "t1._b # this is a prodected method print"
   ]
  },
  {
   "cell_type": "code",
   "execution_count": 85,
   "id": "aa37a2ab",
   "metadata": {},
   "outputs": [],
   "source": [
    "class tyres :\n",
    "    def __init__(self, branch , belted_bias , opt_pressure) :\n",
    "        self.branch = branch\n",
    "        self.belted_bias = belted_bias\n",
    "        self.opt_pressure = opt_pressure\n",
    "        \n",
    "    def __str__(self) :\n",
    "        return (\"Tyres: \\n \\tBranch\" + self.branch +\n",
    "               \"\\n \\t Belted-bias\" +str(self.belted_bias) +\n",
    "               \"\\n \\t optimsl pressure\" + str(self.opt_pressure))\n",
    "\n",
    "class Engine:\n",
    "    def __init__(self,fuel_type,noise_level):\n",
    "        self.fuel_type=fuel_type\n",
    "        self.noise_level=noise_level\n",
    "        \n",
    "    def __str__(self):\n",
    "        return (\"Engine: \\n \\tFuel type\" + self.fuel_type +\n",
    "               \"\\n \\t Noise level:\" + str(self.noise_level))\n",
    "    \n",
    "\n",
    "    \n",
    "class Body:\n",
    "    \n",
    "    def __init__(self,size):\n",
    "        self.size=size\n",
    "        \n",
    "    def __str__(self):\n",
    "        return (\"Body:\\n \\t size\" + self.size)\n",
    "    \n",
    "\n",
    "\n",
    "    \n",
    "class Car:\n",
    "    def __init__(self, tyres , engine , body) :\n",
    "        self.tyres = tyres\n",
    "        self.engine = engine\n",
    "        self.body = body\n",
    "        \n",
    "    def __str__(self):\n",
    "        return(str(self.tyres) + \"\\n\" + str(self.engine) + \"\\n\" + str(self.body) )"
   ]
  },
  {
   "cell_type": "code",
   "execution_count": 86,
   "id": "b0aaae4c",
   "metadata": {},
   "outputs": [],
   "source": [
    "t=tyres('banaglore',True,2.0)\n",
    "e=Engine('Desel',3)\n",
    "b=Body('Medium')"
   ]
  },
  {
   "cell_type": "code",
   "execution_count": 87,
   "id": "e631e364",
   "metadata": {},
   "outputs": [],
   "source": [
    "c =Car (t,e,b)"
   ]
  },
  {
   "cell_type": "code",
   "execution_count": 88,
   "id": "cb4a6642",
   "metadata": {},
   "outputs": [
    {
     "name": "stdout",
     "output_type": "stream",
     "text": [
      "Tyres: \n",
      " \tBranchbanaglore\n",
      " \t Belted-biasTrue\n",
      " \t optimsl pressure2.0\n",
      "Engine: \n",
      " \tFuel typeDesel\n",
      " \t Noise level:3\n",
      "Body:\n",
      " \t sizeMedium\n"
     ]
    }
   ],
   "source": [
    "print(c)"
   ]
  },
  {
   "cell_type": "code",
   "execution_count": 136,
   "id": "0df76d33",
   "metadata": {},
   "outputs": [],
   "source": [
    "\n",
    "\n",
    "class Tyres: \n",
    "    def __init__(self , brand_name ,price , mfg) :\n",
    "        self.brand_name = brand_name\n",
    "        self.price = price\n",
    "        self.mfg = mfg\n",
    "        \n",
    "    def __str__(self) :\n",
    "        return f\"\"\"Brand Name:- {str(self.brand_name)}\n",
    "                   Tyres Price:- {str(self.price)}\n",
    "                   Manufacturer Date:- {str(self.mfg)}\"\"\"\n",
    "    \n",
    "class Engine :\n",
    "    \n",
    "    def __init__(self , engine_name , engine_type , capicity) :\n",
    "        self.engine_name = engine_name\n",
    "        self.engine_type = engine_type\n",
    "        self.capicity = capicity\n",
    "        \n",
    "    def __str__(self) :\n",
    "        return f\"\"\"Engine Name:- {str(self.engine_name)}\n",
    "                   Engine Type:- {str(self.engine_type)}\n",
    "                   Capicity:- {str(self.capicity)}\"\"\"\n",
    "    \n",
    "class Body :\n",
    "    \n",
    "    def __init__(self , material , color):\n",
    "        self.material = material\n",
    "        self.color = color\n",
    "        \n",
    "    def __str__(self):\n",
    "        return f\"\"\" Material use in Body Make:- {str(self.material)}\n",
    "                    Body Color:- {str(self.color)}\"\"\"\n",
    "    \n",
    "    \n",
    "class Bike :\n",
    "    \n",
    "    def __init__(self , tyres , engine , body):\n",
    "        self.tyres = tyres\n",
    "        self.engine = engine\n",
    "        self.body = body\n",
    "    \n",
    "    def __str__(self) :\n",
    "        return f\"\"\"Tyres Detail:- {str(self.tyres)} \n",
    "                \\n Engine Detail:- {str(self.engine)}\n",
    "                \\n Body Detail:- {str(self.body)}\"\"\""
   ]
  },
  {
   "cell_type": "code",
   "execution_count": 137,
   "id": "766c0dda",
   "metadata": {},
   "outputs": [],
   "source": [
    "T = Tyres(\"Appolo Tyres\" , 1000 , \"Aug-2020\")\n",
    "E = Engine(\"BS6\" , \"Petrol\" , \"130cc\")\n",
    "B = Body(\"Iron\" , \"Dark Black\")\n"
   ]
  },
  {
   "cell_type": "code",
   "execution_count": 139,
   "id": "f3041d8e",
   "metadata": {},
   "outputs": [],
   "source": [
    "B = Bike(T,E,B)"
   ]
  },
  {
   "cell_type": "code",
   "execution_count": 140,
   "id": "24f89202",
   "metadata": {},
   "outputs": [
    {
     "name": "stdout",
     "output_type": "stream",
     "text": [
      "Tyres Detail:- Brand Name:- Appolo Tyres\n",
      "                   Tyres Price:- 1000\n",
      "                   Manufacturer Date:- Aug-2020 \n",
      "                \n",
      " Engine Detail:- Engine Name:- BS6\n",
      "                   Engine Type:- Petrol\n",
      "                   Capicity:- 130cc\n",
      "                \n",
      " Body Detail:-  Material use in Body Make:- Iron\n",
      "                    Body Color:- Dark Black\n"
     ]
    }
   ],
   "source": [
    "print(B)"
   ]
  },
  {
   "cell_type": "code",
   "execution_count": 39,
   "id": "b633db18",
   "metadata": {},
   "outputs": [],
   "source": [
    "# Make a class For Phone #group class\n",
    "\n",
    "class General :\n",
    "    def __init__(self , Model_Number , Part_Number , Series , Color , Type) :\n",
    "        self.Model_Number = Model_Number\n",
    "        self.Part_Number = Part_Number\n",
    "        self.Series = Series\n",
    "        self.Color = Color\n",
    "        self.Type = Type\n",
    "        \n",
    "    def __str__(self):\n",
    "        return f\"\"\"\n",
    "                   Model Number:-  {str(self.Model_Number)}\n",
    "                   Part Number:- {str(self.Part_Number)}\n",
    "                   Series:- {str(self.Series)} \n",
    "                   Color:- {str(self.Color)}\n",
    "                   Type:- {str(self.Type)}\"\"\"\n",
    "    \n",
    "class Processor:\n",
    "    \n",
    "    def __init__(self , Processor_Brand , Processor_Name , SSD , SSD_Capacity , RAM) :\n",
    "        \n",
    "        self.Processor_Brand = Processor_Brand\n",
    "        self. Processor_Name = Processor_Name\n",
    "        self.SSD = SSD\n",
    "        self.SSD_Capacity = SSD_Capacity\n",
    "        self.RAM = RAM\n",
    "        \n",
    "    def __str__(self) :\n",
    "        return f\"\"\"\n",
    "                   Processor Brand:- {str(self.Processor_Brand)}\n",
    "                   Processor Name:- {str(self. Processor_Name)}\n",
    "                   SSD:- {str(self.SSD)}\n",
    "                   SSD Capacity:- {str(self.SSD_Capacity )}\n",
    "                   RAM:- {str(self.RAM)}\"\"\"\n",
    "    \n",
    "class Operation :\n",
    "    \n",
    "    def __init__(self , Operation_System):\n",
    "        \n",
    "        self.Operation_System = Operation_System\n",
    "        \n",
    "    def __str__(self) :\n",
    "        \n",
    "        return f\"\"\"\n",
    "                 Operation System:- {str(self.Operation_System)}\"\"\"\n",
    "    \n",
    "class Port:\n",
    "    \n",
    "    def __init__(self , Mic_In , USB_Port) :\n",
    "        \n",
    "        self.Mic_In = Mic_In\n",
    "        self.USB_Port = USB_Port\n",
    "        \n",
    "    def __str__(self):\n",
    "        \n",
    "        return f\"\"\"\n",
    "                   Mic In:- {(self.Mic_In)}\n",
    "                   USB Port:- {str(self.USB_Port)}\"\"\"\n",
    "    \n",
    "class Display :\n",
    "    \n",
    "    def __init__(self , Touchscreen , Screen_Size , Screen_Type , Speakers):\n",
    "        \n",
    "        self.Touchscreen = Touchscreen\n",
    "        self.Screen_Size = Screen_Size\n",
    "        self.Screen_Type = Screen_Type\n",
    "        self.Speakers = Speakers \n",
    "        \n",
    "    def __str__(self):\n",
    "        \n",
    "        return f\"\"\"\n",
    "                   Touchscreen:- {str(self.Touchscreen)}\n",
    "                   Screen Size:- {str(self.Screen_Size)}\n",
    "                   Screen Type:- {str(self.Screen_Type)}\n",
    "                   Speakers:- {str(self.Speakers)}\"\"\"\n",
    "    \n",
    "class Connectivity :\n",
    "    \n",
    "    def __init__(self , Wireless_LAN , Bluetooth) :\n",
    "        \n",
    "        self.Wireless_LAN = Wireless_LAN\n",
    "        self.Bluetooth = Bluetooth\n",
    "        \n",
    "    def __str__(self) :\n",
    "        \n",
    "        return f\"\"\"\n",
    "                   Wireless LAN:- {str(self.Wireless_LAN)}\n",
    "                   Bluetooth:- {str(self.Bluetooth)}\"\"\"\n",
    "    \n",
    "class Warranty:\n",
    "    \n",
    "    def __init__(self , Warranty_Summary , Warranty_Service_Type , Covered_in_Warranty , Not_c , Do_w) :\n",
    "        \n",
    "        self.Warranty_Summary = Warranty_Summary\n",
    "        self.Warranty_Service_Type = Warranty_Service_Type\n",
    "        self.Covered_in_Warranty = Covered_in_Warranty\n",
    "        self.Not_c = Not_c\n",
    "        self.Do_w =  Do_w\n",
    "        \n",
    "    def __str__(self) :\n",
    "        return f\"\"\"\n",
    "                   Warranty Summary:- {str(self.Warranty_Summary)}\n",
    "                   Warranty_Service_Type:- {str(self.Warranty_Service_Type)}\n",
    "                   Covered_in_Warranty:- {str(self.Covered_in_Warranty)}\n",
    "                   Not Covered in Warranty:- {str(self.Not_c)}\n",
    "                   Domestic Warranty:- {str(self.Do_w)}\"\"\"\n",
    "    \n",
    "class Mac_Book:\n",
    "    \n",
    "    def __init__(self , General , Processor , Operation, Port , Display , Connectivity , Warranty ) :\n",
    "        \n",
    "        self.General = General\n",
    "        self.Processor = Processor\n",
    "        self.Operation = Operation\n",
    "        self.Port = Port\n",
    "        self.Display = Display\n",
    "        self.Connectivity = Connectivity\n",
    "        self. Warranty = Warranty\n",
    "        \n",
    "    def __str__(self) :\n",
    "        \n",
    "        return f\"\"\"General \\n {str(self.General)}\n",
    "                \\n Processor And Memory Features \\n {str(self.Processor)}\n",
    "                \\n Operating System \\n {str(self.Operation)}\n",
    "                \\n Port And Slot Features \\n {str(self.Port)}\n",
    "                \\n Display And Audio Features \\n {str(self.Display)}\n",
    "                \\n Connectivity Features \\n {str(self.Connectivity)}\n",
    "                \\n Warranty \\n {str(self. Warranty)}\"\"\"\n",
    "        "
   ]
  },
  {
   "cell_type": "code",
   "execution_count": 40,
   "id": "ff29a9fa",
   "metadata": {},
   "outputs": [],
   "source": [
    "g = General(\"MGC54\" ,\"MCD8978\" , 65758 , \"Light Blue\" , \"Thin Laptop\" )\n",
    "p = Processor(\"Apple\" , \"M1\" , \"YES\" ,\"256GB\" , \"8GB\" )\n",
    "o = Operation(\"MAC os\")\n",
    "p1 = Port(\"YES\" , \"2 x Thunderbolt / USB 4 Ports Supports Charging\")\n",
    "d = Display(\"No\" , \"33.78 cm (13.3 inch)\" , \"Amoled\" , \"In-built\")\n",
    "c = Connectivity(\"IEEE 802.11ax (Wi-Fi 6)\" , \"v5.0\")\n",
    "w = Warranty(\"1 Year Limited Warranty\" , \"Onsite\" , \"Manufacturing Defects\" , \"Physical Damage\" , \"1 Year\")\n"
   ]
  },
  {
   "cell_type": "code",
   "execution_count": 41,
   "id": "be7c2dce",
   "metadata": {},
   "outputs": [
    {
     "name": "stdout",
     "output_type": "stream",
     "text": [
      "General \n",
      " \n",
      "                   Model Number:-  MGC54\n",
      "                   Part Number:- MCD8978\n",
      "                   Series:- 65758 \n",
      "                   Color:- Light Blue\n",
      "                   Type:- Thin Laptop\n",
      "                \n",
      " Processor And Memory Features \n",
      " \n",
      "                   Processor Brand:- Apple\n",
      "                   Processor Name:- M1\n",
      "                   SSD:- YES\n",
      "                   SSD Capacity:- 256GB\n",
      "                   RAM:- 8GB\n",
      "                \n",
      " Operating System \n",
      " \n",
      "                 Operation System:- MAC os\n",
      "                \n",
      " Port And Slot Features \n",
      " \n",
      "                   Mic In:- YES\n",
      "                   USB Port:- 2 x Thunderbolt / USB 4 Ports Supports Charging\n",
      "                \n",
      " Display And Audio Features \n",
      " \n",
      "                   Touchscreen:- No\n",
      "                   Screen Size:- 33.78 cm (13.3 inch)\n",
      "                   Screen Type:- Amoled\n",
      "                   Speakers:- In-built\n",
      "                \n",
      " Connectivity Features \n",
      " \n",
      "                   Wireless LAN:- IEEE 802.11ax (Wi-Fi 6)\n",
      "                   Bluetooth:- v5.0\n",
      "                \n",
      " Warranty \n",
      " \n",
      "                   Warranty Summary:- 1 Year Limited Warranty\n",
      "                   Warranty_Service_Type:- Onsite\n",
      "                   Covered_in_Warranty:- Manufacturing Defects\n",
      "                   Not Covered in Warranty:- Physical Damage\n",
      "                   Domestic Warranty:- 1 Year\n"
     ]
    }
   ],
   "source": [
    "m = Mac_Book(g , p ,o ,p1 ,d , c , w)\n",
    "print(m)"
   ]
  },
  {
   "cell_type": "code",
   "execution_count": 45,
   "id": "e0ce4d84",
   "metadata": {},
   "outputs": [
    {
     "name": "stdout",
     "output_type": "stream",
     "text": [
      "General \n",
      " \n",
      "                   In The Box: Handset, charger, cable, Sim ejector\n",
      "                   Model Number: 220233L2I\n",
      "                   Model Name: REDMI 10A\n",
      "                   Color: Sea Blue\n",
      "                   Browse Type: Smartphones\n",
      "                   SIM Type: Dual Sim\n",
      "                   Hybrid Sim Slot: No\n",
      "                   Touchscreen: YES\n",
      "                \n",
      " Display Features \n",
      " \n",
      "                    Display Size: 16.59 cm (6.53 inch)\n",
      "                    Resolution: 1600 x 700$$pixel\n",
      "                \n",
      " Os & Processor Features \n",
      " \n",
      "                   Operating System: Android 12.5\n",
      "                   Processor Core: Octa Core\n",
      "                   Primary Clock Speed: 2.2 GHz\n",
      "                \n",
      " Memory & Storage Features \n",
      " \n",
      "                   Internal Storage: 64 GB\n",
      "                   RAM: 4 GB\n",
      "                   Memory Card Slot Type: Dedicated Slot\n",
      "                \n",
      " Camera Features \n",
      " \n",
      "                   Primary Camera: 13MP Rear Camera\n",
      "                   Dual Camera Lens: Primary Camera\n",
      "                \n",
      " Connectivity Features \n",
      " \n",
      "                    Network Type: 4G VOLTE\n",
      "                    Supported Networks: 4G VoLTE\n",
      "                \n",
      " Battery & Power Features \n",
      " \n",
      "                   Battery Capacity: 5000 mAh\n",
      "                \n",
      " Warranty Summary \n",
      " \n",
      "                   Warranty Summary: 12 months\n"
     ]
    }
   ],
   "source": [
    "# new class create for mobile phone \n",
    "\n",
    "class General :\n",
    "    \n",
    "    def __init__(self, In_The_Box , Model_Number , Model_Name , Color ,Browse_Type ,SIM_Type ,Hybrid_Sim_Slot ,Touchscreen):\n",
    "        \n",
    "        self.In_The_Box = In_The_Box\n",
    "        self.Model_Number = Model_Number\n",
    "        self.Model_Name = Model_Name\n",
    "        self.Color = Color\n",
    "        self.Browse_Type = Browse_Type\n",
    "        self.SIM_Type = SIM_Type\n",
    "        self.Hybrid_Sim_Slot = Hybrid_Sim_Slot\n",
    "        self.Touchscreen = Touchscreen\n",
    "        \n",
    "    def __str__(self) :\n",
    "        return f\"\"\"\n",
    "                   In The Box: {str(self.In_The_Box)}\n",
    "                   Model Number: {str(self.Model_Number)}\n",
    "                   Model Name: {str( self.Model_Name)}\n",
    "                   Color: {str(self.Color)}\n",
    "                   Browse Type: {str(self.Browse_Type)}\n",
    "                   SIM Type: {str( self.SIM_Type)}\n",
    "                   Hybrid Sim Slot: {str(self.Hybrid_Sim_Slot)}\n",
    "                   Touchscreen: {str(self.Touchscreen)}\"\"\"\n",
    "    \n",
    "class Display :\n",
    "    \n",
    "    def __init__(self, Display_Size , Resolution) :\n",
    "        \n",
    "        self.Display_Size = Display_Size\n",
    "        self.Resolution =  Resolution\n",
    "        \n",
    "    def __str__(self):\n",
    "        return f\"\"\"\n",
    "                    Display Size: {str(self.Display_Size)}\n",
    "                    Resolution: {str(self.Resolution)}\"\"\"\n",
    "        \n",
    "class Os:\n",
    "    \n",
    "    def __init__(self, Operating_System , Processor_Core , Primary_Clock_Speed) :\n",
    "        \n",
    "        self.Operating_System = Operating_System\n",
    "        self.Processor_Core = Processor_Core\n",
    "        self.Primary_Clock_Speed =  Primary_Clock_Speed\n",
    "        \n",
    "    def __str__(self) :\n",
    "        \n",
    "        return f\"\"\"\n",
    "                   Operating System: {str(self.Operating_System)}\n",
    "                   Processor Core: {str(self.Processor_Core)}\n",
    "                   Primary Clock Speed: {str(self.Primary_Clock_Speed)}\"\"\"\n",
    "    \n",
    "class Memory :\n",
    "    \n",
    "    def __init__(self , Internal_Storage , RAM , Memory_Card_Slot_Type) :\n",
    "        \n",
    "        self.Internal_Storage = Internal_Storage\n",
    "        self.RAM = RAM\n",
    "        self.Memory_Card_Slot_Type = Memory_Card_Slot_Type\n",
    "        \n",
    "    def __str__(self) :\n",
    "        \n",
    "        return f\"\"\"\n",
    "                   Internal Storage: {str(self.Internal_Storage)}\n",
    "                   RAM: {str(self.RAM)}\n",
    "                   Memory Card Slot Type: {str(self.Memory_Card_Slot_Type)}\"\"\"\n",
    "    \n",
    "class Camera:\n",
    "    \n",
    "    def __init__(self,Primary_Camera , Dual_Camera_Lens) :\n",
    "        \n",
    "        self.Primary_Camera = Primary_Camera\n",
    "        self.Dual_Camera_Lens = Dual_Camera_Lens\n",
    "        \n",
    "    def __str__(self) :\n",
    "        \n",
    "        return f\"\"\"\n",
    "                   Primary Camera: {str(self.Primary_Camera)}\n",
    "                   Dual Camera Lens: {str(self.Dual_Camera_Lens)}\"\"\"\n",
    "    \n",
    "class Connectivity :\n",
    "    \n",
    "    def __init__(self , Network_Type , Supported_Networks):\n",
    "        \n",
    "        self.Network_Type = Network_Type\n",
    "        self.Supported_Networks = Supported_Networks\n",
    "        \n",
    "    def __str__(self) :\n",
    "        return f\"\"\"\n",
    "                    Network Type: {str(self.Network_Type)}\n",
    "                    Supported Networks: {str(self.Supported_Networks)}\"\"\"\n",
    "    \n",
    "class Battery :\n",
    "    \n",
    "    def __init__(self, Battery_Capacity):\n",
    "        \n",
    "        self.Battery_Capacity = Battery_Capacity\n",
    "        \n",
    "    def __str__(self) :\n",
    "        \n",
    "        return f\"\"\"\n",
    "                   Battery Capacity: {str(self.Battery_Capacity)}\"\"\"\n",
    "    \n",
    "\n",
    "class Warranty :\n",
    "    \n",
    "    def __init__(self , Warranty_Summary):\n",
    "        \n",
    "        self.Warranty_Summary = Warranty_Summary\n",
    "        \n",
    "    def __str__(self) :\n",
    "        \n",
    "        return f\"\"\"\n",
    "                   Warranty Summary: {str(self.Warranty_Summary)}\"\"\"\n",
    "    \n",
    "class Phone :\n",
    "    \n",
    "    def __init__(self, General , Display,  Os , Memory , Camera , Connectivity , Battery , Warranty ):\n",
    "        \n",
    "        self.General = General\n",
    "        self.Display = Display\n",
    "        self.Os = Os\n",
    "        self.Memory = Memory\n",
    "        self.Camera = Camera\n",
    "        self.Connectivity = Connectivity\n",
    "        self.Battery = Battery\n",
    "        self.Warranty = Warranty\n",
    "        \n",
    "    def __str__(self):\n",
    "        \n",
    "        return f\"\"\"General \\n {str(self.General)}\n",
    "                \\n Display Features \\n {str( self.Display)}\n",
    "                \\n Os & Processor Features \\n {str(self.Os)}\n",
    "                \\n Memory & Storage Features \\n {str(self.Memory)}\n",
    "                \\n Camera Features \\n {str(self.Camera)}\n",
    "                \\n Connectivity Features \\n {str(self.Connectivity)}\n",
    "                \\n Battery & Power Features \\n {self.Battery}\n",
    "                \\n Warranty Summary \\n {str(self.Warranty)}\"\"\"\n",
    "        \n",
    "        \n",
    "g = General (\"Handset, charger, cable, Sim ejector\" , \"220233L2I\" , \"REDMI 10A\" , \"Sea Blue\" , \"Smartphones\" , \"Dual Sim\" ,\"No\" ,\"YES\")\n",
    "d = Display(\"16.59 cm (6.53 inch)\" , \"1600 x 700$$pixel\")\n",
    "o = Os(\"Android 12.5\" , \"Octa Core\" , \"2.2 GHz\")\n",
    "m = Memory(\"64 GB\" , \"4 GB\" , \"Dedicated Slot\")\n",
    "c = Camera(\"13MP Rear Camera\" , \"Primary Camera\")\n",
    "ce = Connectivity(\"4G VOLTE\" , \"4G VoLTE\")\n",
    "b = Battery (\"5000 mAh\")\n",
    "w = Warranty(\"12 months\")\n",
    "\n",
    "p = Phone(g , d , o ,m ,c , ce , b ,w )\n",
    "\n",
    "print(p)\n",
    "   \n",
    "        \n",
    "        "
   ]
  },
  {
   "cell_type": "code",
   "execution_count": null,
   "id": "9a6e5bb7",
   "metadata": {},
   "outputs": [],
   "source": []
  }
 ],
 "metadata": {
  "kernelspec": {
   "display_name": "Python 3 (ipykernel)",
   "language": "python",
   "name": "python3"
  },
  "language_info": {
   "codemirror_mode": {
    "name": "ipython",
    "version": 3
   },
   "file_extension": ".py",
   "mimetype": "text/x-python",
   "name": "python",
   "nbconvert_exporter": "python",
   "pygments_lexer": "ipython3",
   "version": "3.9.13"
  }
 },
 "nbformat": 4,
 "nbformat_minor": 5
}
