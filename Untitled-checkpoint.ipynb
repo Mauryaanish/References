{
 "cells": [
  {
   "cell_type": "code",
   "execution_count": 20,
   "id": "99eeda1b",
   "metadata": {},
   "outputs": [
    {
     "name": "stdout",
     "output_type": "stream",
     "text": [
      "Data has been successfully written to C:\\Users\\panka\\output5.csv.\n"
     ]
    }
   ],
   "source": [
    "import csv\n",
    "import re\n",
    "\n",
    "# Specify the input and output file paths\n",
    "input_file_path = r\"C:\\Users\\panka\\txt_file.txt\"\n",
    "output_file_path = r'C:\\Users\\panka\\output5.csv'\n",
    "\n",
    "# Define a regular expression pattern to extract the dictionary content\n",
    "pattern = r\"Received:\\s+(\\[{.*}\\])\"\n",
    "\n",
    "# Open the text file and read lines\n",
    "with open(input_file_path, 'r') as file:\n",
    "    content = file.read()\n",
    "\n",
    "# Extract data using regular expression\n",
    "matches = re.findall(pattern, content)\n",
    "\n",
    "# Convert matched strings to dictionaries\n",
    "data = []\n",
    "for match in matches:\n",
    "    try:\n",
    "        received_data = ast.literal_eval(match)\n",
    "        data.append(received_data[0])\n",
    "    except Exception as e:\n",
    "        print(f\"Error processing line: {e}\")\n",
    "\n",
    "# Specify the CSV column headers\n",
    "csv_columns = ['symbol', 'timestamp', 'time_entry']\n",
    "\n",
    "# Write data to CSV file\n",
    "with open(output_file_path, 'w', newline='') as csv_file:\n",
    "    writer = csv.DictWriter(csv_file, fieldnames=csv_columns)\n",
    "    writer.writeheader()\n",
    "    writer.writerows(data)\n",
    "\n",
    "print(f'Data has been successfully written to {output_file_path}.')\n"
   ]
  },
  {
   "cell_type": "code",
   "execution_count": null,
   "id": "36fa92d9",
   "metadata": {},
   "outputs": [],
   "source": []
  },
  {
   "cell_type": "code",
   "execution_count": null,
   "id": "aaba6b64",
   "metadata": {},
   "outputs": [],
   "source": []
  },
  {
   "cell_type": "code",
   "execution_count": null,
   "id": "e4b4d210",
   "metadata": {},
   "outputs": [],
   "source": []
  },
  {
   "cell_type": "code",
   "execution_count": null,
   "id": "da8086aa",
   "metadata": {},
   "outputs": [],
   "source": []
  },
  {
   "cell_type": "code",
   "execution_count": null,
   "id": "d71b781d",
   "metadata": {},
   "outputs": [],
   "source": []
  }
 ],
 "metadata": {
  "kernelspec": {
   "display_name": "Python 3 (ipykernel)",
   "language": "python",
   "name": "python3"
  },
  "language_info": {
   "codemirror_mode": {
    "name": "ipython",
    "version": 3
   },
   "file_extension": ".py",
   "mimetype": "text/x-python",
   "name": "python",
   "nbconvert_exporter": "python",
   "pygments_lexer": "ipython3",
   "version": "3.11.5"
  }
 },
 "nbformat": 4,
 "nbformat_minor": 5
}
