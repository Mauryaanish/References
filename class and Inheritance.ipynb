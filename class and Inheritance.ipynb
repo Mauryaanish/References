{
 "cells": [
  {
   "cell_type": "code",
   "execution_count": 5,
   "id": "dac1b8fe",
   "metadata": {},
   "outputs": [],
   "source": [
    "# This is Single line Inheritance;\n",
    "\n",
    "class Perent :\n",
    "    \n",
    "    def add(self):\n",
    "        print(\"This is A Perent class\")\n",
    "        \n",
    "class Child (Perent) :\n",
    "    \n",
    "    def add1(self):\n",
    "        print(\"This Is a child class\")"
   ]
  },
  {
   "cell_type": "code",
   "execution_count": 2,
   "id": "06fb2d9f",
   "metadata": {},
   "outputs": [],
   "source": [
    "a = Child()"
   ]
  },
  {
   "cell_type": "code",
   "execution_count": 3,
   "id": "7b1cec53",
   "metadata": {},
   "outputs": [
    {
     "name": "stdout",
     "output_type": "stream",
     "text": [
      "This is A Perent class\n"
     ]
    }
   ],
   "source": [
    "a.add()"
   ]
  },
  {
   "cell_type": "code",
   "execution_count": 4,
   "id": "680d7081",
   "metadata": {},
   "outputs": [
    {
     "name": "stdout",
     "output_type": "stream",
     "text": [
      "This Is a child class\n"
     ]
    }
   ],
   "source": [
    "a.add1()"
   ]
  },
  {
   "cell_type": "code",
   "execution_count": 7,
   "id": "41a11d99",
   "metadata": {},
   "outputs": [],
   "source": [
    "# single line Inheritance\n",
    "\n",
    "class Ineuron :\n",
    "    company_website = \"Ineuron67.@gmail.com\"\n",
    "    name = \"Ineuron\"\n",
    "    def contact_detail(self):\n",
    "        print(\"Contact us at\" , self.company_website)\n",
    "        \n",
    "class Datascience(Ineuron) :\n",
    "    \n",
    "    def __init__(self):\n",
    "        self.year_of_establishment = 2003\n",
    "        \n",
    "    def est_details(self):\n",
    "        print(\"est details\" , self.name , self.year_of_establishment)"
   ]
  },
  {
   "cell_type": "code",
   "execution_count": 8,
   "id": "b6795ef9",
   "metadata": {},
   "outputs": [],
   "source": [
    "ds = Datascience()"
   ]
  },
  {
   "cell_type": "code",
   "execution_count": 10,
   "id": "ffb3becf",
   "metadata": {},
   "outputs": [
    {
     "data": {
      "text/plain": [
       "2003"
      ]
     },
     "execution_count": 10,
     "metadata": {},
     "output_type": "execute_result"
    }
   ],
   "source": [
    "ds.year_of_establishment"
   ]
  },
  {
   "cell_type": "code",
   "execution_count": 11,
   "id": "1180f0cc",
   "metadata": {},
   "outputs": [
    {
     "name": "stdout",
     "output_type": "stream",
     "text": [
      "Contact us at Ineuron67.@gmail.com\n"
     ]
    }
   ],
   "source": [
    "ds.contact_detail()"
   ]
  },
  {
   "cell_type": "code",
   "execution_count": 21,
   "id": "c230a75e",
   "metadata": {},
   "outputs": [
    {
     "data": {
      "text/plain": [
       "2003"
      ]
     },
     "execution_count": 21,
     "metadata": {},
     "output_type": "execute_result"
    }
   ],
   "source": [
    "ds.year_of_establishment"
   ]
  },
  {
   "cell_type": "code",
   "execution_count": 22,
   "id": "5656fc96",
   "metadata": {},
   "outputs": [
    {
     "data": {
      "text/plain": [
       "'Ineuron67.@gmail.com'"
      ]
     },
     "execution_count": 22,
     "metadata": {},
     "output_type": "execute_result"
    }
   ],
   "source": [
    "ds.company_website"
   ]
  },
  {
   "cell_type": "code",
   "execution_count": 3,
   "id": "76c08904",
   "metadata": {},
   "outputs": [],
   "source": [
    "# Mutiple inheritance \n",
    "\n",
    "class Perent1:\n",
    "    \n",
    "    def func1(self):\n",
    "        print(\"This is a Perent 1\")\n",
    "        \n",
    "class Perent2 :\n",
    "    \n",
    "    def func2(self):\n",
    "        print(\"This is a Perent 2\")\n",
    "        \n",
    "class Child(Perent1 , Perent2):\n",
    "    \n",
    "    def func3(self) :\n",
    "        print(\"This is a child class\")\n",
    "        "
   ]
  },
  {
   "cell_type": "code",
   "execution_count": 4,
   "id": "ec8350dd",
   "metadata": {},
   "outputs": [],
   "source": [
    "test=Child()"
   ]
  },
  {
   "cell_type": "code",
   "execution_count": 7,
   "id": "7645ca19",
   "metadata": {},
   "outputs": [
    {
     "name": "stdout",
     "output_type": "stream",
     "text": [
      "This is a child class\n"
     ]
    }
   ],
   "source": [
    "test.func3()"
   ]
  },
  {
   "cell_type": "code",
   "execution_count": 9,
   "id": "d1ab5d83",
   "metadata": {},
   "outputs": [
    {
     "name": "stdout",
     "output_type": "stream",
     "text": [
      "This is a Perent 2\n"
     ]
    }
   ],
   "source": [
    "test.func2()"
   ]
  },
  {
   "cell_type": "code",
   "execution_count": 61,
   "id": "3d6d202b",
   "metadata": {},
   "outputs": [],
   "source": [
    "# single line Inheritance\n",
    "\n",
    "class Person:\n",
    "    \n",
    "    def __init__ (self):\n",
    "        self.name = \"Anish\"\n",
    "        self.age = 24\n",
    "        \n",
    "class Emp (Person ) :\n",
    "    \n",
    "    def Detail(self) :\n",
    "        print(\"Emp Name is: \" , self.name , \"And Age is: \" , self.age )"
   ]
  },
  {
   "cell_type": "code",
   "execution_count": 62,
   "id": "b402fad5",
   "metadata": {},
   "outputs": [],
   "source": [
    "p = Emp()"
   ]
  },
  {
   "cell_type": "code",
   "execution_count": 63,
   "id": "aa0043f3",
   "metadata": {},
   "outputs": [
    {
     "name": "stdout",
     "output_type": "stream",
     "text": [
      "Emp Name is:  Anish And Age is:  24\n"
     ]
    }
   ],
   "source": [
    "p.Detail()"
   ]
  },
  {
   "cell_type": "code",
   "execution_count": 77,
   "id": "1b3a6da4",
   "metadata": {},
   "outputs": [],
   "source": [
    "# multible Iheritance\n",
    "\n",
    "class batch_number :\n",
    "    batchnumber = \"\"\n",
    "    def __init__(self , a,b,c):\n",
    "        self.a = a\n",
    "        self.b = b\n",
    "        self.c = c\n",
    "        \n",
    "    def batch(self) :\n",
    "        print(self.batchnumber)\n",
    "        \n",
    "class course_name :\n",
    "    cname = \"\"\n",
    "    def course(self):\n",
    "        print(self.cname)\n",
    "        \n",
    "class Student(batch_number , course_name) :\n",
    "    \n",
    "    def show(self) :\n",
    "        print(\"Btach:\" , self.batchnumber)\n",
    "        print(\"course\" , self.cname)"
   ]
  },
  {
   "cell_type": "code",
   "execution_count": 78,
   "id": "27caba21",
   "metadata": {},
   "outputs": [],
   "source": [
    "s = Student(4,5,6)"
   ]
  },
  {
   "cell_type": "code",
   "execution_count": 79,
   "id": "31099f5d",
   "metadata": {},
   "outputs": [],
   "source": [
    "s.cname = \"data\""
   ]
  },
  {
   "cell_type": "code",
   "execution_count": 80,
   "id": "713c18da",
   "metadata": {},
   "outputs": [],
   "source": [
    "s.batchnumber = 3"
   ]
  },
  {
   "cell_type": "code",
   "execution_count": 81,
   "id": "ff7c0c88",
   "metadata": {
    "scrolled": true
   },
   "outputs": [
    {
     "name": "stdout",
     "output_type": "stream",
     "text": [
      "Btach: 3\n",
      "course data\n"
     ]
    }
   ],
   "source": [
    "s.show()"
   ]
  },
  {
   "cell_type": "code",
   "execution_count": 84,
   "id": "401df42b",
   "metadata": {},
   "outputs": [],
   "source": [
    "# multilevel iheritance\n",
    "\n",
    "class test1:\n",
    "    \n",
    "    def func(self) :\n",
    "        print(\"This is a test1....\")\n",
    "        \n",
    "class test2(test1) :\n",
    "    \n",
    "    def func2(self) :\n",
    "        print(\"This is a test2....\")\n",
    "        \n",
    "class test3(test2) :\n",
    "    \n",
    "    def func3(self) :\n",
    "        print(\"This is a test3...\")"
   ]
  },
  {
   "cell_type": "code",
   "execution_count": 85,
   "id": "01691622",
   "metadata": {},
   "outputs": [],
   "source": [
    "t = test3()"
   ]
  },
  {
   "cell_type": "code",
   "execution_count": 86,
   "id": "44305ad3",
   "metadata": {},
   "outputs": [
    {
     "name": "stdout",
     "output_type": "stream",
     "text": [
      "This is a test3...\n"
     ]
    }
   ],
   "source": [
    "t.func3()"
   ]
  },
  {
   "cell_type": "code",
   "execution_count": 87,
   "id": "a79617bc",
   "metadata": {},
   "outputs": [
    {
     "name": "stdout",
     "output_type": "stream",
     "text": [
      "This is a test2....\n"
     ]
    }
   ],
   "source": [
    "t.func2()"
   ]
  },
  {
   "cell_type": "code",
   "execution_count": 92,
   "id": "495495ea",
   "metadata": {},
   "outputs": [],
   "source": [
    "# multilevel  inheritance\n",
    "\n",
    "class vehicle :\n",
    "    \n",
    "    def info(self):\n",
    "        print(\"Inside Vehicle Info\")\n",
    "        \n",
    "class Car(vehicle):\n",
    "    \n",
    "    def car(self):\n",
    "        print(\"Inside Car class\")\n",
    "        \n",
    "class Sportcar(Car) :\n",
    "    \n",
    "    def sportcar(self):\n",
    "        print(\"Inside Sportcar\")\n",
    "        "
   ]
  },
  {
   "cell_type": "code",
   "execution_count": 93,
   "id": "d1d8ef1d",
   "metadata": {},
   "outputs": [],
   "source": [
    "s = Sportcar()"
   ]
  },
  {
   "cell_type": "code",
   "execution_count": 95,
   "id": "bf4f067a",
   "metadata": {},
   "outputs": [
    {
     "name": "stdout",
     "output_type": "stream",
     "text": [
      "Inside Sportcar\n"
     ]
    }
   ],
   "source": [
    "s.sportcar()"
   ]
  },
  {
   "cell_type": "code",
   "execution_count": 52,
   "id": "6c420d74",
   "metadata": {},
   "outputs": [],
   "source": [
    "# multilevel iheritance\n",
    "\n",
    "class Phone:\n",
    "    \n",
    "    def __init__(self, brand, model, price) :\n",
    "        self.brand = brand\n",
    "        self.model = model\n",
    "        self.price = price\n",
    "        \n",
    "    def specs(self) :\n",
    "        return (\"Brand\" , self.brand , \"Price\" , self.price)\n",
    "    \n",
    "    def typeofphone(self):\n",
    "        if self.price <25000:\n",
    "            return \"This is a Budget Phone\"\n",
    "        else:\n",
    "            return \"This is a Mid Range Phone\"\n",
    "        \n",
    "class Smartphone(Phone):\n",
    "    \n",
    "    def __init__(self, brand, model, price , ram , storage) :\n",
    "        super().__init__(brand , model , price)\n",
    "        self.ram = ram\n",
    "        self.storage = storage\n",
    "        \n",
    "        \n",
    "class Flashiphone(Smartphone):\n",
    "    \n",
    "    def __init__(self, brand, model, price , ram , storage , frontcamera , backcamera , display) :\n",
    "        super().__init__(brand, model, price , ram , storage)\n",
    "        self.frontcamera = frontcamera\n",
    "        self.backcamera = backcamera\n",
    "        self.display = display\n"
   ]
  },
  {
   "cell_type": "code",
   "execution_count": 53,
   "id": "b70d386a",
   "metadata": {},
   "outputs": [],
   "source": [
    "p =Flashiphone(\"Iphone\" , \"13pro\" , 25000 , \"4gb\" , 128 , \"YES\" , \"YES\" , \"YES\")"
   ]
  },
  {
   "cell_type": "code",
   "execution_count": 54,
   "id": "f4a15f8a",
   "metadata": {},
   "outputs": [
    {
     "data": {
      "text/plain": [
       "'YES'"
      ]
     },
     "execution_count": 54,
     "metadata": {},
     "output_type": "execute_result"
    }
   ],
   "source": [
    "p.frontcamera"
   ]
  },
  {
   "cell_type": "code",
   "execution_count": 55,
   "id": "8d4f4d5d",
   "metadata": {},
   "outputs": [
    {
     "data": {
      "text/plain": [
       "('Brand', 'Iphone', 'Price', 25000)"
      ]
     },
     "execution_count": 55,
     "metadata": {},
     "output_type": "execute_result"
    }
   ],
   "source": [
    "p.specs()"
   ]
  },
  {
   "cell_type": "code",
   "execution_count": 127,
   "id": "fd1f1c46",
   "metadata": {},
   "outputs": [],
   "source": [
    "# hierachical inheritance\n",
    "\n",
    "class Vehicle:\n",
    "    def info(self):\n",
    "        print(\"This is a Vehicle\")\n",
    "        \n",
    "class Car(Vehicle) :\n",
    "    \n",
    "    def car_info(self,name):\n",
    "        self.name = name\n",
    "        print(\"car Name\" , self.name)\n",
    "        \n",
    "class Truck(Vehicle):\n",
    "    \n",
    "    def truck_info(self, name):\n",
    "        self.name = name\n",
    "        print(\"Truck Name\" , self.name)"
   ]
  },
  {
   "cell_type": "code",
   "execution_count": 130,
   "id": "7a07b6dd",
   "metadata": {},
   "outputs": [],
   "source": [
    "c = Car()"
   ]
  },
  {
   "cell_type": "code",
   "execution_count": 132,
   "id": "9a37d21c",
   "metadata": {},
   "outputs": [
    {
     "name": "stdout",
     "output_type": "stream",
     "text": [
      "car Name BMW\n"
     ]
    }
   ],
   "source": [
    "c.car_info(\"BMW\")"
   ]
  },
  {
   "cell_type": "code",
   "execution_count": 133,
   "id": "5e8e8500",
   "metadata": {},
   "outputs": [],
   "source": [
    "t = Truck()"
   ]
  },
  {
   "cell_type": "code",
   "execution_count": 134,
   "id": "96bd20a1",
   "metadata": {},
   "outputs": [
    {
     "name": "stdout",
     "output_type": "stream",
     "text": [
      "Truck Name Ego\n"
     ]
    }
   ],
   "source": [
    "t.truck_info(\"Ego\")"
   ]
  },
  {
   "cell_type": "code",
   "execution_count": 135,
   "id": "bc52d339",
   "metadata": {},
   "outputs": [],
   "source": [
    "#Hybrid Inheritance\n",
    "\n",
    "class Vehicle:\n",
    "    def info(self):\n",
    "        print(\"This is a Vehicle\")\n",
    "        \n",
    "class Car(Vehicle) :\n",
    "    \n",
    "    def car_info(self,name):\n",
    "        self.name = name\n",
    "        print(\"car Name\" , self.name)\n",
    "        \n",
    "class Truck(Vehicle):\n",
    "    \n",
    "    def truck_info(self, name):\n",
    "        self.name = name\n",
    "        print(\"Truck Name\" , self.name)\n",
    "        \n",
    "class Sportcar(Car , Vehicle):\n",
    "    \n",
    "    def info(self):\n",
    "        print(\"Inside Sportcar\")"
   ]
  },
  {
   "cell_type": "code",
   "execution_count": 136,
   "id": "4e585658",
   "metadata": {},
   "outputs": [],
   "source": [
    "s  = Sportcar()"
   ]
  },
  {
   "cell_type": "code",
   "execution_count": 138,
   "id": "1f7ce3cb",
   "metadata": {},
   "outputs": [
    {
     "name": "stdout",
     "output_type": "stream",
     "text": [
      "Inside Sportcar\n"
     ]
    }
   ],
   "source": [
    "s.info()"
   ]
  },
  {
   "cell_type": "code",
   "execution_count": 139,
   "id": "6e27f8b2",
   "metadata": {},
   "outputs": [
    {
     "name": "stdout",
     "output_type": "stream",
     "text": [
      "car Name BMW\n"
     ]
    }
   ],
   "source": [
    "s.car_info(\"BMW\")"
   ]
  },
  {
   "cell_type": "code",
   "execution_count": 141,
   "id": "3f0ff8df",
   "metadata": {},
   "outputs": [],
   "source": [
    "## super:\n",
    "\n",
    "# 1. super().  is used when we need to build classes (child class ) that extand the functionality of previously build classes (parent class)\n",
    "\n",
    "# 2. super function in python is used to access method of immediate parent class\n",
    "\n",
    "# 3. when you intialize a child class in python you can call super().__init() method this initilize the parent\n",
    " #  class object into child class"
   ]
  },
  {
   "cell_type": "code",
   "execution_count": 142,
   "id": "0daabf01",
   "metadata": {},
   "outputs": [],
   "source": [
    "# super method\n",
    "\n",
    "class Company:\n",
    "    \n",
    "    def company_name(self):\n",
    "        \n",
    "        return \"ineuron\"\n",
    "    \n",
    "class Employee(Company):\n",
    "    \n",
    "    def info(self):\n",
    "        c_name = super().company_name()\n",
    "        print(\"I work at\" , c_name)"
   ]
  },
  {
   "cell_type": "code",
   "execution_count": 143,
   "id": "94c2d86e",
   "metadata": {},
   "outputs": [],
   "source": [
    "emp =  Employee()"
   ]
  },
  {
   "cell_type": "code",
   "execution_count": 144,
   "id": "7163a977",
   "metadata": {},
   "outputs": [
    {
     "data": {
      "text/plain": [
       "'ineuron'"
      ]
     },
     "execution_count": 144,
     "metadata": {},
     "output_type": "execute_result"
    }
   ],
   "source": [
    "emp.company_name()"
   ]
  },
  {
   "cell_type": "code",
   "execution_count": 145,
   "id": "ec0aebcd",
   "metadata": {},
   "outputs": [
    {
     "name": "stdout",
     "output_type": "stream",
     "text": [
      "I work at ineuron\n"
     ]
    }
   ],
   "source": [
    "emp.info()"
   ]
  },
  {
   "cell_type": "code",
   "execution_count": 146,
   "id": "8e72c750",
   "metadata": {},
   "outputs": [],
   "source": [
    "# super(). method\n",
    "\n",
    "class Parent:\n",
    "    def __init__(self,v1,v2):\n",
    "        self.v1 = v1\n",
    "        self.v2 = v2\n",
    "        \n",
    "class Child (Parent) :\n",
    "    def __init__(self,v1,v2,v3) :\n",
    "        super(). __init__(v1,v2)\n",
    "        self.v3 = v3\n",
    "        "
   ]
  },
  {
   "cell_type": "code",
   "execution_count": 147,
   "id": "fd2da999",
   "metadata": {},
   "outputs": [],
   "source": [
    "c1 = Child(2,3,4)"
   ]
  },
  {
   "cell_type": "code",
   "execution_count": 148,
   "id": "d4d99478",
   "metadata": {},
   "outputs": [
    {
     "data": {
      "text/plain": [
       "3"
      ]
     },
     "execution_count": 148,
     "metadata": {},
     "output_type": "execute_result"
    }
   ],
   "source": [
    "c1.v2"
   ]
  },
  {
   "cell_type": "code",
   "execution_count": 56,
   "id": "998e1b6c",
   "metadata": {},
   "outputs": [],
   "source": [
    "# multiple inheritance\n",
    "\n",
    "class Person:\n",
    "    \n",
    "    def __init__(self):\n",
    "        self.name = \"Anish Maurya\"\n",
    "        self.age = 24\n",
    "        \n",
    "class Company:\n",
    "    \n",
    "    co_name = \"Divya Portfiol Pvt\"\n",
    "    address = \"Gity City\"\n",
    "        \n",
    "    def info(self):\n",
    "        \n",
    "        print(\"Company Name is :\" , self.co_name , \"Company Address is: \", self.address)\n",
    "        \n",
    "class Emp (Person , Company) :\n",
    "    \n",
    "    def Detail(self):\n",
    "        \n",
    "        print(\"Emp Name is: \" , self.name , \"Emp Age is: \" , self.age)\n",
    "        print(\"Company Name: \" , self.co_name , \"Adress: \" , self.address)\n"
   ]
  },
  {
   "cell_type": "code",
   "execution_count": 57,
   "id": "3bac86fe",
   "metadata": {},
   "outputs": [],
   "source": [
    "e = Emp()"
   ]
  },
  {
   "cell_type": "code",
   "execution_count": 3,
   "id": "39386525",
   "metadata": {},
   "outputs": [
    {
     "data": {
      "text/plain": [
       "24"
      ]
     },
     "execution_count": 3,
     "metadata": {},
     "output_type": "execute_result"
    }
   ],
   "source": [
    "e.age"
   ]
  },
  {
   "cell_type": "code",
   "execution_count": 58,
   "id": "5f68b0a4",
   "metadata": {},
   "outputs": [
    {
     "name": "stdout",
     "output_type": "stream",
     "text": [
      "Company Name is : Divya Portfiol Pvt Company Address is:  Gity City\n"
     ]
    }
   ],
   "source": [
    "e.info()"
   ]
  },
  {
   "cell_type": "code",
   "execution_count": 172,
   "id": "9567527a",
   "metadata": {},
   "outputs": [],
   "source": [
    "class test1:\n",
    "    def func1(self):\n",
    "        print(\"This is Test1\")\n",
    "        \n",
    "class test2:\n",
    "    \n",
    "    def func2(self):\n",
    "        print(\"This is Test2\")\n",
    "        \n",
    "class test3(test1 , test2):\n",
    "    \n",
    "    def func3(self):\n",
    "        print(\"This is Test3\")"
   ]
  },
  {
   "cell_type": "code",
   "execution_count": 173,
   "id": "3a578a35",
   "metadata": {},
   "outputs": [],
   "source": [
    "a = test3()"
   ]
  },
  {
   "cell_type": "code",
   "execution_count": 174,
   "id": "917bdab5",
   "metadata": {},
   "outputs": [
    {
     "name": "stdout",
     "output_type": "stream",
     "text": [
      "This is Test3\n"
     ]
    }
   ],
   "source": [
    "a.func3()"
   ]
  },
  {
   "cell_type": "code",
   "execution_count": 5,
   "id": "a44721e0",
   "metadata": {},
   "outputs": [],
   "source": [
    "class Person:\n",
    "    def person_info(self, name, age):\n",
    "        print(\"inside Person class\")\n",
    "        print(\"Name:\" , name , \"Age:\" , age)\n",
    "        \n",
    "class Compnay:\n",
    "    def Company_info(self , company_info , location) :\n",
    "        print(\"Inside Company class\")\n",
    "        print(\"Name:\" , company_info , \"Location\" , location)\n",
    "        \n",
    "class Empo(Person , Company):\n",
    "    def emp_info(self):\n",
    "        print(\"Inside Emp class\")"
   ]
  },
  {
   "cell_type": "code",
   "execution_count": 6,
   "id": "d6fc502a",
   "metadata": {},
   "outputs": [
    {
     "ename": "TypeError",
     "evalue": "__init__() missing 2 required positional arguments: 'co_name' and 'address'",
     "output_type": "error",
     "traceback": [
      "\u001b[1;31m---------------------------------------------------------------------------\u001b[0m",
      "\u001b[1;31mTypeError\u001b[0m                                 Traceback (most recent call last)",
      "\u001b[1;32m~\\AppData\\Local\\Temp\\ipykernel_13488\\2423713292.py\u001b[0m in \u001b[0;36m<module>\u001b[1;34m\u001b[0m\n\u001b[1;32m----> 1\u001b[1;33m \u001b[0ms\u001b[0m \u001b[1;33m=\u001b[0m \u001b[0mEmpo\u001b[0m\u001b[1;33m(\u001b[0m\u001b[1;33m)\u001b[0m\u001b[1;33m\u001b[0m\u001b[1;33m\u001b[0m\u001b[0m\n\u001b[0m",
      "\u001b[1;31mTypeError\u001b[0m: __init__() missing 2 required positional arguments: 'co_name' and 'address'"
     ]
    }
   ],
   "source": [
    "s = Empo()"
   ]
  },
  {
   "cell_type": "code",
   "execution_count": 11,
   "id": "3ecb3f9b",
   "metadata": {},
   "outputs": [],
   "source": [
    "# single line Iheritance\n",
    "\n",
    "class Bio:\n",
    "    \n",
    "    def __init__(self , name , age , address):\n",
    "        \n",
    "        self.name = name\n",
    "        self.age = age\n",
    "        self.address = address\n",
    "        \n",
    "    def info(self):\n",
    "        \n",
    "        print(\"My Name is: \", self.name , \"My age is: \" , self.age , \"Address: \" , self.address)\n",
    "        \n",
    "class Personal(Bio):\n",
    "    \n",
    "    def Who(self):\n",
    "        print(\"This is A my Data\")"
   ]
  },
  {
   "cell_type": "code",
   "execution_count": 12,
   "id": "64849af3",
   "metadata": {},
   "outputs": [],
   "source": [
    "a = Personal(\"Anish\" , 24 , \"Ahmedabd\")"
   ]
  },
  {
   "cell_type": "code",
   "execution_count": 13,
   "id": "ff2aa8c2",
   "metadata": {},
   "outputs": [
    {
     "name": "stdout",
     "output_type": "stream",
     "text": [
      "My Name is:  Anish My age is:  24 Address:  Ahmedabd\n"
     ]
    }
   ],
   "source": [
    "a.info()"
   ]
  },
  {
   "cell_type": "code",
   "execution_count": 14,
   "id": "a0049149",
   "metadata": {},
   "outputs": [
    {
     "name": "stdout",
     "output_type": "stream",
     "text": [
      "This is A my Data\n"
     ]
    }
   ],
   "source": [
    "a.Who()"
   ]
  },
  {
   "cell_type": "code",
   "execution_count": 63,
   "id": "c64a1c32",
   "metadata": {},
   "outputs": [],
   "source": [
    "# Multilevel Iheritance\n",
    "\n",
    "class Mobile:\n",
    "        \n",
    "    def brand_info(self):\n",
    "        self.brand_name = \"Vivo\"\n",
    "        return (\"Company Barnd Name: \" ,self.brand_name)\n",
    "    \n",
    "    \n",
    "class Phone_company(Mobile) :\n",
    "        \n",
    "    def Model_info(self):\n",
    "        self.model = V12\n",
    "        self.price = 15000\n",
    "        self.mfg = Make in India\n",
    "        return (\"Model: \", self.model , \"Price: \" , self.price , \"MFG: \" , self.mfg)\n",
    "        \n",
    "class V25(Phone_company):\n",
    "    \n",
    "    def __init__(self):\n",
    "        self.display = \"LED\"\n",
    "        self.battery = 4500\n",
    "        self.camera = \"35mp\"\n",
    "        \n",
    "    def Specification(self):\n",
    "        return (\"Dispaly: \" , self.display , \"Battery: \" , self.battery , \"Camera: \" , self.camera)\n",
    "    "
   ]
  },
  {
   "cell_type": "code",
   "execution_count": 58,
   "id": "0d1801a2",
   "metadata": {},
   "outputs": [],
   "source": [
    "a = V25()"
   ]
  },
  {
   "cell_type": "code",
   "execution_count": 59,
   "id": "f27342f9",
   "metadata": {},
   "outputs": [
    {
     "data": {
      "text/plain": [
       "('Dispaly: ', 'LED', 'Battery: ', 4500, 'Camera: ', '35mp')"
      ]
     },
     "execution_count": 59,
     "metadata": {},
     "output_type": "execute_result"
    }
   ],
   "source": [
    "a.Specification()"
   ]
  },
  {
   "cell_type": "code",
   "execution_count": 45,
   "id": "48bbebce",
   "metadata": {},
   "outputs": [
    {
     "data": {
      "text/plain": [
       "4500"
      ]
     },
     "execution_count": 45,
     "metadata": {},
     "output_type": "execute_result"
    }
   ],
   "source": [
    "a.battery"
   ]
  },
  {
   "cell_type": "code",
   "execution_count": 60,
   "id": "12332b6b",
   "metadata": {},
   "outputs": [
    {
     "data": {
      "text/plain": [
       "'35mp'"
      ]
     },
     "execution_count": 60,
     "metadata": {},
     "output_type": "execute_result"
    }
   ],
   "source": [
    "a.camera"
   ]
  },
  {
   "cell_type": "code",
   "execution_count": 61,
   "id": "5b4a760f",
   "metadata": {},
   "outputs": [
    {
     "data": {
      "text/plain": [
       "('Company Barnd Name: ', 'Vivo')"
      ]
     },
     "execution_count": 61,
     "metadata": {},
     "output_type": "execute_result"
    }
   ],
   "source": [
    "a.brand_info()"
   ]
  },
  {
   "cell_type": "code",
   "execution_count": 65,
   "id": "5cec627c",
   "metadata": {},
   "outputs": [
    {
     "data": {
      "text/plain": [
       "('Model: ', 'V12', 'Price: ', 15000, 'MFG: ', 'Make in India')"
      ]
     },
     "execution_count": 65,
     "metadata": {},
     "output_type": "execute_result"
    }
   ],
   "source": [
    "a.Model_info()"
   ]
  },
  {
   "cell_type": "code",
   "execution_count": 66,
   "id": "358b1aad",
   "metadata": {},
   "outputs": [
    {
     "data": {
      "text/plain": [
       "15000"
      ]
     },
     "execution_count": 66,
     "metadata": {},
     "output_type": "execute_result"
    }
   ],
   "source": [
    "a.price"
   ]
  },
  {
   "cell_type": "code",
   "execution_count": 79,
   "id": "e02f30bf",
   "metadata": {},
   "outputs": [],
   "source": [
    "class Vehicle : # maltilevel Inheritance\n",
    "    \n",
    "    def __init__(self , Vehicle_Type):\n",
    "        \n",
    "        self.Vehicle_Type = Vehicle_Type\n",
    "\n",
    "class Car (Vehicle):\n",
    "    \n",
    "    def __init__(self, Vehicle_Type , name , price , capicity , engine_type) :\n",
    "        super(). __init__(Vehicle_Type)\n",
    "        self.name = name\n",
    "        self.price = price\n",
    "        self.capicity = capicity\n",
    "        self.engine_type = engine_type\n",
    "        \n",
    "    def car_info (self):\n",
    "        \n",
    "        print(\"Car Name:\" , self.name)\n",
    "        print(\"Car Price : \" , self.price)\n",
    "        print(\"Capicity of car is: \" , self.capicity)\n",
    "        print(\"Which Type Engine use in car: \" , self.engine_type)\n",
    "        \n",
    "\n",
    "class SportCar(Car):\n",
    "    \n",
    "    def __init__(self ,Vehicle_Type , name , price , capicity , engine_type, speed , avg , color):\n",
    "        super(). __init__(Vehicle_Type , name , price , capicity , engine_type)\n",
    "        \n",
    "        self.speed = speed\n",
    "        self.avg = avg\n",
    "        self.color = color\n",
    "        \n",
    "    def Sport_Car_Detail(self):\n",
    "        \n",
    "        print(\"Car Name:\" , self.name)\n",
    "        print(\"Car Price : \" , self.price)\n",
    "        print(\"Capicity of car is: \" , self.capicity)\n",
    "        print(\"Which Type Engine use in car: \" , self.engine_type)\n",
    "        print(\"Speed is: \" , self.speed)\n",
    "        print(\"Average: \" , self.avg)\n",
    "        print(\"Which color use in make the car: \" , self.color)\n",
    "    "
   ]
  },
  {
   "cell_type": "code",
   "execution_count": 80,
   "id": "b15e17f6",
   "metadata": {},
   "outputs": [],
   "source": [
    "a =SportCar(\"XUV\" , \"Thar\" , \"15lac\" , \"5 sheter\" , \"Petrol\" , \"110km\" , \"15km/leter\" , \"Black\" )"
   ]
  },
  {
   "cell_type": "code",
   "execution_count": 82,
   "id": "53040d1d",
   "metadata": {},
   "outputs": [
    {
     "name": "stdout",
     "output_type": "stream",
     "text": [
      "Car Name: Thar\n",
      "Car Price :  15lac\n",
      "Capicity of car is:  5 sheter\n",
      "Which Type Engine use in car:  Petrol\n",
      "Speed is:  110km\n",
      "Average:  15km/leter\n",
      "Which color use in make the car:  Black\n"
     ]
    }
   ],
   "source": [
    "a.Sport_Car_Detail()"
   ]
  },
  {
   "cell_type": "code",
   "execution_count": 83,
   "id": "a7847e75",
   "metadata": {},
   "outputs": [
    {
     "data": {
      "text/plain": [
       "'XUV'"
      ]
     },
     "execution_count": 83,
     "metadata": {},
     "output_type": "execute_result"
    }
   ],
   "source": [
    "a.Vehicle_Type"
   ]
  },
  {
   "cell_type": "code",
   "execution_count": 84,
   "id": "5c5d3f40",
   "metadata": {},
   "outputs": [
    {
     "name": "stdout",
     "output_type": "stream",
     "text": [
      "Car Name: Thar\n",
      "Car Price :  15lac\n",
      "Capicity of car is:  5 sheter\n",
      "Which Type Engine use in car:  Petrol\n"
     ]
    }
   ],
   "source": [
    "a.car_info()"
   ]
  },
  {
   "cell_type": "code",
   "execution_count": 105,
   "id": "7f377d82",
   "metadata": {},
   "outputs": [],
   "source": [
    "class Vehicle: # MULTILEVEL INHERITANCE :\n",
    "    \n",
    "    def __init__(self, vehicle_type):\n",
    "        self.vehicle_type = vehicle_type      \n",
    "        \n",
    "class Car(Vehicle):\n",
    "\n",
    "    def __init__(self,vehicle_type , name , engine_type , fuel_type , fuel_capicity):\n",
    "        \n",
    "        super(). __init__(vehicle_type)\n",
    "        self.name = name\n",
    "        self.engine_type = engine_type\n",
    "        self.fuel_type = fuel_type\n",
    "        self.fuel_capicity = fuel_capicity\n",
    "\n",
    "class SoprtCar(Car):\n",
    "\n",
    "    def __init__(self,vehicle_type , name , engine_type , fuel_type , fuel_capicity , color , city_mileage , seating_capicity , body_type):\n",
    "        super(). __init__(self,vehicle_type , name , engine_type , fuel_type , fuel_capicity)\n",
    "    \n",
    "\n",
    "        self.color = color\n",
    "        self.city_mileage = city_mileage\n",
    "        self.seating_capicity = seating_capicity\n",
    "        self.body_type = body_type\n",
    "\n",
    "    def specs(self):\n",
    "        if self.vehicle_type == \"car\" :\n",
    "            \n",
    "        \n",
    "            print(\"Vehicle Type: \" , self.vehicle_type )\n",
    "            print(\"Car Name: \" , self.name)\n",
    "            print(\"Engine Type: \" , slef.engine_type)\n",
    "            print(\"Fuel Type: \" , self.fuel.type)\n",
    "            print(\"Fuel Capicity: \" ,self.fuel_capicity)\n",
    "            print(\"Color: \" , self.color)\n",
    "            print(\"City Mileage: \" , self.city_mileage)\n",
    "            print(\"Seating Capicity: \", self.seating.capicity)\n",
    "            print(\"Body Type: \" , self.body_type)\n",
    "            print(\"This is a Car Consept\")\n",
    "            \n",
    "           "
   ]
  },
  {
   "cell_type": "code",
   "execution_count": 106,
   "id": "65327301",
   "metadata": {},
   "outputs": [
    {
     "ename": "TypeError",
     "evalue": "__init__() takes 6 positional arguments but 7 were given",
     "output_type": "error",
     "traceback": [
      "\u001b[1;31m---------------------------------------------------------------------------\u001b[0m",
      "\u001b[1;31mTypeError\u001b[0m                                 Traceback (most recent call last)",
      "\u001b[1;32m~\\AppData\\Local\\Temp\\ipykernel_13488\\1913522320.py\u001b[0m in \u001b[0;36m<module>\u001b[1;34m\u001b[0m\n\u001b[1;32m----> 1\u001b[1;33m \u001b[0mv\u001b[0m \u001b[1;33m=\u001b[0m \u001b[0mSoprtCar\u001b[0m\u001b[1;33m(\u001b[0m\u001b[1;34m\"car\"\u001b[0m \u001b[1;33m,\u001b[0m \u001b[1;34m\"Ns200\"\u001b[0m \u001b[1;33m,\u001b[0m \u001b[1;34m\"BS6\"\u001b[0m \u001b[1;33m,\u001b[0m \u001b[1;34m\"Petrol\"\u001b[0m \u001b[1;33m,\u001b[0m \u001b[1;34m\"60km\"\u001b[0m \u001b[1;33m,\u001b[0m \u001b[1;34m\"Blue\"\u001b[0m \u001b[1;33m,\u001b[0m \u001b[1;34m\"55/km\"\u001b[0m \u001b[1;33m,\u001b[0m \u001b[1;34m\"2\"\u001b[0m \u001b[1;33m,\u001b[0m\u001b[1;34m\"iron\"\u001b[0m\u001b[1;33m)\u001b[0m\u001b[1;33m\u001b[0m\u001b[1;33m\u001b[0m\u001b[0m\n\u001b[0m",
      "\u001b[1;32m~\\AppData\\Local\\Temp\\ipykernel_13488\\1624323286.py\u001b[0m in \u001b[0;36m__init__\u001b[1;34m(self, vehicle_type, name, engine_type, fuel_type, fuel_capicity, color, city_mileage, seating_capicity, body_type)\u001b[0m\n\u001b[0;32m     17\u001b[0m \u001b[1;33m\u001b[0m\u001b[0m\n\u001b[0;32m     18\u001b[0m     \u001b[1;32mdef\u001b[0m \u001b[0m__init__\u001b[0m\u001b[1;33m(\u001b[0m\u001b[0mself\u001b[0m\u001b[1;33m,\u001b[0m\u001b[0mvehicle_type\u001b[0m \u001b[1;33m,\u001b[0m \u001b[0mname\u001b[0m \u001b[1;33m,\u001b[0m \u001b[0mengine_type\u001b[0m \u001b[1;33m,\u001b[0m \u001b[0mfuel_type\u001b[0m \u001b[1;33m,\u001b[0m \u001b[0mfuel_capicity\u001b[0m \u001b[1;33m,\u001b[0m \u001b[0mcolor\u001b[0m \u001b[1;33m,\u001b[0m \u001b[0mcity_mileage\u001b[0m \u001b[1;33m,\u001b[0m \u001b[0mseating_capicity\u001b[0m \u001b[1;33m,\u001b[0m \u001b[0mbody_type\u001b[0m\u001b[1;33m)\u001b[0m\u001b[1;33m:\u001b[0m\u001b[1;33m\u001b[0m\u001b[1;33m\u001b[0m\u001b[0m\n\u001b[1;32m---> 19\u001b[1;33m         \u001b[0msuper\u001b[0m\u001b[1;33m(\u001b[0m\u001b[1;33m)\u001b[0m\u001b[1;33m.\u001b[0m \u001b[0m__init__\u001b[0m\u001b[1;33m(\u001b[0m\u001b[0mself\u001b[0m\u001b[1;33m,\u001b[0m\u001b[0mvehicle_type\u001b[0m \u001b[1;33m,\u001b[0m \u001b[0mname\u001b[0m \u001b[1;33m,\u001b[0m \u001b[0mengine_type\u001b[0m \u001b[1;33m,\u001b[0m \u001b[0mfuel_type\u001b[0m \u001b[1;33m,\u001b[0m \u001b[0mfuel_capicity\u001b[0m\u001b[1;33m)\u001b[0m\u001b[1;33m\u001b[0m\u001b[1;33m\u001b[0m\u001b[0m\n\u001b[0m\u001b[0;32m     20\u001b[0m \u001b[1;33m\u001b[0m\u001b[0m\n\u001b[0;32m     21\u001b[0m \u001b[1;33m\u001b[0m\u001b[0m\n",
      "\u001b[1;31mTypeError\u001b[0m: __init__() takes 6 positional arguments but 7 were given"
     ]
    }
   ],
   "source": [
    "v = SoprtCar(\"car\" , \"Ns200\" , \"BS6\" , \"Petrol\" , \"60km\" , \"Blue\" , \"55/km\" , \"2\" ,\"iron\")"
   ]
  },
  {
   "cell_type": "code",
   "execution_count": 121,
   "id": "c29816e7",
   "metadata": {},
   "outputs": [],
   "source": [
    "class Vehicle:\n",
    "    \n",
    "    def __init__(self , vehicle_type):\n",
    "        \n",
    "        self.vehicle_type = vehicle_type\n",
    "        \n",
    "class info(Vehicle):\n",
    "    \n",
    "    def __init__(self, vehicle_type , name , price , fuel_type , color , seating_capicity):\n",
    "        super(). __init__(vehicle_type)\n",
    "        self.name = name\n",
    "        self.price = price\n",
    "        self.fuel_type = fuel_type\n",
    "        self.color = color\n",
    "        self.seating_capicity = seating_capicity\n",
    "        \n",
    "    def spec(self):\n",
    "        if self.vehicle_type == \"Car\" or self.vehicle_type == \"car\" :\n",
    "            \n",
    "            print(\"Specification Of CAR:\")\n",
    "            print(\"Vehicle Type: \" , self.vehicle_type)\n",
    "            print(\"Name: \" , self.name)\n",
    "            print(\"Car Price: \" , self.price)\n",
    "            print(\"Fuel Type: \" , self.fuel_type)\n",
    "            print(\"Car Color: \" , self.color)\n",
    "            print(\"Seating Capisity: \" , self.seating_capicity)\n",
    "                \n",
    "                \n",
    "        elif self.vehicle_type == \"bike\" or self.vehicle_type == \"Bike\":\n",
    "            \n",
    "            print(\"Specification Of BIKE: \")\n",
    "            print(\"Vehicle Type: \" , self.vehicle_type)\n",
    "            print(\"Name: \" , self.name)\n",
    "            print(\"Car Price: \" , self.price)\n",
    "            print(\"Fuel Type: \" , self.fuel_type)\n",
    "            print(\"Car Color: \" , self.color)\n",
    "            print(\"Seating Capisity: \" , self.seating_capicity)\n",
    "            \n",
    "            \n",
    "        else:\n",
    "            \n",
    "            print(\"This Vehicle is not Avilable in Showroom Try After Some time later: \")\n",
    "        \n",
    "        \n",
    "    \n",
    "        \n",
    "    \n",
    "        \n"
   ]
  },
  {
   "cell_type": "code",
   "execution_count": 124,
   "id": "bdea133a",
   "metadata": {},
   "outputs": [],
   "source": [
    "s = info(\"Truck\" , \"BMW\" , \"50LAC\" , \"Petrol\" , \"Black\" , 5)"
   ]
  },
  {
   "cell_type": "code",
   "execution_count": 125,
   "id": "b22448c2",
   "metadata": {},
   "outputs": [
    {
     "name": "stdout",
     "output_type": "stream",
     "text": [
      "This Vehicle is not Avilable in Showroom Try After Some time later: \n"
     ]
    }
   ],
   "source": [
    "s.spec()"
   ]
  },
  {
   "cell_type": "code",
   "execution_count": 127,
   "id": "450c3a71",
   "metadata": {},
   "outputs": [
    {
     "data": {
      "text/plain": [
       "'Petrol'"
      ]
     },
     "execution_count": 127,
     "metadata": {},
     "output_type": "execute_result"
    }
   ],
   "source": [
    "s.fuel_type"
   ]
  },
  {
   "cell_type": "code",
   "execution_count": 171,
   "id": "268a01e6",
   "metadata": {},
   "outputs": [],
   "source": [
    "class Vehicle:\n",
    "    \n",
    "    def __init__(self , vehicle_type):\n",
    "        \n",
    "        self.vehicle_type = vehicle_type\n",
    "        \n",
    "        if self.vehicle_type == \"Bike\" and self.vehicle_type == \"Car\" :\n",
    "        \n",
    "            class info(Vehicle):\n",
    "\n",
    "                def __init__(self, vehicle_type , name , price , fuel_type , color , seating_capicity):\n",
    "                    super(). __init__(vehicle_type)\n",
    "                    self.name = name\n",
    "                    self.price = price\n",
    "                    self.fuel_type = fuel_type\n",
    "                    self.color = color\n",
    "                    self.seating_capicity = seating_capicity\n",
    "\n",
    "                def spec(self):\n",
    "                    if self.vehicle_type == \"Car\" or self.vehicle_type == \"car\" :\n",
    "\n",
    "                        print(\"Specification Of CAR:\")\n",
    "                        print(\"Vehicle Type: \" , self.vehicle_type)\n",
    "                        print(\"Name: \" , self.name)\n",
    "                        print(\"Car Price: \" , self.price)\n",
    "                        print(\"Fuel Type: \" , self.fuel_type)\n",
    "                        print(\"Car Color: \" , self.color)\n",
    "                        print(\"Seating Capisity: \" , self.seating_capicity)\n",
    "\n",
    "\n",
    "                    elif self.vehicle_type == \"bike\" or self.vehicle_type == \"Bike\":\n",
    "\n",
    "                        print(\"Specification Of BIKE1: \")\n",
    "                        print(\"Vehicle Type: \" , self.vehicle_type)\n",
    "                        print(\"Name: \" , self.name)\n",
    "                        print(\"Bike Price: \" , self.price)\n",
    "                        print(\"Fuel Type: \" , self.fuel_type)\n",
    "                        print(\"Bike Color: \" , self.color)\n",
    "                        print(\"Seating Capisity: \" , self.seating_capicity)\n",
    "\n",
    "\n",
    "        else:\n",
    "            print(\"This Vehicle is not Avilable in Showroom Try After Some time later: \")"
   ]
  },
  {
   "cell_type": "code",
   "execution_count": 172,
   "id": "3fff0f2d",
   "metadata": {},
   "outputs": [],
   "source": [
    "s = info(\"Bike\" , \"Ns200\" , \"1LAC\" , \"Petrol\" , \"Black\" , 2)"
   ]
  },
  {
   "cell_type": "code",
   "execution_count": 173,
   "id": "e96055e7",
   "metadata": {},
   "outputs": [
    {
     "name": "stdout",
     "output_type": "stream",
     "text": [
      "Specification Of BIKE: \n",
      "Vehicle Type:  Bike\n",
      "Name:  Ns200\n",
      "Car Price:  1LAC\n",
      "Fuel Type:  Petrol\n",
      "Car Color:  Black\n",
      "Seating Capisity:  2\n"
     ]
    }
   ],
   "source": [
    "s.spec()"
   ]
  },
  {
   "cell_type": "code",
   "execution_count": 174,
   "id": "073b7d2c",
   "metadata": {},
   "outputs": [],
   "source": [
    "v = info(\"Bike\" , \"Ns200\" , \"1LAC\" , \"Petrol\" , \"Black\" , 2)"
   ]
  },
  {
   "cell_type": "code",
   "execution_count": 176,
   "id": "620fefcc",
   "metadata": {},
   "outputs": [
    {
     "name": "stdout",
     "output_type": "stream",
     "text": [
      "Specification Of BIKE: \n",
      "Vehicle Type:  Bike\n",
      "Name:  Ns200\n",
      "Car Price:  1LAC\n",
      "Fuel Type:  Petrol\n",
      "Car Color:  Black\n",
      "Seating Capisity:  2\n"
     ]
    }
   ],
   "source": [
    "v.spec()"
   ]
  },
  {
   "cell_type": "code",
   "execution_count": 71,
   "id": "0ba650f5",
   "metadata": {},
   "outputs": [],
   "source": [
    "# Multiple Inheritance\n",
    "\n",
    "class Mobile:\n",
    "    \n",
    "    def __init__(self):\n",
    "        \n",
    "        self.brand = \"SUMSANG\"\n",
    "        self.brand2 = \"VIVO\"\n",
    "        self.brand3 = \"OPPO\"\n",
    "        \n",
    "    def Brand_Name(self):\n",
    "        print(\":-\" , self.brand)\n",
    "        print(\":-\" , self.brand2)\n",
    "        print(\":-\" , self.brand3)\n",
    "        \n",
    "class SUMSANG(Mobile):\n",
    "    \n",
    "        \n",
    "    model_1 = \"A30\"\n",
    "    model_2 = \"A31\"\n",
    "    model_3 = \"A35\"\n",
    "    model_4 = \"A40\"\n",
    "        \n",
    "    def Sumsung_Model_List(self):\n",
    "        print(\":-\" , self.model_1)\n",
    "        print(\":-\" , self.model_2)\n",
    "        print(\":-\" , self.model_3)\n",
    "        print(\":-\" , self.model_4)\n",
    "        \n",
    "class VIVO(SUMSANG):\n",
    "        \n",
    "    model_5 = \"V25\"\n",
    "    model_6 = \"V26\"\n",
    "    model_7 = \"V30\"\n",
    "    model_8 = \"V25pro\"\n",
    "        \n",
    "    def Vivo_Model_list(self):\n",
    "        \n",
    "        print(\":-\" , self.model_5)\n",
    "        print(\":-\" , self.model_6)\n",
    "        print(\":-\" , self.model_7)\n",
    "        print(\":-\" , self.model_8)\n",
    "        \n",
    "class OPPO(VIVO):\n",
    "   \n",
    "    model_9 = \"F21\"\n",
    "    model_10 = \"F25\"\n",
    "    model_11 = \"F30\"\n",
    "    model_12 = \"F31\"\n",
    "    \n",
    "    def Oppo_Model_List(self):\n",
    "        \n",
    "        print(\":-\" , self.model_9)\n",
    "        print(\":-\" , self.model_10)\n",
    "        print(\":-\" , self.model_11)\n",
    "        print(\":-\" , self.model_12)\n",
    "        \n",
    "    def __init__(self , model_name , display , battery , camera , sim_type , color):\n",
    "        \n",
    "        self.model_name = model_name\n",
    "        self.display = display\n",
    "        self.battery = battery\n",
    "        self.camera = camera\n",
    "        self.sim_type = sim_type\n",
    "        self.color = color\n",
    "        \n",
    "    def Sepc(self):\n",
    "        \n",
    "        print(\"Model Name: \" , self.model_name)\n",
    "        print(\"Display: \" ,self.display)\n",
    "        print(\"Battery: \" , self.battery)\n",
    "        print(\"Camera: \" , self.camera)\n",
    "        print(\"Sim Type: \" , self.sim_type)\n",
    "        print(\"Color: \" , self.color)\n",
    "        \n",
    "        \n",
    "        "
   ]
  },
  {
   "cell_type": "code",
   "execution_count": 72,
   "id": "1227c441",
   "metadata": {},
   "outputs": [],
   "source": [
    "m = OPPO(\"F21\" , \"AMOLED\" , \"4500amh\", \"YES\" , \"Dual Sim\" , \"Dark Black\")"
   ]
  },
  {
   "cell_type": "code",
   "execution_count": 69,
   "id": "a5070bd4",
   "metadata": {},
   "outputs": [
    {
     "name": "stdout",
     "output_type": "stream",
     "text": [
      "Model Name:  F21\n",
      "Display:  AMOLED\n",
      "Battery:  4500amh\n",
      "Camera:  YES\n",
      "Sim Type:  Dual Sim\n",
      "Color:  Dark Black\n"
     ]
    }
   ],
   "source": [
    "m.Sepc()"
   ]
  },
  {
   "cell_type": "code",
   "execution_count": 73,
   "id": "be54fec1",
   "metadata": {},
   "outputs": [
    {
     "name": "stdout",
     "output_type": "stream",
     "text": [
      ":- A30\n",
      ":- A31\n",
      ":- A35\n",
      ":- A40\n"
     ]
    }
   ],
   "source": [
    "m.Sumsung_Model_List()"
   ]
  },
  {
   "cell_type": "code",
   "execution_count": 54,
   "id": "c8d9c745",
   "metadata": {},
   "outputs": [
    {
     "name": "stdout",
     "output_type": "stream",
     "text": [
      ":- V25\n",
      ":- V26\n",
      ":- V30\n",
      ":- V25pro\n"
     ]
    }
   ],
   "source": [
    "m.Vivo_Model_list()"
   ]
  },
  {
   "cell_type": "code",
   "execution_count": 55,
   "id": "e084cb33",
   "metadata": {},
   "outputs": [
    {
     "name": "stdout",
     "output_type": "stream",
     "text": [
      ":- A30\n",
      ":- A31\n",
      ":- A35\n",
      ":- A40\n"
     ]
    }
   ],
   "source": [
    "m.Sumsung_Model_List()"
   ]
  },
  {
   "cell_type": "code",
   "execution_count": 66,
   "id": "2cf27a85",
   "metadata": {},
   "outputs": [
    {
     "name": "stdout",
     "output_type": "stream",
     "text": [
      ":- F21\n",
      ":- F25\n",
      ":- F30\n",
      ":- F31\n"
     ]
    }
   ],
   "source": [
    "m.Oppo_Model_List()"
   ]
  },
  {
   "cell_type": "code",
   "execution_count": 45,
   "id": "7fc33a72",
   "metadata": {},
   "outputs": [],
   "source": [
    "# multiple Inheritance\n",
    "\n",
    "class VIVO:\n",
    "    \n",
    "    def __init__(self):\n",
    "        \n",
    "        self.model_5 = \"V25\"\n",
    "        self.model_6 = \"V26\"\n",
    "        self.model_7 = \"V30\"\n",
    "        self.model_8 = \"V25pro\"\n",
    "        \n",
    "    def Vivo_Model_list(self):\n",
    "        \n",
    "        print(\":-\" , self.model_5)\n",
    "        print(\":-\" , self.model_6)\n",
    "        print(\":-\" , self.model_7)\n",
    "        print(\":-\" , self.model_8)\n",
    "        \n",
    "        \n",
    "class OPPO(VIVO):      \n",
    "    model_9 = \"F21\"\n",
    "    model_10 = \"F25\"\n",
    "    model_11 = \"F30\"\n",
    "    model_12 = \"F31\"\n",
    "    \n",
    "    def Oppo_Model_List(self):\n",
    "        \n",
    "        print(\":-\" , self.model_9)\n",
    "        print(\":-\" , self.model_10)\n",
    "        print(\":-\" , self.model_11)\n",
    "        print(\":-\" , self.model_12)"
   ]
  },
  {
   "cell_type": "code",
   "execution_count": 46,
   "id": "52fcfa01",
   "metadata": {},
   "outputs": [],
   "source": [
    "v = OPPO()"
   ]
  },
  {
   "cell_type": "code",
   "execution_count": 47,
   "id": "5acfa444",
   "metadata": {},
   "outputs": [
    {
     "name": "stdout",
     "output_type": "stream",
     "text": [
      ":- V25\n",
      ":- V26\n",
      ":- V30\n",
      ":- V25pro\n"
     ]
    }
   ],
   "source": [
    "v.Vivo_Model_list()"
   ]
  },
  {
   "cell_type": "code",
   "execution_count": 48,
   "id": "43a433e8",
   "metadata": {},
   "outputs": [
    {
     "name": "stdout",
     "output_type": "stream",
     "text": [
      ":- F21\n",
      ":- F25\n",
      ":- F30\n",
      ":- F31\n"
     ]
    }
   ],
   "source": [
    "v.Oppo_Model_List()"
   ]
  },
  {
   "cell_type": "code",
   "execution_count": 20,
   "id": "e56c75a4",
   "metadata": {},
   "outputs": [],
   "source": [
    "# hireachical Inheritance\n",
    "\n",
    "class Public_Transport:\n",
    "\n",
    "        transport_1 = \"AMTS\"\n",
    "        transport_2 = \"BRTS\"\n",
    "        transport_3 = \"ST\"\n",
    "        \n",
    "        \n",
    "        def Info_of_Public_Transport(self):\n",
    "\n",
    "            print(\":- \" , self.transport_1 )\n",
    "            print(\":- \" ,self.transport_2)\n",
    "            print(\":- \", self.transport_3)\n",
    "        \n",
    "class BRTS(Public_Transport):\n",
    "    \n",
    "    def __init__ (self, bus_type , fuel_type , seating_capisity , color) :\n",
    "        self.bus_type = bus_type\n",
    "        self.fuel_type = fuel_type\n",
    "        self.seating_capisity = seating_capisity\n",
    "        self.color = color\n",
    "        \n",
    "    def BRTS_INFO(self):\n",
    "        \n",
    "        print(\"Bus Type: \" ,self.bus_type)\n",
    "        print(\"Fuel Type: \" , self.fuel_type)\n",
    "        print(\"Seating Capisity: \" , self.seating_capisity)\n",
    "        print(\"Color: \" , self.color)\n",
    "       \n",
    "    \n",
    "\n",
    "class AMTS(Public_Transport) :\n",
    "    \n",
    "    def __init__(self , bus_type , fuel_type , seating_capisity , color):\n",
    "        self.bus_type = bus_type\n",
    "        self.fuel_type = fuel_type\n",
    "        self.seating_capisity = seating_capisity\n",
    "        self.color = color\n",
    "        \n",
    "    def AMTS_INFO(self):\n",
    "        print(\"Bus Type: \" ,self.bus_type)\n",
    "        print(\"Fuel Type: \" , self.fuel_type)\n",
    "        print(\"Seating Capisity: \" , self.seating_capisity)\n",
    "        print(\"Color: \" , self.color)"
   ]
  },
  {
   "cell_type": "code",
   "execution_count": 21,
   "id": "04f60c1b",
   "metadata": {},
   "outputs": [],
   "source": [
    "a = AMTS(\"AC Bus\" , \"Petrol\" , 50 , \"Blue\")"
   ]
  },
  {
   "cell_type": "code",
   "execution_count": 22,
   "id": "743543af",
   "metadata": {},
   "outputs": [
    {
     "name": "stdout",
     "output_type": "stream",
     "text": [
      "Bus Type:  AC Bus\n",
      "Fuel Type:  Petrol\n",
      "Seating Capisity:  50\n",
      "Color:  Blue\n"
     ]
    }
   ],
   "source": [
    "a.AMTS_INFO()"
   ]
  },
  {
   "cell_type": "code",
   "execution_count": 23,
   "id": "a5046546",
   "metadata": {},
   "outputs": [
    {
     "name": "stdout",
     "output_type": "stream",
     "text": [
      ":-  AMTS\n",
      ":-  BRTS\n",
      ":-  ST\n"
     ]
    }
   ],
   "source": [
    "a.Info_of_Public_Transport()"
   ]
  },
  {
   "cell_type": "code",
   "execution_count": 3,
   "id": "9cad54c1",
   "metadata": {},
   "outputs": [],
   "source": [
    "# inheritance hireachical\n",
    "\n",
    "class Mobile():\n",
    "\n",
    "  brand_1 = \"Vivo\"\n",
    "  brand_2 = \"Oppo\"\n",
    "  brand_3 = \"Sumsung\"\n",
    "\n",
    "  def Brand_Name(self):\n",
    "    print(\":-\" , self.brand_1)\n",
    "    print(\":-\" , self.brand_2)\n",
    "    print(\":-\" , self.brand_3)\n",
    "\n",
    "class Vivo(Mobile):\n",
    "\n",
    "  model_1 = \"V20\"\n",
    "  model_2 = \"V21\"\n",
    "  model_3 = \"V25\"\n",
    "  model_4 = \"V25pro\"\n",
    "\n",
    "  def Model_of_Vivo_Name(self):\n",
    "\n",
    "    print(\":-\" , self.model_1)\n",
    "    print(\":-\" , self.model_2)\n",
    "    print(\":-\" , self.model_3)\n",
    "    print(\":-\" , self.model_4)\n",
    "\n",
    "  def __init__(self, model_name , price, display , ram , rom , battery , camera) :\n",
    "\n",
    "    self.model_name = model_name\n",
    "    self.price = price\n",
    "    self.display = display\n",
    "    self.ram = ram\n",
    "    self.rom = rom\n",
    "    self.battery = battery\n",
    "    self.camera = camera\n",
    "\n",
    "\n",
    "  def spec(self):\n",
    "\n",
    "    print(\"Model Name: \" , self.model_name)\n",
    "    print(\"Price: \" , self.price)\n",
    "    print(\"Display: \" , self.display)\n",
    "    print(\"RAM: \" , self.ram)\n",
    "    print(\"ROM\" , self.rom)\n",
    "    print(\"Battery: \" , self.battery)\n",
    "    print(\"Camera: \" , self.camera)\n",
    "\n",
    "\n",
    "class Oppo(Mobile):\n",
    "\n",
    "  model_5 = \"F21\"\n",
    "  model_6 = \"F22\"\n",
    "  model_7 = \"F29\"\n",
    "  model_8 = \"F29pro\"\n",
    "\n",
    "  def Model_of_Oppo_Name(self):\n",
    "\n",
    "    print(\":-\" , self.model_5)\n",
    "    print(\":-\" , self.model_6)\n",
    "    print(\":-\" , self.model_7)\n",
    "    print(\":-\" , self.model_8)\n",
    "\n",
    "  def __init__(self, model_name , price , display , ram , rom , battery , camera) :\n",
    "\n",
    "    self.model_name = model_name\n",
    "    self.price = price\n",
    "    self.display = display\n",
    "    self.ram = ram\n",
    "    self.rom = rom\n",
    "    self.battery = battery\n",
    "    self.camera = camera\n",
    "\n",
    "\n",
    "  def spec(self):\n",
    "\n",
    "    print(\"Model Name: \" , self.model_name)\n",
    "    print(\"Price: \" , self.price)\n",
    "    print(\"Display: \" , self.display)\n",
    "    print(\"RAM: \" , self.ram)\n",
    "    print(\"ROM\" , self.rom)\n",
    "    print(\"Battery: \" , self.battery)\n",
    "    print(\"Camera: \" , self.camera)\n",
    "\n",
    "class Samsung(Oppo) :\n",
    "\n",
    "  model_9 = \"A30\"\n",
    "  model_10 = \"A31\"\n",
    "  model_11 = \"A40\"\n",
    "  model_12 = \"S10\"\n",
    "\n",
    "  def Samsung_Model_Name(self) :\n",
    "\n",
    "    print(\":-\" , self.model_9)\n",
    "    print(\":-\" , self.model_10)\n",
    "    print(\":-\" , self.model_11)\n",
    "    print(\":-\" , self.model_12)\n",
    "\n",
    "  def __init__(self, model_name , price, display , ram , rom , battery , camera) :\n",
    "\n",
    "    self.model_name = model_name\n",
    "    self.price = price\n",
    "    self.display = display\n",
    "    self.ram = ram\n",
    "    self.rom = rom\n",
    "    self.battery = battery\n",
    "    self.camera = camera\n",
    "\n",
    "\n",
    "  def spec(self):\n",
    "\n",
    "    print(\"Model Name: \" , self.model_name)\n",
    "    print(\"Price: \" , self.price)\n",
    "    print(\"Display: \" , self.display)\n",
    "    print(\"RAM: \" , self.ram)\n",
    "    print(\"ROM\" , self.rom)\n",
    "    print(\"Battery: \" , self.battery)\n",
    "    print(\"Camera: \" , self.camera)\n",
    "\n",
    "\n",
    "o = Oppo    (\"F21\" , 20999 , \"AMOLED\" , \"4GB\" , 128 , \"5000mh\" , \"56mp\")\n",
    "v = Vivo    (\"V25\" , 34999 , \"AMOLED\" , \"8GB\" , 512 , \"5500mh\" , \"108mp\")\n",
    "s = Samsung (\"A31\" , 28999 , \"AMOLED\" , \"6GB\" , 128 , \"4500mh\" , \"32mp\")"
   ]
  },
  {
   "cell_type": "code",
   "execution_count": 4,
   "id": "d48154f5",
   "metadata": {},
   "outputs": [
    {
     "name": "stdout",
     "output_type": "stream",
     "text": [
      ":- Vivo\n",
      ":- Oppo\n",
      ":- Sumsung\n"
     ]
    }
   ],
   "source": [
    "o.Brand_Name()"
   ]
  },
  {
   "cell_type": "code",
   "execution_count": 24,
   "id": "acefdf97",
   "metadata": {},
   "outputs": [
    {
     "name": "stdout",
     "output_type": "stream",
     "text": [
      ":- F21\n",
      ":- F22\n",
      ":- F29\n",
      ":- F29pro\n"
     ]
    }
   ],
   "source": [
    "o.Model_of_Oppo_Name()"
   ]
  },
  {
   "cell_type": "code",
   "execution_count": 25,
   "id": "ee939f8e",
   "metadata": {},
   "outputs": [
    {
     "name": "stdout",
     "output_type": "stream",
     "text": [
      ":- V20\n",
      ":- V21\n",
      ":- V25\n",
      ":- V25pro\n"
     ]
    }
   ],
   "source": [
    "v.Model_of_Vivo_Name()"
   ]
  },
  {
   "cell_type": "code",
   "execution_count": 26,
   "id": "62a55cf7",
   "metadata": {},
   "outputs": [
    {
     "name": "stdout",
     "output_type": "stream",
     "text": [
      ":- A30\n",
      ":- A31\n",
      ":- A40\n",
      ":- S10\n"
     ]
    }
   ],
   "source": [
    "s.Samsung_Model_Name()"
   ]
  },
  {
   "cell_type": "code",
   "execution_count": 65,
   "id": "03ac35cd",
   "metadata": {},
   "outputs": [],
   "source": [
    "class Men: # Hybrid Inheritance\n",
    "    \n",
    "    child_1 = \"Top Wear\"\n",
    "    child_2 = \"Bottom Wear\"\n",
    "    child_3 = \"Men Accessories\"\n",
    "    child_4 = \"Men Footwear\"\n",
    "    child_5 = \"Ethnic Wear\"\n",
    "    child_6 = \"Inner & Sleep Wear\"\n",
    "    \n",
    "    \n",
    "    def List_Info(self):\n",
    "        \n",
    "        print(\":-\" , self.child_1)\n",
    "        print(\":-\" , self.child_2)\n",
    "        print(\":-\" , self.child_3)\n",
    "        print(\":-\" , self.child_4)\n",
    "        print(\":-\" , self.child_5)\n",
    "        print(\":-\" , self.child_6)\n",
    "        \n",
    "        \n",
    "class TopWear(Men):\n",
    "    \n",
    "    child_7 = \"All Top Wear\"\n",
    "    child_8 = \"Tshirts\"\n",
    "    child_9 = \"Shirts\"\n",
    "    \n",
    "    def Info(self):\n",
    "        print(\":-\" , self.child_7)\n",
    "        print(\":-\" , self.child_8)\n",
    "        print(\":-\" , self.child_9)\n",
    "        \n",
    "\n",
    "        \n",
    "class AllTopWear(TopWear):\n",
    "    \n",
    "    def __init__(self, brand_name , price_range , size_range , color ):\n",
    "        \n",
    "        self.brand_name = brand_name\n",
    "        self.price_range = price_range\n",
    "        self.size_range = size_range\n",
    "        self.color  = color\n",
    "        \n",
    "    def All_Top_Wear_Info(self):\n",
    "        \n",
    "        print(\"Brand Name : \" , self.brand_name)\n",
    "        print(\"Price Range : \" , self.price_range)\n",
    "        print(\"Size Range :\" , self.size_range)\n",
    "        print(\"Color: \" , self.color)\n",
    "\n",
    "    \n",
    "class Tshirts(AllTopWear):\n",
    "    \n",
    "    def __init__(self , brand_name , price_range , size_range, color):\n",
    "        \n",
    "        self.brand_name = brand_name\n",
    "        self.price_range = price_range\n",
    "        self.size_range = size_range\n",
    "        self.color = color\n",
    "        \n",
    "    def Tshirts_Info(self):\n",
    "        \n",
    "        print(\"Brand Name : \" , self.brand_name)\n",
    "        print(\"Price Range :\" , self.price_range)\n",
    "        print(\"Color :\" , self.color)\n",
    "        print(\"Size Range :\" , self.size_range)\n",
    "        \n",
    "class Shirts(AllTopWear) :\n",
    "    \n",
    "    def __init__(self,brand_name , price_range , size_range , color) :\n",
    "    \n",
    "        self.brand_name  = brand_name\n",
    "        self.price_range = price_range\n",
    "        self.size_range = size_range\n",
    "        self.color = color\n",
    "        \n",
    "    def Shirts_info(self):\n",
    "        \n",
    "        print(\"Brand Name : \" ,self.brand_name)\n",
    "        print(\"Price Range : \" ,self.price_range)\n",
    "        print(\"Size Range : \" ,self.size_range)\n",
    "        print(\"Color : \" ,self.color)\n",
    "        \n",
    "class BottomWear(Men):\n",
    "    \n",
    "    child_10 = \"Track Pants\"\n",
    "    child_11 = \"Jeans\"\n",
    "    child_12 = \"Trousers\"\n",
    "    \n",
    "    def Bottom_Wear_info(self):\n",
    "        \n",
    "        print(\":-\" , self.child_10)\n",
    "        print(\":-\" , self.child_11)\n",
    "        print(\":-\" , self.child_12)\n",
    "        \n",
    "class TrackPants(BottomWear):\n",
    "    \n",
    "    def __init__(self , brand_name , price_range , size_range , color ):\n",
    "        \n",
    "        self.brand_name  = brand_name\n",
    "        self.price_range = price_range\n",
    "        self.size_range = size_range\n",
    "        self.color = color\n",
    "        \n",
    "    def TrackPants_info(self):\n",
    "        \n",
    "        print(\"Brand Name : \" ,self.brand_name)\n",
    "        print(\"Price Range : \" ,self.price_range)\n",
    "        print(\"Size Range : \" ,self.size_range)\n",
    "        print(\"Color : \" ,self.color)\n",
    "        \n",
    "class Jeans(BottomWear):\n",
    "    \n",
    "     def __init__(self , brand_name , price_range , size_range , color ):\n",
    "        \n",
    "        self.brand_name  = brand_name\n",
    "        self.price_range = price_range\n",
    "        self.size_range = size_range\n",
    "        self.color = color\n",
    "        \n",
    "     def Jeans_info(self):\n",
    "        \n",
    "        print(\"Brand Name : \" ,self.brand_name)\n",
    "        print(\"Price Range : \" ,self.price_range)\n",
    "        print(\"Size Range : \" ,self.size_range)\n",
    "        print(\"Color : \" ,self.color)\n",
    "        \n",
    "class Trousers(BottomWear) :\n",
    "    \n",
    "     def __init__(self , brand_name , price_range , size_range , color ):\n",
    "        \n",
    "        self.brand_name  = brand_name\n",
    "        self.price_range = price_range\n",
    "        self.size_range = size_range\n",
    "        self.color = color\n",
    "        \n",
    "     def Trousers_info(self):\n",
    "        \n",
    "        print(\"Brand Name : \" ,self.brand_name)\n",
    "        print(\"Price Range : \" ,self.price_range)\n",
    "        print(\"Size Range : \" ,self.size_range)\n",
    "        print(\"Color : \" ,self.color)\n",
    "\n",
    "class MenAccessories(Men):\n",
    "\n",
    "\n",
    "  child_13 = \"All Men Accessories\"\n",
    "  child_14 = \"Watches\"\n",
    "  child_15 = \"Belts\"\n",
    "  child_16 = \"Wallets\"\n",
    "  child_17 = \"Jewellery\"\n",
    "  child_18 = \"Sunglasses\"\n",
    "  child_19 = \"Beg\"\n",
    "\n",
    "  def Men_Accessories_info(self):\n",
    "\n",
    "     print(\":-\" , self.child_13)\n",
    "     print(\":-\" , self.child_14)\n",
    "     print(\":-\" , self.child_15)\n",
    "     print(\":-\" , self.child_16)\n",
    "     print(\":-\" , self.child_17)\n",
    "     print(\":-\" , self.child_18)\n",
    "     print(\":-\" , self.child_19)\n",
    "    \n",
    "\n",
    "class All_Men_Accessories(MenAccessories):\n",
    "\n",
    "\n",
    "  def __init__(self , brand_name , price_range , size_range , color):\n",
    "\n",
    "    self.brand_name  = brand_name\n",
    "    self.price_range = price_range\n",
    "    self.size_range = size_range\n",
    "    self.color = color\n",
    "        \n",
    "  def All_Men_Accessories_info(self):\n",
    "        \n",
    "        print(\"Brand Name : \" ,self.brand_name)\n",
    "        print(\"Price Range : \" ,self.price_range)\n",
    "        print(\"Size Range : \" ,self.size_range)\n",
    "        print(\"Color : \" ,self.color)\n",
    "\n",
    "class Watches(MenAccessories):\n",
    "\n",
    "  def __init__(self , brand_name , price_range , size_range , color):\n",
    "\n",
    "    self.brand_name  = brand_name\n",
    "    self.price_range = price_range\n",
    "    self.size_range = size_range\n",
    "    self.color = color\n",
    "        \n",
    "  def Watches_info(self):\n",
    "        \n",
    "        print(\"Brand Name : \" ,self.brand_name)\n",
    "        print(\"Price Range : \" ,self.price_range)\n",
    "        print(\"Size Range : \" ,self.size_range)\n",
    "        print(\"Color : \" ,self.color)\n",
    "\n",
    "class Belts(MenAccessories):\n",
    "\n",
    "  def __init__(self , brand_name , price_range , size_range , color):\n",
    "\n",
    "    self.brand_name  = brand_name\n",
    "    self.price_range = price_range\n",
    "    self.size_range = size_range\n",
    "    self.color = color\n",
    "        \n",
    "  def Belts_info(self):\n",
    "        \n",
    "        print(\"Brand Name : \" ,self.brand_name)\n",
    "        print(\"Price Range : \" ,self.price_range)\n",
    "        print(\"Size Range : \" ,self.size_range)\n",
    "        print(\"Color : \" ,self.color)\n",
    "\n",
    "class Wallets(MenAccessories):\n",
    "\n",
    "  def __init__(self , brand_name , price_range , size_range , color):\n",
    "\n",
    "    self.brand_name  = brand_name\n",
    "    self.price_range = price_range\n",
    "    self.size_range = size_range\n",
    "    self.color = color\n",
    "        \n",
    "  def Wallets_info(self):\n",
    "        \n",
    "        print(\"Brand Name : \" ,self.brand_name)\n",
    "        print(\"Price Range : \" ,self.price_range)\n",
    "        print(\"Size Range : \" ,self.size_range)\n",
    "        print(\"Color : \" ,self.color)\n",
    "\n",
    "class Jewellery(MenAccessories):\n",
    "\n",
    "  def __init__(self , brand_name , price_range , size_range , color):\n",
    "\n",
    "    self.brand_name  = brand_name\n",
    "    self.price_range = price_range\n",
    "    self.size_range = size_range\n",
    "    self.color = color\n",
    "        \n",
    "  def Jewwllery_info(self):\n",
    "        \n",
    "        print(\"Brand Name : \" ,self.brand_name)\n",
    "        print(\"Price Range : \" ,self.price_range)\n",
    "        print(\"Size Range : \" ,self.size_range)\n",
    "        print(\"Color : \" ,self.color)\n",
    "              \n",
    "class Sunglasses(MenAccessories) :\n",
    "\n",
    "  def __init__(self , brand_name , price_range , size_range , color):\n",
    "\n",
    "    self.brand_name  = brand_name\n",
    "    self.price_range = price_range\n",
    "    self.size_range = size_range\n",
    "    self.color = color\n",
    "        \n",
    "  def Sunglasses_info(self):\n",
    "        \n",
    "        print(\"Brand Name : \" ,self.brand_name)\n",
    "        print(\"Price Range : \" ,self.price_range)\n",
    "        print(\"Size Range : \" ,self.size_range)\n",
    "        print(\"Color : \" ,self.color)\n",
    "              \n",
    "class Bags(MenAccessories):\n",
    "\n",
    "  def __init__(self , brand_name , price_range , size_range , color):\n",
    "\n",
    "    self.brand_name  = brand_name\n",
    "    self.price_range = price_range\n",
    "    self.size_range = size_range\n",
    "    self.color = color\n",
    "        \n",
    "  def Bags_info(self):\n",
    "        \n",
    "        print(\"Brand Name : \" ,self.brand_name)\n",
    "        print(\"Price Range : \" ,self.price_range)\n",
    "        print(\"Size Range : \" ,self.size_range)\n",
    "        print(\"Color : \" ,self.color)\n",
    "\n",
    "class MenFootwear(Men):\n",
    "\n",
    "  child_20 = \"Casual Shoes\"\n",
    "  child_21 = \"Sports Shoes\"\n",
    "  child_22 = \"Sandals\"\n",
    "  child_23 = \"Formal Shoes\"\n",
    "\n",
    "  def Men_Footwear_info(self):\n",
    "\n",
    "    print(\":-\" , self.child_20)\n",
    "    print(\":-\" , self.child_21)\n",
    "    print(\":-\" , self.child_22)\n",
    "    print(\":-\" , self.child_23)\n",
    "\n",
    "class CasualShoes(MenFootwear):\n",
    "   \n",
    "  def __init__(self , brand_name , price_range , size_range , colors):\n",
    "\n",
    "    self.brand_name = brand_name\n",
    "    self.price_range = price_range\n",
    "    self.size_range = size_range\n",
    "    self.colors = colors\n",
    "\n",
    "  def Casual_Shoes_Info(self):\n",
    "\n",
    "    print(\"Brand Name: \" , self.brand_name)\n",
    "    print(\"Price Range: \" , self.price_range)\n",
    "    print(\"Size Range: \" , self.size_range)\n",
    "    print(\"Colors: \" , self.colors)\n",
    "\n",
    "\n",
    "class SportsShoes(MenFootwear):\n",
    "\n",
    "  def __init__(self , brand_name , price_range , size_range , colors):\n",
    "\n",
    "    self.brand_name = brand_name\n",
    "    self.price_range = price_range\n",
    "    self.size_range = size_range\n",
    "    self.colors = colors\n",
    "\n",
    "  def Sports_Shoes_Info(self):\n",
    "\n",
    "    print(\"Brand Name: \" , self.brand_name)\n",
    "    print(\"Price Range: \" , self.price_range)\n",
    "    print(\"Size Range: \" , self.size_range)\n",
    "    print(\"Colors: \" , self.colors)\n",
    "\n",
    "\n",
    "class Sandals(MenFootwear):\n",
    "\n",
    "  def __init__(self , brand_name , price_range , size_range , colors):\n",
    "\n",
    "    self.brand_name = brand_name\n",
    "    self.price_range = price_range\n",
    "    self.size_range = size_range\n",
    "    self.colors = colors\n",
    "\n",
    "\n",
    "  def Sandals_Info(self):\n",
    "\n",
    "     print(\"Brand Name: \" , self.brand_name)\n",
    "     print(\"Price Range: \" , self.price_range)\n",
    "     print(\"Size Range: \" , self.size_range)\n",
    "     print(\"Colors: \" , self.colors)\n",
    "\n",
    "\n",
    "class FormalShoes(MenFootwear):\n",
    "\n",
    "  def __init__(self , brand_name , price_range , size_range , colors):\n",
    "\n",
    "    self.brand_name = brand_name\n",
    "    self.price_range = price_range\n",
    "    self.size_range = size_range\n",
    "    self.colors = colors\n",
    "\n",
    "  def Formal_Shoes_Info(self):\n",
    "\n",
    "    print(\"Brand Name: \" , self.brand_name)\n",
    "    print(\"Price Range: \" , self.price_range)\n",
    "    print(\"Size Range: \" , self.size_range)\n",
    "    print(\"Colors: \" , self.colors)\n",
    "\n",
    "  \n",
    "class EthnicWear(Men):\n",
    "\n",
    "  child_24 = \"Men Kurtas\"\n",
    "  child_25 = \"Ethnic Jackets\"\n",
    "\n",
    "  def EthnicWear_Info(self):\n",
    "\n",
    "    print(\":-\" , self.child_24)\n",
    "    print(\":-\" , self.child_25)\n",
    "\n",
    "\n",
    "class MenKurtas(EthnicWear):\n",
    "\n",
    "  def __init__(self , brand_name , price_range , size_range , colors):\n",
    "\n",
    "    self.brand_name = brand_name\n",
    "    self.price_range = price_range\n",
    "    self.size_range = size_range\n",
    "    self.colors = colors\n",
    "\n",
    "  def Men_Kurtas_Info(self):\n",
    "\n",
    "    print(\"Brand Name: \" , self.brand_name)\n",
    "    print(\"Price Range: \" , self.price_range)\n",
    "    print(\"Size Range: \" , self.size_range)\n",
    "    print(\"Colors: \" , self.colors)\n",
    "\n",
    "class EthnicJackets(EthnicWear):\n",
    "\n",
    "  def __init__(self , brand_name , price_range , size_range , colors):\n",
    "\n",
    "    self.brand_name = brand_name\n",
    "    self.price_range = price_range\n",
    "    self.size_range = size_range\n",
    "    self.colors = colors\n",
    "\n",
    "  def Ethnic_Jackets_Info(self):\n",
    "\n",
    "    print(\"Brand Name: \" , self.brand_name)\n",
    "    print(\"Price Range: \" , self.price_range)\n",
    "    print(\"Size Range: \" , self.size_range)\n",
    "    print(\"Colors: \" , self.colors)\n",
    "\n",
    "\n",
    "class Inner_SleepWear(Men):\n",
    "\n",
    "  child_26 = \"All Inner & Sleep Wear\"\n",
    "  child_27 = \"Vests\"\n",
    "\n",
    "  def Inner_Sleep_Wear_info(self):\n",
    "\n",
    "    print(\":-\" , self.child_26)\n",
    "    print(\":-\" , self.child_27)\n",
    "\n",
    "\n",
    "class All_Inner_Sleep_Wear(Inner_SleepWear):\n",
    "\n",
    "  def __init__(self , brand_name , price_range , size_range , colors):\n",
    "\n",
    "    self.brand_name = brand_name\n",
    "    self.price_range = price_range\n",
    "    self.size_range = size_range\n",
    "    self.colors = colors\n",
    "\n",
    "  def All_Inner_Sleep_Wear_Info(self):\n",
    "\n",
    "    print(\"Brand Name: \" , self.brand_name)\n",
    "    print(\"Price Range: \" , self.price_range)\n",
    "    print(\"Size Range: \" , self.size_range)\n",
    "    print(\"Colors: \" , self.colors)\n",
    "\n",
    "class Vests(Inner_SleepWear):\n",
    "\n",
    "  def __init__(self , brand_name , price_range , size_range , colors):\n",
    "\n",
    "    self.brand_name = brand_name\n",
    "    self.price_range = price_range\n",
    "    self.size_range = size_range\n",
    "    self.colors = colors\n",
    "\n",
    "  def Vests_Info(self):\n",
    "\n",
    "    print(\"Brand Name: \" , self.brand_name)\n",
    "    print(\"Price Range: \" , self.price_range)\n",
    "    print(\"Size Range: \" , self.size_range)\n",
    "    print(\"Colors: \" , self.colors)\n",
    "\n",
    "\n",
    "men = Men()\n",
    "AllTopWear = AllTopWear(\"[Tshirts , Shirts] \" , \"499 To 8999\" , \"M To XXL\" ,\"[Black , Blue , Red , Pink]\" )\n",
    "Tshirts=Tshirts(\"[Nike , Puma , Zara , Adidas]\" , \"999 To 4999\" , \"M To XXL\" ,\"[Black , Blue , Red , Pink]\")\n",
    "Shirts=Shirts(\"[Nike , Puma , Petter England , Adidas]\" , \"999 To 8999\" , \"M To XXL\" ,\"[Black , Blue , Red , Pink]\")\n",
    "\n",
    "TrackPants = TrackPants(\"[Nike , Puma  ]\" , \"899 To 3999\" ,\"[28 , 30 , 32 , 34 , 36]\" , \"[Dark Black , Light Blue , Sky Blue , Nevi Blue]\")\n",
    "Jeans = Jeans(\"[Levis , Wrangler , Lee ,Spykar ]\" , \"1599 To 6999\" ,\"[28 , 30 , 32 , 34 , 36]\" , \"[Dark Black , Light Blue , Sky Blue , Nevi Blue]\")\n",
    "Trousers = Trousers(\"[Peter England ,Pepe Jeans , Allen Solly ,Arrow]\" , \"3990 To 12350\" , \"[28, 30, 32, 34, 36]\" , \"[Dark Black , Light Blue , Sky Blue , Nevy Blue]\")\n",
    "\n",
    "\n",
    "AllMenAccessories = All_Men_Accessories(\"[Watch , Wallets , Belts ]\" , \"399 To 1599\" , \"Any Size\" , \"All Color Available\")\n",
    "Watche = Watches(\"[Titan , Timex , Casio , Tissot]\" , \"4990 To 30900\" , \"All Available\" , \"Black And Blue\")\n",
    "Belt = Belts(\"[BULCHEE , CROSS , FASTRACK ]\" , \"2599 To 3500\" , \"Standerd Size\" , \"Black\")\n",
    "Wallet = Wallets(\"[Leather , D&G ]\" , \"799 To 1599\" , \"Men Size\" , \"Black And Blue\")\n",
    "Jewellery = Jewellery(\"[Beslet , Ring , Chain]\" , \"1549 To 2000\" , \"Standerd Size\" , \"Standerd Color\")\n",
    "Sunglasses = Sunglasses(\"[Nike , Addidas]\" , \"399 To , 890\", \"Men Size\" , \"Blck And Red\")\n",
    "Bag = Bags(\"[Puma , Nike , D&G]\" , \"1200 To 3690\" , \"Regular Size\" , \"All Color Available\")\n",
    "\n",
    "Casualshoes = CasualShoes(\"[Bata , Spark , Adidas , Nike , Puma]\" , \"1290 To 6500\" , \"[8,9,10,11]\" , \"All Available\")\n",
    "Sportsshoes = SportsShoes(\"[Nike Adidas , Puma]\" , \"2544 To 5900\" , \"[8,9,10,11]\" , \"All Available\")\n",
    "Sandal = Sandals(\"[Campus , Nike , Vkc , Bata]\" , \"1299 To 2599\" , \"[6,7,8,9,10,11,12]\" , \"Standerd Color \")\n",
    "Formalshoes = FormalShoes(\"[Clarks, Hush Puppies, Lee Cooper , Red Tape]\" , \"5999 To 25000\" , \"[8,9,10,11,12]\" , \"Black And Brown\") \n",
    "\n",
    "Menkurta = MenKurtas(\"[Peter England , Manyavar , Ben Martin , Twist]\" , \"2590 To 8991\" , \"[M , L , XL , XXL]\" , \"Blue\")\n",
    "Ethnic = EthnicJackets(\"[Raymond, Petter England]\" , \"9999 To 15999\" , \"[M , L , XL , XXL]\" , \"Black And Pink\")\n",
    "\n",
    "AllInner = All_Inner_Sleep_Wear(\"[Puma , Nike]\" , \"1290 To 2600\" , \"All Size\" , \"Black\")\n",
    "Vest = Vests(\"Puma\" , \"599 To 1299\" , \"All Size\" , \"White And Red\")"
   ]
  },
  {
   "cell_type": "code",
   "execution_count": 54,
   "id": "75edb549",
   "metadata": {},
   "outputs": [
    {
     "name": "stdout",
     "output_type": "stream",
     "text": [
      "Brand Name:  Puma\n",
      "Price Range:  599 To 1299\n",
      "Size Range:  All Size\n",
      "Colors:  White And Red\n"
     ]
    }
   ],
   "source": [
    "Vest.Vests_Info()"
   ]
  },
  {
   "cell_type": "code",
   "execution_count": 56,
   "id": "57c28258",
   "metadata": {},
   "outputs": [
    {
     "name": "stdout",
     "output_type": "stream",
     "text": [
      ":- Top Wear\n",
      ":- Bottom Wear\n",
      ":- Men Accessories\n",
      ":- Men Footwear\n",
      ":- Ethnic Wear\n",
      ":- Inner & Sleep Wear\n"
     ]
    }
   ],
   "source": [
    "men.List_Info()"
   ]
  },
  {
   "cell_type": "code",
   "execution_count": 58,
   "id": "82d75627",
   "metadata": {},
   "outputs": [
    {
     "name": "stdout",
     "output_type": "stream",
     "text": [
      "Brand Name :  [Tshirts , Shirts] \n",
      "Price Range :  499 To 8999\n",
      "Size Range : M To XXL\n",
      "Color:  [Black , Blue , Red , Pink]\n"
     ]
    }
   ],
   "source": [
    "AllTopWear.All_Top_Wear_Info()"
   ]
  },
  {
   "cell_type": "code",
   "execution_count": 59,
   "id": "2ce0f33b",
   "metadata": {},
   "outputs": [
    {
     "name": "stdout",
     "output_type": "stream",
     "text": [
      "Brand Name :  [Puma , Nike , D&G]\n",
      "Price Range :  1200 To 3690\n",
      "Size Range :  Regular Size\n",
      "Color :  All Color Available\n"
     ]
    }
   ],
   "source": [
    "Bag.Bags_info()"
   ]
  },
  {
   "cell_type": "code",
   "execution_count": 60,
   "id": "e691d024",
   "metadata": {},
   "outputs": [
    {
     "name": "stdout",
     "output_type": "stream",
     "text": [
      "Brand Name :  [Leather , D&G ]\n",
      "Price Range :  799 To 1599\n",
      "Size Range :  Men Size\n",
      "Color :  Black And Blue\n"
     ]
    }
   ],
   "source": [
    "Wallet.Wallets_info()"
   ]
  },
  {
   "cell_type": "code",
   "execution_count": 63,
   "id": "633044e7",
   "metadata": {},
   "outputs": [
    {
     "name": "stdout",
     "output_type": "stream",
     "text": [
      "Brand Name:  [Campus , Nike , Vkc , Bata]\n",
      "Price Range:  1299 To 2599\n",
      "Size Range:  [6,7,8,9,10,11,12]\n",
      "Colors:  Standerd Color \n"
     ]
    }
   ],
   "source": [
    "Sandal.Sandals_Info()"
   ]
  },
  {
   "cell_type": "code",
   "execution_count": 66,
   "id": "232d63fd",
   "metadata": {},
   "outputs": [
    {
     "name": "stdout",
     "output_type": "stream",
     "text": [
      "Brand Name:  [Peter England , Manyavar , Ben Martin , Twist]\n",
      "Price Range:  2590 To 8991\n",
      "Size Range:  [M , L , XL , XXL]\n",
      "Colors:  Blue\n"
     ]
    }
   ],
   "source": [
    "Menkurta.Men_Kurtas_Info()"
   ]
  },
  {
   "cell_type": "code",
   "execution_count": 67,
   "id": "6c8fd11c",
   "metadata": {},
   "outputs": [
    {
     "name": "stdout",
     "output_type": "stream",
     "text": [
      ":- All Men Accessories\n",
      ":- Watches\n",
      ":- Belts\n",
      ":- Wallets\n",
      ":- Jewellery\n",
      ":- Sunglasses\n",
      ":- Beg\n"
     ]
    }
   ],
   "source": [
    "Sunglasses.Men_Accessories_info()"
   ]
  },
  {
   "cell_type": "code",
   "execution_count": 68,
   "id": "57008446",
   "metadata": {},
   "outputs": [
    {
     "name": "stdout",
     "output_type": "stream",
     "text": [
      "Brand Name :  [Nike , Addidas]\n",
      "Price Range :  399 To , 890\n",
      "Size Range :  Men Size\n",
      "Color :  Blck And Red\n"
     ]
    }
   ],
   "source": [
    "Sunglasses.Sunglasses_info()"
   ]
  },
  {
   "cell_type": "code",
   "execution_count": 73,
   "id": "93e8daef",
   "metadata": {},
   "outputs": [
    {
     "name": "stdout",
     "output_type": "stream",
     "text": [
      "Brand Name:  [Nike Adidas , Puma]\n",
      "Price Range:  2544 To 5900\n",
      "Size Range:  [8,9,10,11]\n",
      "Colors:  All Available\n"
     ]
    }
   ],
   "source": [
    "Sportsshoes.Sports_Shoes_Info()"
   ]
  },
  {
   "cell_type": "code",
   "execution_count": 74,
   "id": "1fb2c262",
   "metadata": {},
   "outputs": [
    {
     "name": "stdout",
     "output_type": "stream",
     "text": [
      "Brand Name :  [Titan , Timex , Casio , Tissot]\n",
      "Price Range :  4990 To 30900\n",
      "Size Range :  All Available\n",
      "Color :  Black And Blue\n"
     ]
    }
   ],
   "source": [
    "Watche.Watches_info()"
   ]
  },
  {
   "cell_type": "code",
   "execution_count": null,
   "id": "314fbed4",
   "metadata": {},
   "outputs": [],
   "source": []
  }
 ],
 "metadata": {
  "kernelspec": {
   "display_name": "Python 3 (ipykernel)",
   "language": "python",
   "name": "python3"
  },
  "language_info": {
   "codemirror_mode": {
    "name": "ipython",
    "version": 3
   },
   "file_extension": ".py",
   "mimetype": "text/x-python",
   "name": "python",
   "nbconvert_exporter": "python",
   "pygments_lexer": "ipython3",
   "version": "3.9.13"
  }
 },
 "nbformat": 4,
 "nbformat_minor": 5
}
