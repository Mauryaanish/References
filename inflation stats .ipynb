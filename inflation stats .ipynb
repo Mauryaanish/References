{
 "cells": [
  {
   "cell_type": "code",
   "execution_count": 1,
   "id": "b6702687",
   "metadata": {},
   "outputs": [],
   "source": [
    "import numpy as np\n",
    "from statistics import mode\n",
    "import seaborn as sns\n",
    "import warnings\n",
    "warnings.simplefilter(action='ignore', category=FutureWarning)\n"
   ]
  },
  {
   "cell_type": "code",
   "execution_count": 2,
   "id": "be3c13a1",
   "metadata": {},
   "outputs": [],
   "source": [
    "population = np.random.randint(10,20,50)"
   ]
  },
  {
   "cell_type": "code",
   "execution_count": 3,
   "id": "4fa15b69",
   "metadata": {},
   "outputs": [
    {
     "data": {
      "text/plain": [
       "array([16, 14, 10, 12, 11, 18, 11, 10, 19, 13, 18, 13, 18, 19, 10, 14, 14,\n",
       "       14, 15, 19, 13, 15, 19, 17, 10, 10, 17, 12, 17, 14, 13, 18, 10, 16,\n",
       "       18, 12, 17, 13, 13, 12, 12, 12, 13, 12, 13, 18, 18, 10, 19, 13])"
      ]
     },
     "execution_count": 3,
     "metadata": {},
     "output_type": "execute_result"
    }
   ],
   "source": [
    "population"
   ]
  },
  {
   "cell_type": "code",
   "execution_count": 4,
   "id": "1e1d3d3b",
   "metadata": {},
   "outputs": [
    {
     "data": {
      "text/plain": [
       "14.28"
      ]
     },
     "execution_count": 4,
     "metadata": {},
     "output_type": "execute_result"
    }
   ],
   "source": [
    "np.mean(population)"
   ]
  },
  {
   "cell_type": "code",
   "execution_count": 5,
   "id": "120c4c5c",
   "metadata": {},
   "outputs": [
    {
     "data": {
      "text/plain": [
       "13.5"
      ]
     },
     "execution_count": 5,
     "metadata": {},
     "output_type": "execute_result"
    }
   ],
   "source": [
    "np.median(population)"
   ]
  },
  {
   "cell_type": "code",
   "execution_count": 6,
   "id": "4c49003c",
   "metadata": {},
   "outputs": [
    {
     "data": {
      "text/plain": [
       "13"
      ]
     },
     "execution_count": 6,
     "metadata": {},
     "output_type": "execute_result"
    }
   ],
   "source": [
    "mode(population)"
   ]
  },
  {
   "cell_type": "code",
   "execution_count": 7,
   "id": "3f063bc0",
   "metadata": {},
   "outputs": [
    {
     "name": "stdout",
     "output_type": "stream",
     "text": [
      "Population Mean is 14.28\n",
      "Population Median is 13.5\n",
      "Population Mode is 13\n"
     ]
    }
   ],
   "source": [
    "print(f\"Population Mean is {np.mean(population)}\")\n",
    "print(f\"Population Median is {np.median(population)}\")\n",
    "print(f\"Population Mode is {mode(population)}\")"
   ]
  },
  {
   "cell_type": "code",
   "execution_count": 8,
   "id": "9fd472b8",
   "metadata": {},
   "outputs": [],
   "source": [
    "sample = np.random.choice(population , 20)"
   ]
  },
  {
   "cell_type": "code",
   "execution_count": 9,
   "id": "a22f5970",
   "metadata": {},
   "outputs": [
    {
     "data": {
      "text/plain": [
       "array([13, 19, 16, 10, 10, 18, 10, 19, 13, 18, 10, 19, 17, 18, 11, 18, 19,\n",
       "       13, 10, 10])"
      ]
     },
     "execution_count": 9,
     "metadata": {},
     "output_type": "execute_result"
    }
   ],
   "source": [
    "sample"
   ]
  },
  {
   "cell_type": "code",
   "execution_count": 10,
   "id": "eddc7c4d",
   "metadata": {},
   "outputs": [
    {
     "name": "stdout",
     "output_type": "stream",
     "text": [
      "Mean of the Sample 14.55\n",
      "Median of the sample 14.5\n",
      "Mode of the sample 10\n"
     ]
    }
   ],
   "source": [
    "print(f\"Mean of the Sample {np.mean(sample)}\")\n",
    "print(f\"Median of the sample {np.median(sample)}\")\n",
    "print(f\"Mode of the sample {mode(sample)}\")"
   ]
  },
  {
   "cell_type": "code",
   "execution_count": 11,
   "id": "f4a63131",
   "metadata": {},
   "outputs": [],
   "source": [
    "sample1 = np.random.choice(population , 20)\n",
    "sample2 = np.random.choice(population , 20)\n",
    "sample3 = np.random.choice(population , 20)\n",
    "sample4 = np.random.choice(population , 20)"
   ]
  },
  {
   "cell_type": "code",
   "execution_count": 12,
   "id": "c447a26a",
   "metadata": {},
   "outputs": [
    {
     "name": "stdout",
     "output_type": "stream",
     "text": [
      "[18 12 19 17 18 10 18 11 12 17 11 11 19 12 15 15 12 10 16 18]\n",
      "============================================================\n",
      "[12 12 19 18 11 14 17 17 19 12 19 13 18 10 14 18 17 18 14 17]\n",
      "============================================================\n",
      "[10 10 13 18 12 19 18 15 13 10 10 18 15 17 10 16 14 10 13 18]\n",
      "============================================================\n",
      "[13 12 18 17 14 15 19 17 13 18 17 10 17 19 14 18 18 14 12 13]\n"
     ]
    }
   ],
   "source": [
    "print(sample1)\n",
    "print(60*\"=\")\n",
    "print(sample2)\n",
    "print(60*\"=\")\n",
    "print(sample3)\n",
    "print(60*\"=\")\n",
    "print(sample4)"
   ]
  },
  {
   "cell_type": "code",
   "execution_count": 13,
   "id": "d4bc6cb9",
   "metadata": {},
   "outputs": [],
   "source": [
    "all_sample = [sample1 ,sample2 , sample3 , sample4]\n",
    "mean_of_sample = []\n",
    "median_of_sample = []\n",
    "mode_of_sample = []\n",
    "\n",
    "for sample in all_sample:\n",
    "    mean_of_sample.append(np.mean(sample))\n",
    "    median_of_sample.append(np.median(sample))\n",
    "    mode_of_sample.append(mode(sample))"
   ]
  },
  {
   "cell_type": "code",
   "execution_count": 14,
   "id": "0e5165bc",
   "metadata": {},
   "outputs": [
    {
     "name": "stdout",
     "output_type": "stream",
     "text": [
      "[14.55, 15.45, 13.95, 15.4]\n",
      "[15.0, 17.0, 13.5, 16.0]\n",
      "[18, 18, 10, 18]\n"
     ]
    }
   ],
   "source": [
    "print(mean_of_sample)\n",
    "print(median_of_sample)\n",
    "print(mode_of_sample)"
   ]
  },
  {
   "cell_type": "markdown",
   "id": "26c93f4f",
   "metadata": {},
   "source": [
    "# central limit theoram"
   ]
  },
  {
   "cell_type": "code",
   "execution_count": 15,
   "id": "5942a42a",
   "metadata": {},
   "outputs": [],
   "source": [
    "population = np.random.binomial(10,0.5,10000)"
   ]
  },
  {
   "cell_type": "code",
   "execution_count": 16,
   "id": "82e1446a",
   "metadata": {},
   "outputs": [
    {
     "data": {
      "text/plain": [
       "array([6, 3, 4, ..., 8, 2, 5])"
      ]
     },
     "execution_count": 16,
     "metadata": {},
     "output_type": "execute_result"
    }
   ],
   "source": [
    "population"
   ]
  },
  {
   "cell_type": "code",
   "execution_count": 17,
   "id": "b6a61c8f",
   "metadata": {},
   "outputs": [
    {
     "data": {
      "text/plain": [
       "10000"
      ]
     },
     "execution_count": 17,
     "metadata": {},
     "output_type": "execute_result"
    }
   ],
   "source": [
    "len(population)"
   ]
  },
  {
   "cell_type": "code",
   "execution_count": 18,
   "id": "e8d9094e",
   "metadata": {},
   "outputs": [
    {
     "data": {
      "text/plain": [
       "<AxesSubplot:ylabel='Density'>"
      ]
     },
     "execution_count": 18,
     "metadata": {},
     "output_type": "execute_result"
    },
    {
     "data": {
      "image/png": "[encoded data removed]",
      "text/plain": [
       "<Figure size 640x480 with 1 Axes>"
      ]
     },
     "metadata": {},
     "output_type": "display_data"
    }
   ],
   "source": [
    "sns.distplot(population)"
   ]
  },
  {
   "cell_type": "code",
   "execution_count": 19,
   "id": "9e1b3bb7",
   "metadata": {},
   "outputs": [
    {
     "data": {
      "text/plain": [
       "3000"
      ]
     },
     "execution_count": 19,
     "metadata": {},
     "output_type": "execute_result"
    }
   ],
   "source": [
    "int(len(population)*0.3)"
   ]
  },
  {
   "cell_type": "code",
   "execution_count": 20,
   "id": "25eb6810",
   "metadata": {},
   "outputs": [],
   "source": [
    "size = int(len(population)*0.3)"
   ]
  },
  {
   "cell_type": "code",
   "execution_count": 21,
   "id": "0e3416de",
   "metadata": {},
   "outputs": [],
   "source": [
    "sample_mean = []\n",
    "\n",
    "for i in range(1 , 31):\n",
    "    sample = np.random.choice(population , size = size)\n",
    "    sample_mean.append(np.mean(sample))"
   ]
  },
  {
   "cell_type": "code",
   "execution_count": 22,
   "id": "db8d4374",
   "metadata": {},
   "outputs": [
    {
     "data": {
      "text/plain": [
       "[5.029,\n",
       " 5.004333333333333,\n",
       " 5.0103333333333335,\n",
       " 5.007,\n",
       " 4.996666666666667,\n",
       " 5.041333333333333,\n",
       " 5.046,\n",
       " 4.986,\n",
       " 5.033666666666667,\n",
       " 5.004,\n",
       " 5.022666666666667,\n",
       " 5.007,\n",
       " 4.971,\n",
       " 5.015333333333333,\n",
       " 4.951333333333333,\n",
       " 4.998666666666667,\n",
       " 5.013333333333334,\n",
       " 4.997333333333334,\n",
       " 4.976333333333334,\n",
       " 4.983666666666666,\n",
       " 4.946,\n",
       " 4.991333333333333,\n",
       " 5.003666666666667,\n",
       " 4.980333333333333,\n",
       " 5.027666666666667,\n",
       " 5.01,\n",
       " 4.951666666666667,\n",
       " 5.0296666666666665,\n",
       " 4.983333333333333,\n",
       " 5.0376666666666665]"
      ]
     },
     "execution_count": 22,
     "metadata": {},
     "output_type": "execute_result"
    }
   ],
   "source": [
    "sample_mean"
   ]
  },
  {
   "cell_type": "code",
   "execution_count": 23,
   "id": "b864ee04",
   "metadata": {},
   "outputs": [
    {
     "data": {
      "text/plain": [
       "<AxesSubplot:ylabel='Density'>"
      ]
     },
     "execution_count": 23,
     "metadata": {},
     "output_type": "execute_result"
    },
    {
     "data": {
      "image/png": "[encoded data removed]",
      "text/plain": [
       "<Figure size 640x480 with 1 Axes>"
      ]
     },
     "metadata": {},
     "output_type": "display_data"
    }
   ],
   "source": [
    "sns.distplot(sample_mean)"
   ]
  },
  {
   "cell_type": "code",
   "execution_count": 24,
   "id": "52d74e53",
   "metadata": {},
   "outputs": [],
   "source": [
    "sample_mean = []\n",
    "\n",
    "for i in range(1 , 101):\n",
    "    sample = np.random.choice(population , size = size)\n",
    "    sample_mean.append(np.mean(sample))"
   ]
  },
  {
   "cell_type": "code",
   "execution_count": 25,
   "id": "da040bef",
   "metadata": {},
   "outputs": [
    {
     "data": {
      "text/plain": [
       "[5.019,\n",
       " 4.955,\n",
       " 5.077333333333334,\n",
       " 4.953333333333333,\n",
       " 5.01,\n",
       " 5.026666666666666,\n",
       " 4.968333333333334,\n",
       " 4.959,\n",
       " 5.0136666666666665,\n",
       " 4.979,\n",
       " 4.906666666666666,\n",
       " 5.033333333333333,\n",
       " 4.984,\n",
       " 4.903666666666667,\n",
       " 4.992333333333334,\n",
       " 5.016666666666667,\n",
       " 4.988666666666667,\n",
       " 4.974666666666667,\n",
       " 5.023666666666666,\n",
       " 4.944,\n",
       " 5.0343333333333335,\n",
       " 4.979333333333333,\n",
       " 5.0103333333333335,\n",
       " 4.985333333333333,\n",
       " 5.007333333333333,\n",
       " 5.009,\n",
       " 5.017333333333333,\n",
       " 5.035666666666667,\n",
       " 5.0023333333333335,\n",
       " 4.956666666666667,\n",
       " 4.974,\n",
       " 4.979,\n",
       " 4.95,\n",
       " 4.986,\n",
       " 4.981333333333334,\n",
       " 4.9623333333333335,\n",
       " 4.938666666666666,\n",
       " 4.943666666666667,\n",
       " 4.975666666666666,\n",
       " 5.014333333333333,\n",
       " 5.000666666666667,\n",
       " 5.039666666666666,\n",
       " 4.968,\n",
       " 5.003666666666667,\n",
       " 4.977333333333333,\n",
       " 5.027,\n",
       " 4.960333333333334,\n",
       " 4.969666666666667,\n",
       " 5.000666666666667,\n",
       " 4.9623333333333335,\n",
       " 5.017666666666667,\n",
       " 4.968666666666667,\n",
       " 4.999,\n",
       " 5.016666666666667,\n",
       " 5.029333333333334,\n",
       " 4.993333333333333,\n",
       " 5.008333333333334,\n",
       " 5.008333333333334,\n",
       " 4.957,\n",
       " 5.005,\n",
       " 4.937666666666667,\n",
       " 5.001,\n",
       " 4.977,\n",
       " 5.012666666666667,\n",
       " 4.980333333333333,\n",
       " 5.005,\n",
       " 5.006333333333333,\n",
       " 5.007666666666666,\n",
       " 4.979,\n",
       " 5.003333333333333,\n",
       " 4.9736666666666665,\n",
       " 5.069,\n",
       " 4.977333333333333,\n",
       " 4.948,\n",
       " 4.9816666666666665,\n",
       " 4.948666666666667,\n",
       " 5.02,\n",
       " 5.004666666666667,\n",
       " 4.979,\n",
       " 4.949333333333334,\n",
       " 4.988666666666667,\n",
       " 4.995666666666667,\n",
       " 4.958333333333333,\n",
       " 5.009666666666667,\n",
       " 4.997333333333334,\n",
       " 4.993,\n",
       " 4.977333333333333,\n",
       " 4.986666666666666,\n",
       " 4.918666666666667,\n",
       " 5.003666666666667,\n",
       " 4.991,\n",
       " 4.983666666666666,\n",
       " 4.976333333333334,\n",
       " 4.973333333333334,\n",
       " 4.939333333333333,\n",
       " 4.973333333333334,\n",
       " 5.017666666666667,\n",
       " 4.942666666666667,\n",
       " 5.021333333333334,\n",
       " 5.040333333333334]"
      ]
     },
     "execution_count": 25,
     "metadata": {},
     "output_type": "execute_result"
    }
   ],
   "source": [
    "sample_mean"
   ]
  },
  {
   "cell_type": "code",
   "execution_count": 26,
   "id": "ec5f0f6b",
   "metadata": {},
   "outputs": [
    {
     "data": {
      "text/plain": [
       "<AxesSubplot:ylabel='Density'>"
      ]
     },
     "execution_count": 26,
     "metadata": {},
     "output_type": "execute_result"
    },
    {
     "data": {
      "image/png": "[encoded data removed]",
      "text/plain": [
       "<Figure size 640x480 with 1 Axes>"
      ]
     },
     "metadata": {},
     "output_type": "display_data"
    }
   ],
   "source": [
    "sns.distplot(sample_mean)"
   ]
  },
  {
   "cell_type": "code",
   "execution_count": 27,
   "id": "b802e77c",
   "metadata": {},
   "outputs": [],
   "source": [
    "sample_mean = []\n",
    "\n",
    "for i in range(1 , 501):\n",
    "    sample = np.random.choice(population , size = size)\n",
    "    sample_mean.append(np.mean(sample))"
   ]
  },
  {
   "cell_type": "code",
   "execution_count": 28,
   "id": "b0172991",
   "metadata": {},
   "outputs": [
    {
     "data": {
      "text/plain": [
       "[4.950666666666667,\n",
       " 4.966666666666667,\n",
       " 5.011,\n",
       " 4.951,\n",
       " 5.0343333333333335,\n",
       " 4.9896666666666665,\n",
       " 5.027333333333333,\n",
       " 4.996333333333333,\n",
       " 4.992,\n",
       " 4.9896666666666665,\n",
       " 4.976666666666667,\n",
       " 4.954666666666666,\n",
       " 4.969666666666667,\n",
       " 4.9863333333333335,\n",
       " 4.966666666666667,\n",
       " 5.037333333333334,\n",
       " 4.988,\n",
       " 4.983,\n",
       " 4.972,\n",
       " 4.985,\n",
       " 5.008666666666667,\n",
       " 4.971,\n",
       " 4.955333333333333,\n",
       " 5.010666666666666,\n",
       " 5.0473333333333334,\n",
       " 4.947,\n",
       " 5.0713333333333335,\n",
       " 4.9736666666666665,\n",
       " 4.963333333333333,\n",
       " 4.989,\n",
       " 4.956666666666667,\n",
       " 4.994,\n",
       " 4.9783333333333335,\n",
       " 4.943,\n",
       " 4.993666666666667,\n",
       " 4.982666666666667,\n",
       " 4.968333333333334,\n",
       " 4.979,\n",
       " 4.996666666666667,\n",
       " 4.973333333333334,\n",
       " 4.995666666666667,\n",
       " 4.946666666666666,\n",
       " 5.03,\n",
       " 5.033333333333333,\n",
       " 4.997333333333334,\n",
       " 5.010666666666666,\n",
       " 4.943,\n",
       " 4.951333333333333,\n",
       " 4.966666666666667,\n",
       " 5.015666666666666,\n",
       " 4.966333333333333,\n",
       " 4.989333333333334,\n",
       " 5.050666666666666,\n",
       " 5.016666666666667,\n",
       " 4.998,\n",
       " 4.969333333333333,\n",
       " 4.972666666666667,\n",
       " 4.959333333333333,\n",
       " 5.0183333333333335,\n",
       " 4.980666666666667,\n",
       " 4.984666666666667,\n",
       " 4.976333333333334,\n",
       " 5.0216666666666665,\n",
       " 5.053333333333334,\n",
       " 5.003,\n",
       " 4.947333333333333,\n",
       " 4.968,\n",
       " 4.949666666666666,\n",
       " 4.995,\n",
       " 5.008,\n",
       " 4.984333333333334,\n",
       " 4.992666666666667,\n",
       " 4.963,\n",
       " 4.929666666666667,\n",
       " 5.015333333333333,\n",
       " 4.99,\n",
       " 4.96,\n",
       " 4.958666666666667,\n",
       " 5.012333333333333,\n",
       " 4.947,\n",
       " 4.953,\n",
       " 5.042333333333334,\n",
       " 5.006,\n",
       " 5.032333333333334,\n",
       " 4.9383333333333335,\n",
       " 5.004,\n",
       " 4.970666666666666,\n",
       " 4.945666666666667,\n",
       " 4.93,\n",
       " 5.065666666666667,\n",
       " 4.9816666666666665,\n",
       " 5.003333333333333,\n",
       " 5.007333333333333,\n",
       " 5.01,\n",
       " 4.988,\n",
       " 4.959666666666666,\n",
       " 5.017,\n",
       " 5.008333333333334,\n",
       " 4.937666666666667,\n",
       " 4.993666666666667,\n",
       " 5.038666666666667,\n",
       " 5.014666666666667,\n",
       " 5.0183333333333335,\n",
       " 5.002666666666666,\n",
       " 5.053333333333334,\n",
       " 4.982666666666667,\n",
       " 4.997333333333334,\n",
       " 4.985333333333333,\n",
       " 4.986666666666666,\n",
       " 5.002666666666666,\n",
       " 5.021,\n",
       " 4.955666666666667,\n",
       " 5.002666666666666,\n",
       " 4.961333333333333,\n",
       " 4.946666666666666,\n",
       " 5.020666666666667,\n",
       " 5.019333333333333,\n",
       " 4.991333333333333,\n",
       " 5.013333333333334,\n",
       " 5.032,\n",
       " 4.985666666666667,\n",
       " 4.964,\n",
       " 4.950666666666667,\n",
       " 4.9896666666666665,\n",
       " 4.983,\n",
       " 4.963,\n",
       " 4.9656666666666665,\n",
       " 4.991,\n",
       " 4.970666666666666,\n",
       " 4.9816666666666665,\n",
       " 4.980666666666667,\n",
       " 5.008666666666667,\n",
       " 4.955,\n",
       " 5.016666666666667,\n",
       " 4.969,\n",
       " 5.025,\n",
       " 4.995666666666667,\n",
       " 4.9623333333333335,\n",
       " 5.015,\n",
       " 5.050333333333334,\n",
       " 4.964333333333333,\n",
       " 4.983333333333333,\n",
       " 4.969333333333333,\n",
       " 4.998,\n",
       " 4.998333333333333,\n",
       " 5.042333333333334,\n",
       " 4.933333333333334,\n",
       " 5.010666666666666,\n",
       " 5.0023333333333335,\n",
       " 4.957,\n",
       " 5.03,\n",
       " 4.928333333333334,\n",
       " 4.953666666666667,\n",
       " 4.932666666666667,\n",
       " 4.995333333333333,\n",
       " 4.9896666666666665,\n",
       " 4.974333333333333,\n",
       " 4.968333333333334,\n",
       " 4.974,\n",
       " 5.047666666666666,\n",
       " 5.027333333333333,\n",
       " 4.958666666666667,\n",
       " 4.963,\n",
       " 5.031333333333333,\n",
       " 5.0376666666666665,\n",
       " 5.039333333333333,\n",
       " 4.992,\n",
       " 5.017666666666667,\n",
       " 4.984666666666667,\n",
       " 5.003,\n",
       " 5.003333333333333,\n",
       " 4.995333333333333,\n",
       " 4.972666666666667,\n",
       " 4.992333333333334,\n",
       " 4.9783333333333335,\n",
       " 4.979666666666667,\n",
       " 4.970666666666666,\n",
       " 5.055,\n",
       " 4.9943333333333335,\n",
       " 5.023,\n",
       " 4.969666666666667,\n",
       " 5.022333333333333,\n",
       " 4.975333333333333,\n",
       " 5.036,\n",
       " 5.028333333333333,\n",
       " 4.972333333333333,\n",
       " 4.982,\n",
       " 4.921333333333333,\n",
       " 4.983666666666666,\n",
       " 5.007333333333333,\n",
       " 4.952333333333334,\n",
       " 5.005,\n",
       " 4.994,\n",
       " 5.021,\n",
       " 5.019333333333333,\n",
       " 4.952333333333334,\n",
       " 4.986666666666666,\n",
       " 5.0136666666666665,\n",
       " 4.998,\n",
       " 5.014,\n",
       " 4.967,\n",
       " 4.983666666666666,\n",
       " 4.983333333333333,\n",
       " 4.960666666666667,\n",
       " 5.039,\n",
       " 4.998666666666667,\n",
       " 4.979666666666667,\n",
       " 4.963,\n",
       " 5.003666666666667,\n",
       " 4.949,\n",
       " 4.971,\n",
       " 4.985333333333333,\n",
       " 4.9656666666666665,\n",
       " 4.944333333333334,\n",
       " 5.018,\n",
       " 5.004,\n",
       " 5.019333333333333,\n",
       " 4.963,\n",
       " 4.989333333333334,\n",
       " 4.979,\n",
       " 4.989333333333334,\n",
       " 4.989333333333334,\n",
       " 4.9896666666666665,\n",
       " 5.041666666666667,\n",
       " 4.973,\n",
       " 4.997,\n",
       " 4.949666666666666,\n",
       " 5.000666666666667,\n",
       " 4.976,\n",
       " 5.039,\n",
       " 4.986,\n",
       " 4.945333333333333,\n",
       " 4.937,\n",
       " 5.029,\n",
       " 4.972666666666667,\n",
       " 5.015666666666666,\n",
       " 5.027666666666667,\n",
       " 5.029,\n",
       " 4.987,\n",
       " 5.018666666666666,\n",
       " 5.010666666666666,\n",
       " 5.012,\n",
       " 5.035,\n",
       " 4.963333333333333,\n",
       " 4.979,\n",
       " 4.998,\n",
       " 5.008333333333334,\n",
       " 4.9543333333333335,\n",
       " 4.943333333333333,\n",
       " 5.016,\n",
       " 4.959666666666666,\n",
       " 4.961,\n",
       " 5.001,\n",
       " 5.025,\n",
       " 4.956666666666667,\n",
       " 4.967,\n",
       " 4.983666666666666,\n",
       " 4.991333333333333,\n",
       " 4.997333333333334,\n",
       " 4.956333333333333,\n",
       " 4.911666666666667,\n",
       " 4.943,\n",
       " 4.994666666666666,\n",
       " 4.953333333333333,\n",
       " 5.043,\n",
       " 4.960333333333334,\n",
       " 4.9863333333333335,\n",
       " 5.011333333333333,\n",
       " 4.996,\n",
       " 4.942333333333333,\n",
       " 4.971,\n",
       " 4.958,\n",
       " 4.932666666666667,\n",
       " 5.035,\n",
       " 4.958,\n",
       " 5.016333333333334,\n",
       " 4.968,\n",
       " 5.04,\n",
       " 5.016,\n",
       " 5.0216666666666665,\n",
       " 4.958666666666667,\n",
       " 5.035666666666667,\n",
       " 5.0216666666666665,\n",
       " 4.96,\n",
       " 4.972,\n",
       " 4.9863333333333335,\n",
       " 4.942,\n",
       " 4.982,\n",
       " 5.019333333333333,\n",
       " 5.0103333333333335,\n",
       " 4.972333333333333,\n",
       " 4.984333333333334,\n",
       " 5.018,\n",
       " 4.989333333333334,\n",
       " 4.991,\n",
       " 4.967666666666666,\n",
       " 4.996666666666667,\n",
       " 5.038333333333333,\n",
       " 4.958,\n",
       " 4.9896666666666665,\n",
       " 4.972,\n",
       " 5.0263333333333335,\n",
       " 4.9463333333333335,\n",
       " 4.944,\n",
       " 5.014666666666667,\n",
       " 4.987333333333333,\n",
       " 5.028666666666667,\n",
       " 4.983666666666666,\n",
       " 4.957666666666666,\n",
       " 4.936,\n",
       " 5.019333333333333,\n",
       " 4.995,\n",
       " 4.977666666666667,\n",
       " 4.995333333333333,\n",
       " 5.014666666666667,\n",
       " 5.007666666666666,\n",
       " 4.975,\n",
       " 4.989,\n",
       " 5.005333333333334,\n",
       " 4.980333333333333,\n",
       " 5.021333333333334,\n",
       " 4.980333333333333,\n",
       " 4.988333333333333,\n",
       " 4.985666666666667,\n",
       " 5.012,\n",
       " 4.999333333333333,\n",
       " 4.991666666666666,\n",
       " 5.047,\n",
       " 5.025,\n",
       " 4.939333333333333,\n",
       " 4.997,\n",
       " 5.046666666666667,\n",
       " 4.999333333333333,\n",
       " 5.0183333333333335,\n",
       " 5.025666666666667,\n",
       " 4.916,\n",
       " 4.948333333333333,\n",
       " 4.940666666666667,\n",
       " 4.945333333333333,\n",
       " 4.964333333333333,\n",
       " 4.990666666666667,\n",
       " 4.965,\n",
       " 5.031333333333333,\n",
       " 5.020333333333333,\n",
       " 5.002666666666666,\n",
       " 5.007333333333333,\n",
       " 4.952333333333334,\n",
       " 4.955333333333333,\n",
       " 4.972333333333333,\n",
       " 4.992666666666667,\n",
       " 4.939,\n",
       " 4.979,\n",
       " 4.958666666666667,\n",
       " 4.950666666666667,\n",
       " 4.956666666666667,\n",
       " 5.004,\n",
       " 4.972333333333333,\n",
       " 5.001666666666667,\n",
       " 5.057333333333333,\n",
       " 4.946,\n",
       " 4.948666666666667,\n",
       " 4.992,\n",
       " 4.996333333333333,\n",
       " 5.000666666666667,\n",
       " 5.004333333333333,\n",
       " 4.957666666666666,\n",
       " 4.996666666666667,\n",
       " 4.962666666666666,\n",
       " 5.008333333333334,\n",
       " 5.029,\n",
       " 4.907666666666667,\n",
       " 4.980666666666667,\n",
       " 5.023333333333333,\n",
       " 5.001666666666667,\n",
       " 4.995333333333333,\n",
       " 5.014,\n",
       " 4.989,\n",
       " 4.99,\n",
       " 5.0056666666666665,\n",
       " 5.022333333333333,\n",
       " 4.989333333333334,\n",
       " 5.008666666666667,\n",
       " 4.967333333333333,\n",
       " 4.96,\n",
       " 5.025333333333333,\n",
       " 5.017,\n",
       " 5.033666666666667,\n",
       " 4.968333333333334,\n",
       " 4.973333333333334,\n",
       " 4.957333333333334,\n",
       " 4.989333333333334,\n",
       " 4.978,\n",
       " 5.004333333333333,\n",
       " 4.978,\n",
       " 5.008666666666667,\n",
       " 4.968333333333334,\n",
       " 5.012,\n",
       " 5.039333333333333,\n",
       " 5.007666666666666,\n",
       " 4.944333333333334,\n",
       " 5.049,\n",
       " 4.960333333333334,\n",
       " 4.960333333333334,\n",
       " 5.018,\n",
       " 4.958,\n",
       " 4.993666666666667,\n",
       " 4.929666666666667,\n",
       " 5.022,\n",
       " 5.048666666666667,\n",
       " 4.999,\n",
       " 4.969666666666667,\n",
       " 5.023666666666666,\n",
       " 4.98,\n",
       " 4.951,\n",
       " 5.017333333333333,\n",
       " 4.971,\n",
       " 5.006666666666667,\n",
       " 5.043333333333333,\n",
       " 4.983333333333333,\n",
       " 4.958666666666667,\n",
       " 4.995333333333333,\n",
       " 4.979666666666667,\n",
       " 4.984333333333334,\n",
       " 5.015666666666666,\n",
       " 5.019666666666667,\n",
       " 4.987,\n",
       " 5.006,\n",
       " 4.978666666666666,\n",
       " 4.9943333333333335,\n",
       " 5.061333333333334,\n",
       " 4.978,\n",
       " 5.091333333333333,\n",
       " 5.012333333333333,\n",
       " 4.979,\n",
       " 5.023,\n",
       " 5.017333333333333,\n",
       " 4.979666666666667,\n",
       " 4.995666666666667,\n",
       " 5.040666666666667,\n",
       " 4.993333333333333,\n",
       " 4.977666666666667,\n",
       " 4.9863333333333335,\n",
       " 5.01,\n",
       " 4.974,\n",
       " 5.044666666666667,\n",
       " 5.008,\n",
       " 5.039,\n",
       " 4.986,\n",
       " 5.033,\n",
       " 5.019333333333333,\n",
       " 4.986666666666666,\n",
       " 4.987666666666667,\n",
       " 5.004333333333333,\n",
       " 4.966,\n",
       " 5.012,\n",
       " 4.975333333333333,\n",
       " 4.99,\n",
       " 5.023333333333333,\n",
       " 4.966666666666667,\n",
       " 4.992666666666667,\n",
       " 4.992,\n",
       " 4.976666666666667,\n",
       " 5.001,\n",
       " 5.022,\n",
       " 5.002,\n",
       " 5.017,\n",
       " 4.967666666666666,\n",
       " 5.024333333333334,\n",
       " 5.017333333333333,\n",
       " 4.998333333333333,\n",
       " 5.008,\n",
       " 5.008,\n",
       " 5.032333333333334,\n",
       " 5.025666666666667,\n",
       " 4.989333333333334,\n",
       " 5.001,\n",
       " 5.0056666666666665,\n",
       " 4.972333333333333,\n",
       " 5.004,\n",
       " 5.006,\n",
       " 5.005,\n",
       " 4.979,\n",
       " 5.022,\n",
       " 4.988,\n",
       " 5.0,\n",
       " 4.989333333333334,\n",
       " 4.99,\n",
       " 5.042666666666666,\n",
       " 4.984,\n",
       " 4.966666666666667,\n",
       " 4.988,\n",
       " 5.0023333333333335,\n",
       " 4.953,\n",
       " 4.976,\n",
       " 4.984,\n",
       " 5.026,\n",
       " 5.014333333333333,\n",
       " 5.022666666666667,\n",
       " 4.960333333333334,\n",
       " 5.008333333333334]"
      ]
     },
     "execution_count": 28,
     "metadata": {},
     "output_type": "execute_result"
    }
   ],
   "source": [
    "sample_mean"
   ]
  },
  {
   "cell_type": "code",
   "execution_count": 29,
   "id": "07dde5b2",
   "metadata": {},
   "outputs": [
    {
     "data": {
      "text/plain": [
       "<AxesSubplot:ylabel='Density'>"
      ]
     },
     "execution_count": 29,
     "metadata": {},
     "output_type": "execute_result"
    },
    {
     "data": {
      "image/png": "[encoded data removed]",
      "text/plain": [
       "<Figure size 640x480 with 1 Axes>"
      ]
     },
     "metadata": {},
     "output_type": "display_data"
    }
   ],
   "source": [
    "sns.distplot(sample_mean , kde = True , color = \"Red\")"
   ]
  },
  {
   "cell_type": "code",
   "execution_count": 30,
   "id": "95a00bfc",
   "metadata": {},
   "outputs": [],
   "source": [
    "sample_mean = []\n",
    "\n",
    "for i in range(1 , 1001):\n",
    "    sample = np.random.choice(population , size = size)\n",
    "    sample_mean.append(sample)"
   ]
  },
  {
   "cell_type": "code",
   "execution_count": 31,
   "id": "4f3e9092",
   "metadata": {},
   "outputs": [
    {
     "data": {
      "text/plain": [
       "[array([5, 6, 6, ..., 7, 6, 6]),\n",
       " array([5, 4, 3, ..., 5, 5, 4]),\n",
       " array([8, 5, 3, ..., 5, 4, 5]),\n",
       " array([5, 4, 5, ..., 4, 4, 6]),\n",
       " array([5, 6, 5, ..., 6, 3, 5]),\n",
       " array([6, 6, 6, ..., 2, 3, 3]),\n",
       " array([5, 4, 6, ..., 6, 8, 4]),\n",
       " array([4, 7, 5, ..., 5, 7, 6]),\n",
       " array([7, 5, 6, ..., 6, 6, 6]),\n",
       " array([4, 5, 8, ..., 4, 6, 8]),\n",
       " array([5, 6, 5, ..., 5, 6, 6]),\n",
       " array([8, 6, 4, ..., 7, 5, 7]),\n",
       " array([1, 6, 5, ..., 5, 4, 6]),\n",
       " array([6, 5, 8, ..., 4, 6, 6]),\n",
       " array([6, 3, 5, ..., 2, 5, 5]),\n",
       " array([6, 3, 4, ..., 6, 4, 5]),\n",
       " array([6, 5, 6, ..., 4, 3, 6]),\n",
       " array([3, 3, 6, ..., 3, 4, 5]),\n",
       " array([1, 6, 5, ..., 3, 5, 2]),\n",
       " array([4, 5, 3, ..., 9, 8, 2]),\n",
       " array([6, 6, 1, ..., 4, 8, 1]),\n",
       " array([6, 6, 3, ..., 5, 5, 6]),\n",
       " array([7, 4, 1, ..., 6, 7, 6]),\n",
       " array([4, 4, 3, ..., 7, 2, 5]),\n",
       " array([7, 4, 8, ..., 6, 1, 4]),\n",
       " array([5, 5, 5, ..., 4, 7, 4]),\n",
       " array([6, 4, 4, ..., 7, 5, 7]),\n",
       " array([5, 8, 5, ..., 5, 7, 4]),\n",
       " array([3, 6, 5, ..., 6, 5, 5]),\n",
       " array([5, 3, 3, ..., 7, 4, 4]),\n",
       " array([4, 3, 6, ..., 5, 8, 6]),\n",
       " array([7, 5, 4, ..., 6, 5, 5]),\n",
       " array([5, 6, 6, ..., 5, 6, 5]),\n",
       " array([7, 2, 5, ..., 6, 3, 5]),\n",
       " array([6, 6, 7, ..., 7, 4, 6]),\n",
       " array([9, 5, 7, ..., 7, 7, 4]),\n",
       " array([5, 6, 6, ..., 5, 4, 6]),\n",
       " array([2, 5, 5, ..., 6, 3, 4]),\n",
       " array([5, 6, 6, ..., 3, 5, 7]),\n",
       " array([3, 6, 5, ..., 5, 4, 6]),\n",
       " array([5, 7, 7, ..., 5, 6, 4]),\n",
       " array([4, 4, 3, ..., 7, 2, 3]),\n",
       " array([6, 5, 5, ..., 4, 9, 5]),\n",
       " array([6, 4, 7, ..., 3, 3, 3]),\n",
       " array([7, 4, 2, ..., 5, 6, 5]),\n",
       " array([5, 7, 4, ..., 8, 5, 7]),\n",
       " array([6, 6, 5, ..., 7, 6, 4]),\n",
       " array([2, 5, 6, ..., 5, 7, 7]),\n",
       " array([7, 3, 7, ..., 8, 2, 4]),\n",
       " array([7, 8, 7, ..., 5, 4, 6]),\n",
       " array([3, 2, 7, ..., 6, 5, 6]),\n",
       " array([4, 8, 3, ..., 4, 6, 4]),\n",
       " array([4, 4, 5, ..., 6, 4, 4]),\n",
       " array([5, 4, 5, ..., 4, 4, 3]),\n",
       " array([6, 6, 7, ..., 4, 3, 7]),\n",
       " array([7, 7, 4, ..., 7, 6, 6]),\n",
       " array([5, 3, 7, ..., 5, 3, 6]),\n",
       " array([4, 6, 7, ..., 4, 5, 5]),\n",
       " array([5, 3, 4, ..., 5, 6, 6]),\n",
       " array([4, 5, 4, ..., 6, 3, 3]),\n",
       " array([6, 4, 4, ..., 5, 5, 5]),\n",
       " array([9, 7, 6, ..., 3, 6, 6]),\n",
       " array([3, 9, 8, ..., 7, 3, 4]),\n",
       " array([7, 5, 5, ..., 4, 8, 5]),\n",
       " array([5, 6, 9, ..., 7, 3, 3]),\n",
       " array([4, 4, 6, ..., 4, 5, 4]),\n",
       " array([2, 4, 5, ..., 5, 4, 2]),\n",
       " array([6, 4, 6, ..., 6, 6, 3]),\n",
       " array([5, 6, 6, ..., 4, 3, 5]),\n",
       " array([3, 4, 7, ..., 6, 5, 5]),\n",
       " array([4, 5, 5, ..., 5, 6, 6]),\n",
       " array([6, 5, 7, ..., 5, 6, 5]),\n",
       " array([5, 5, 2, ..., 5, 6, 6]),\n",
       " array([4, 4, 6, ..., 5, 3, 8]),\n",
       " array([3, 3, 3, ..., 6, 7, 7]),\n",
       " array([5, 3, 8, ..., 5, 4, 6]),\n",
       " array([10,  9,  4, ...,  6,  5,  5]),\n",
       " array([5, 6, 7, ..., 5, 4, 6]),\n",
       " array([4, 3, 4, ..., 5, 6, 5]),\n",
       " array([7, 4, 4, ..., 5, 6, 5]),\n",
       " array([5, 5, 6, ..., 4, 9, 5]),\n",
       " array([6, 7, 3, ..., 7, 5, 5]),\n",
       " array([4, 3, 4, ..., 3, 8, 5]),\n",
       " array([4, 4, 3, ..., 3, 6, 7]),\n",
       " array([6, 2, 4, ..., 1, 3, 5]),\n",
       " array([3, 8, 8, ..., 5, 4, 5]),\n",
       " array([5, 5, 5, ..., 7, 5, 3]),\n",
       " array([4, 3, 6, ..., 3, 6, 3]),\n",
       " array([6, 2, 4, ..., 6, 5, 4]),\n",
       " array([5, 5, 3, ..., 6, 6, 4]),\n",
       " array([4, 3, 7, ..., 5, 6, 5]),\n",
       " array([5, 5, 3, ..., 5, 5, 6]),\n",
       " array([4, 5, 3, ..., 4, 6, 5]),\n",
       " array([5, 6, 8, ..., 2, 4, 4]),\n",
       " array([6, 6, 4, ..., 2, 5, 5]),\n",
       " array([4, 8, 7, ..., 5, 5, 4]),\n",
       " array([7, 6, 5, ..., 5, 6, 6]),\n",
       " array([7, 5, 3, ..., 5, 5, 4]),\n",
       " array([8, 5, 3, ..., 4, 5, 8]),\n",
       " array([8, 3, 5, ..., 6, 4, 5]),\n",
       " array([5, 4, 2, ..., 3, 5, 5]),\n",
       " array([5, 6, 6, ..., 6, 7, 4]),\n",
       " array([7, 7, 4, ..., 8, 3, 3]),\n",
       " array([6, 6, 3, ..., 5, 9, 3]),\n",
       " array([5, 7, 4, ..., 8, 5, 6]),\n",
       " array([1, 4, 2, ..., 8, 3, 6]),\n",
       " array([2, 7, 5, ..., 9, 5, 7]),\n",
       " array([6, 6, 5, ..., 4, 5, 3]),\n",
       " array([9, 6, 5, ..., 4, 4, 5]),\n",
       " array([5, 5, 6, ..., 7, 6, 5]),\n",
       " array([5, 5, 2, ..., 7, 7, 3]),\n",
       " array([3, 3, 3, ..., 4, 5, 3]),\n",
       " array([3, 3, 2, ..., 5, 6, 4]),\n",
       " array([6, 3, 3, ..., 4, 3, 4]),\n",
       " array([6, 5, 4, ..., 4, 4, 6]),\n",
       " array([6, 3, 2, ..., 4, 8, 3]),\n",
       " array([6, 5, 5, ..., 5, 3, 6]),\n",
       " array([5, 4, 6, ..., 7, 3, 6]),\n",
       " array([7, 2, 8, ..., 4, 3, 2]),\n",
       " array([5, 3, 5, ..., 4, 4, 3]),\n",
       " array([6, 4, 6, ..., 3, 4, 4]),\n",
       " array([4, 5, 2, ..., 3, 4, 4]),\n",
       " array([3, 3, 5, ..., 5, 3, 4]),\n",
       " array([5, 4, 6, ..., 6, 4, 3]),\n",
       " array([5, 5, 5, ..., 8, 4, 4]),\n",
       " array([5, 7, 6, ..., 8, 6, 5]),\n",
       " array([3, 4, 5, ..., 3, 5, 4]),\n",
       " array([4, 5, 7, ..., 4, 6, 6]),\n",
       " array([6, 4, 3, ..., 4, 6, 5]),\n",
       " array([4, 7, 3, ..., 4, 4, 4]),\n",
       " array([6, 2, 5, ..., 4, 2, 6]),\n",
       " array([5, 1, 6, ..., 6, 4, 7]),\n",
       " array([5, 4, 3, ..., 3, 5, 2]),\n",
       " array([1, 1, 6, ..., 3, 5, 7]),\n",
       " array([9, 1, 5, ..., 6, 9, 5]),\n",
       " array([3, 5, 6, ..., 5, 5, 7]),\n",
       " array([5, 3, 7, ..., 6, 5, 4]),\n",
       " array([4, 4, 3, ..., 4, 5, 4]),\n",
       " array([5, 7, 7, ..., 5, 4, 6]),\n",
       " array([4, 3, 4, ..., 4, 6, 5]),\n",
       " array([9, 2, 7, ..., 8, 3, 5]),\n",
       " array([5, 2, 5, ..., 6, 5, 5]),\n",
       " array([5, 4, 5, ..., 7, 6, 6]),\n",
       " array([4, 5, 2, ..., 5, 6, 6]),\n",
       " array([5, 3, 5, ..., 7, 4, 2]),\n",
       " array([6, 4, 7, ..., 3, 1, 6]),\n",
       " array([7, 5, 6, ..., 9, 6, 5]),\n",
       " array([4, 5, 7, ..., 5, 4, 5]),\n",
       " array([4, 4, 6, ..., 5, 6, 7]),\n",
       " array([7, 5, 5, ..., 6, 6, 7]),\n",
       " array([7, 4, 4, ..., 5, 6, 2]),\n",
       " array([4, 3, 6, ..., 5, 4, 4]),\n",
       " array([6, 7, 5, ..., 6, 4, 5]),\n",
       " array([5, 4, 3, ..., 5, 6, 8]),\n",
       " array([6, 5, 6, ..., 6, 5, 6]),\n",
       " array([6, 4, 5, ..., 7, 6, 6]),\n",
       " array([5, 4, 3, ..., 5, 5, 8]),\n",
       " array([5, 4, 6, ..., 4, 6, 5]),\n",
       " array([5, 2, 7, ..., 4, 3, 5]),\n",
       " array([9, 3, 5, ..., 4, 3, 7]),\n",
       " array([5, 5, 5, ..., 6, 6, 7]),\n",
       " array([5, 6, 2, ..., 8, 5, 6]),\n",
       " array([5, 6, 6, ..., 7, 3, 2]),\n",
       " array([3, 6, 5, ..., 2, 4, 4]),\n",
       " array([7, 2, 5, ..., 4, 4, 2]),\n",
       " array([3, 5, 7, ..., 5, 5, 5]),\n",
       " array([7, 4, 4, ..., 7, 5, 6]),\n",
       " array([4, 1, 4, ..., 3, 5, 6]),\n",
       " array([5, 4, 3, ..., 6, 7, 5]),\n",
       " array([4, 4, 4, ..., 7, 5, 5]),\n",
       " array([5, 4, 5, ..., 3, 8, 7]),\n",
       " array([5, 7, 6, ..., 4, 5, 4]),\n",
       " array([2, 5, 4, ..., 2, 4, 7]),\n",
       " array([5, 4, 3, ..., 5, 7, 5]),\n",
       " array([2, 4, 5, ..., 6, 5, 4]),\n",
       " array([4, 5, 4, ..., 7, 6, 5]),\n",
       " array([4, 3, 3, ..., 8, 4, 6]),\n",
       " array([6, 4, 8, ..., 5, 5, 4]),\n",
       " array([4, 5, 8, ..., 4, 3, 8]),\n",
       " array([5, 7, 3, ..., 7, 3, 7]),\n",
       " array([4, 7, 6, ..., 5, 5, 4]),\n",
       " array([7, 5, 6, ..., 3, 5, 7]),\n",
       " array([8, 4, 4, ..., 5, 2, 2]),\n",
       " array([4, 6, 3, ..., 6, 6, 2]),\n",
       " array([5, 6, 5, ..., 4, 4, 3]),\n",
       " array([4, 8, 5, ..., 8, 5, 5]),\n",
       " array([4, 5, 6, ..., 3, 3, 5]),\n",
       " array([4, 4, 5, ..., 5, 8, 5]),\n",
       " array([6, 6, 4, ..., 6, 3, 5]),\n",
       " array([2, 3, 4, ..., 6, 6, 7]),\n",
       " array([5, 6, 6, ..., 4, 6, 3]),\n",
       " array([5, 9, 4, ..., 4, 5, 4]),\n",
       " array([6, 5, 7, ..., 3, 6, 3]),\n",
       " array([5, 6, 6, ..., 5, 4, 5]),\n",
       " array([5, 5, 9, ..., 5, 4, 5]),\n",
       " array([6, 7, 5, ..., 6, 6, 1]),\n",
       " array([5, 2, 5, ..., 1, 4, 8]),\n",
       " array([2, 5, 5, ..., 3, 5, 3]),\n",
       " array([4, 4, 7, ..., 8, 6, 2]),\n",
       " array([3, 5, 5, ..., 4, 6, 7]),\n",
       " array([5, 6, 3, ..., 7, 2, 6]),\n",
       " array([6, 4, 4, ..., 6, 4, 4]),\n",
       " array([5, 5, 6, ..., 8, 4, 9]),\n",
       " array([4, 5, 6, ..., 3, 4, 4]),\n",
       " array([5, 5, 2, ..., 7, 7, 7]),\n",
       " array([2, 4, 8, ..., 5, 6, 5]),\n",
       " array([3, 6, 7, ..., 2, 5, 2]),\n",
       " array([6, 2, 5, ..., 5, 3, 3]),\n",
       " array([2, 4, 7, ..., 8, 6, 6]),\n",
       " array([3, 3, 5, ..., 4, 6, 5]),\n",
       " array([4, 8, 5, ..., 6, 6, 2]),\n",
       " array([4, 3, 4, ..., 6, 5, 3]),\n",
       " array([5, 2, 3, ..., 6, 6, 3]),\n",
       " array([6, 4, 3, ..., 5, 5, 5]),\n",
       " array([6, 3, 3, ..., 6, 4, 2]),\n",
       " array([5, 2, 4, ..., 6, 8, 4]),\n",
       " array([5, 4, 7, ..., 7, 5, 5]),\n",
       " array([7, 3, 5, ..., 4, 4, 5]),\n",
       " array([6, 6, 6, ..., 5, 5, 3]),\n",
       " array([6, 4, 5, ..., 4, 4, 7]),\n",
       " array([5, 4, 6, ..., 3, 7, 6]),\n",
       " array([2, 5, 6, ..., 5, 3, 4]),\n",
       " array([1, 5, 6, ..., 3, 6, 7]),\n",
       " array([2, 4, 6, ..., 5, 7, 7]),\n",
       " array([6, 6, 6, ..., 7, 5, 5]),\n",
       " array([6, 5, 7, ..., 8, 6, 4]),\n",
       " array([4, 6, 5, ..., 5, 4, 6]),\n",
       " array([4, 4, 6, ..., 6, 4, 4]),\n",
       " array([7, 5, 7, ..., 5, 5, 6]),\n",
       " array([3, 6, 5, ..., 6, 8, 8]),\n",
       " array([7, 5, 6, ..., 7, 2, 5]),\n",
       " array([6, 5, 6, ..., 6, 3, 7]),\n",
       " array([5, 5, 7, ..., 6, 7, 5]),\n",
       " array([3, 2, 4, ..., 5, 7, 5]),\n",
       " array([3, 6, 4, ..., 4, 4, 5]),\n",
       " array([5, 7, 6, ..., 3, 5, 2]),\n",
       " array([6, 5, 7, ..., 1, 6, 4]),\n",
       " array([5, 6, 3, ..., 3, 4, 5]),\n",
       " array([7, 4, 4, ..., 8, 4, 3]),\n",
       " array([7, 5, 7, ..., 5, 4, 7]),\n",
       " array([4, 5, 5, ..., 5, 4, 6]),\n",
       " array([5, 7, 7, ..., 6, 4, 7]),\n",
       " array([6, 4, 6, ..., 6, 6, 5]),\n",
       " array([4, 7, 3, ..., 5, 5, 4]),\n",
       " array([8, 6, 5, ..., 5, 5, 5]),\n",
       " array([ 4,  5,  5, ...,  6, 10,  4]),\n",
       " array([5, 2, 8, ..., 6, 3, 5]),\n",
       " array([3, 7, 6, ..., 5, 6, 1]),\n",
       " array([5, 6, 5, ..., 8, 5, 6]),\n",
       " array([5, 6, 3, ..., 2, 3, 3]),\n",
       " array([5, 5, 3, ..., 6, 8, 2]),\n",
       " array([6, 3, 4, ..., 4, 4, 5]),\n",
       " array([6, 9, 5, ..., 4, 3, 6]),\n",
       " array([8, 4, 6, ..., 6, 3, 5]),\n",
       " array([5, 5, 5, ..., 2, 5, 3]),\n",
       " array([4, 6, 5, ..., 4, 7, 6]),\n",
       " array([7, 5, 7, ..., 5, 5, 6]),\n",
       " array([3, 2, 2, ..., 4, 4, 6]),\n",
       " array([6, 5, 1, ..., 4, 7, 5]),\n",
       " array([5, 5, 6, ..., 4, 7, 1]),\n",
       " array([2, 5, 2, ..., 5, 3, 5]),\n",
       " array([7, 6, 3, ..., 5, 6, 6]),\n",
       " array([6, 5, 5, ..., 4, 6, 4]),\n",
       " array([6, 3, 5, ..., 5, 3, 7]),\n",
       " array([6, 6, 3, ..., 4, 4, 3]),\n",
       " array([7, 6, 7, ..., 6, 5, 4]),\n",
       " array([3, 8, 4, ..., 3, 5, 4]),\n",
       " array([5, 4, 3, ..., 4, 8, 6]),\n",
       " array([4, 5, 4, ..., 4, 3, 6]),\n",
       " array([4, 5, 5, ..., 4, 5, 5]),\n",
       " array([3, 4, 6, ..., 3, 3, 7]),\n",
       " array([7, 7, 3, ..., 6, 6, 6]),\n",
       " array([4, 5, 6, ..., 8, 2, 3]),\n",
       " array([4, 7, 4, ..., 7, 4, 5]),\n",
       " array([6, 6, 8, ..., 6, 5, 6]),\n",
       " array([4, 4, 3, ..., 7, 5, 7]),\n",
       " array([4, 5, 6, ..., 5, 5, 7]),\n",
       " array([5, 6, 4, ..., 7, 4, 7]),\n",
       " array([7, 6, 8, ..., 6, 6, 6]),\n",
       " array([3, 6, 3, ..., 4, 5, 8]),\n",
       " array([6, 5, 6, ..., 4, 8, 2]),\n",
       " array([6, 8, 3, ..., 2, 2, 4]),\n",
       " array([2, 5, 4, ..., 7, 5, 4]),\n",
       " array([5, 3, 4, ..., 4, 6, 4]),\n",
       " array([6, 5, 6, ..., 2, 4, 3]),\n",
       " array([5, 6, 3, ..., 8, 3, 6]),\n",
       " array([6, 5, 7, ..., 6, 4, 6]),\n",
       " array([4, 6, 5, ..., 3, 4, 6]),\n",
       " array([5, 8, 4, ..., 5, 6, 7]),\n",
       " array([2, 3, 6, ..., 4, 5, 4]),\n",
       " array([8, 5, 5, ..., 6, 5, 6]),\n",
       " array([7, 6, 4, ..., 2, 6, 4]),\n",
       " array([5, 4, 7, ..., 8, 7, 6]),\n",
       " array([7, 6, 6, ..., 4, 5, 4]),\n",
       " array([4, 5, 5, ..., 4, 6, 3]),\n",
       " array([6, 3, 6, ..., 5, 5, 5]),\n",
       " array([4, 5, 4, ..., 5, 4, 4]),\n",
       " array([5, 6, 5, ..., 7, 8, 4]),\n",
       " array([4, 4, 4, ..., 5, 6, 6]),\n",
       " array([6, 4, 5, ..., 3, 6, 3]),\n",
       " array([2, 5, 4, ..., 5, 5, 6]),\n",
       " array([5, 4, 4, ..., 4, 4, 4]),\n",
       " array([6, 5, 9, ..., 4, 4, 7]),\n",
       " array([6, 6, 5, ..., 5, 2, 5]),\n",
       " array([4, 5, 6, ..., 4, 5, 3]),\n",
       " array([4, 8, 4, ..., 5, 6, 6]),\n",
       " array([6, 7, 5, ..., 5, 4, 5]),\n",
       " array([4, 7, 5, ..., 6, 7, 6]),\n",
       " array([3, 5, 4, ..., 3, 3, 3]),\n",
       " array([6, 5, 2, ..., 4, 8, 6]),\n",
       " array([4, 7, 7, ..., 3, 3, 6]),\n",
       " array([6, 6, 5, ..., 4, 3, 5]),\n",
       " array([7, 6, 5, ..., 3, 5, 6]),\n",
       " array([4, 5, 7, ..., 6, 3, 4]),\n",
       " array([3, 4, 3, ..., 5, 2, 4]),\n",
       " array([5, 4, 6, ..., 6, 5, 5]),\n",
       " array([6, 4, 7, ..., 6, 6, 6]),\n",
       " array([3, 5, 5, ..., 3, 4, 5]),\n",
       " array([3, 3, 4, ..., 6, 8, 3]),\n",
       " array([7, 4, 5, ..., 6, 6, 5]),\n",
       " array([6, 4, 6, ..., 9, 4, 4]),\n",
       " array([6, 4, 3, ..., 3, 2, 7]),\n",
       " array([6, 6, 5, ..., 5, 7, 4]),\n",
       " array([6, 4, 5, ..., 8, 4, 4]),\n",
       " array([6, 8, 4, ..., 5, 6, 3]),\n",
       " array([3, 4, 4, ..., 3, 1, 6]),\n",
       " array([2, 6, 6, ..., 5, 7, 7]),\n",
       " array([3, 4, 5, ..., 8, 4, 4]),\n",
       " array([5, 7, 6, ..., 4, 7, 4]),\n",
       " array([2, 6, 4, ..., 6, 6, 4]),\n",
       " array([2, 7, 3, ..., 3, 4, 6]),\n",
       " array([6, 4, 5, ..., 3, 4, 4]),\n",
       " array([4, 4, 2, ..., 6, 6, 4]),\n",
       " array([6, 6, 6, ..., 5, 7, 5]),\n",
       " array([3, 8, 7, ..., 5, 4, 6]),\n",
       " array([3, 7, 5, ..., 4, 6, 2]),\n",
       " array([5, 6, 6, ..., 4, 5, 2]),\n",
       " array([9, 5, 7, ..., 5, 5, 6]),\n",
       " array([5, 4, 6, ..., 4, 7, 7]),\n",
       " array([4, 5, 5, ..., 6, 2, 5]),\n",
       " array([7, 4, 4, ..., 6, 8, 4]),\n",
       " array([7, 2, 5, ..., 2, 7, 5]),\n",
       " array([5, 5, 7, ..., 5, 4, 6]),\n",
       " array([5, 4, 4, ..., 5, 3, 6]),\n",
       " array([6, 4, 6, ..., 6, 5, 6]),\n",
       " array([5, 5, 3, ..., 5, 6, 5]),\n",
       " array([7, 2, 6, ..., 6, 7, 5]),\n",
       " array([6, 6, 5, ..., 7, 4, 3]),\n",
       " array([6, 3, 6, ..., 5, 4, 7]),\n",
       " array([5, 6, 6, ..., 6, 4, 5]),\n",
       " array([9, 8, 6, ..., 5, 3, 6]),\n",
       " array([5, 5, 4, ..., 4, 6, 5]),\n",
       " array([4, 7, 5, ..., 5, 2, 5]),\n",
       " array([5, 4, 5, ..., 7, 6, 9]),\n",
       " array([2, 7, 5, ..., 6, 4, 5]),\n",
       " array([9, 3, 4, ..., 5, 4, 6]),\n",
       " array([4, 7, 6, ..., 8, 5, 3]),\n",
       " array([6, 4, 5, ..., 6, 4, 6]),\n",
       " array([5, 6, 5, ..., 6, 6, 3]),\n",
       " array([1, 6, 6, ..., 5, 3, 2]),\n",
       " array([1, 5, 4, ..., 5, 7, 4]),\n",
       " array([7, 5, 7, ..., 3, 2, 2]),\n",
       " array([4, 6, 5, ..., 6, 5, 6]),\n",
       " array([2, 7, 8, ..., 5, 5, 4]),\n",
       " array([3, 5, 5, ..., 2, 6, 4]),\n",
       " array([5, 5, 3, ..., 5, 7, 7]),\n",
       " array([7, 5, 4, ..., 4, 5, 7]),\n",
       " array([5, 6, 6, ..., 6, 4, 4]),\n",
       " array([4, 5, 6, ..., 4, 6, 3]),\n",
       " array([5, 6, 7, ..., 5, 6, 7]),\n",
       " array([3, 3, 6, ..., 3, 3, 7]),\n",
       " array([5, 8, 5, ..., 2, 3, 5]),\n",
       " array([5, 4, 4, ..., 2, 5, 3]),\n",
       " array([5, 6, 5, ..., 6, 5, 5]),\n",
       " array([5, 7, 5, ..., 4, 5, 4]),\n",
       " array([5, 4, 6, ..., 7, 2, 4]),\n",
       " array([5, 5, 4, ..., 6, 1, 5]),\n",
       " array([8, 7, 7, ..., 5, 8, 6]),\n",
       " array([6, 6, 7, ..., 6, 5, 6]),\n",
       " array([ 3, 10,  7, ...,  3,  6,  6]),\n",
       " array([6, 7, 5, ..., 6, 6, 6]),\n",
       " array([6, 5, 4, ..., 6, 5, 2]),\n",
       " array([5, 6, 4, ..., 7, 6, 6]),\n",
       " array([2, 7, 3, ..., 7, 4, 2]),\n",
       " array([4, 5, 7, ..., 4, 5, 5]),\n",
       " array([4, 6, 5, ..., 7, 5, 3]),\n",
       " array([5, 2, 7, ..., 6, 6, 4]),\n",
       " array([4, 5, 3, ..., 7, 6, 5]),\n",
       " array([3, 3, 7, ..., 6, 2, 2]),\n",
       " array([4, 3, 5, ..., 3, 4, 3]),\n",
       " array([5, 5, 2, ..., 6, 5, 6]),\n",
       " array([5, 4, 3, ..., 5, 4, 7]),\n",
       " array([3, 7, 4, ..., 4, 5, 8]),\n",
       " array([7, 4, 5, ..., 6, 2, 5]),\n",
       " array([7, 5, 6, ..., 5, 7, 7]),\n",
       " array([4, 7, 9, ..., 5, 6, 5]),\n",
       " array([5, 7, 4, ..., 7, 4, 5]),\n",
       " array([6, 7, 2, ..., 3, 6, 5]),\n",
       " array([2, 5, 7, ..., 5, 3, 5]),\n",
       " array([4, 5, 3, ..., 6, 3, 4]),\n",
       " array([5, 4, 5, ..., 6, 5, 5]),\n",
       " array([5, 2, 2, ..., 5, 4, 5]),\n",
       " array([6, 6, 4, ..., 5, 5, 2]),\n",
       " array([6, 2, 6, ..., 5, 5, 5]),\n",
       " array([6, 7, 7, ..., 7, 7, 4]),\n",
       " array([6, 2, 6, ..., 4, 5, 6]),\n",
       " array([4, 5, 7, ..., 6, 6, 4]),\n",
       " array([4, 4, 6, ..., 5, 6, 6]),\n",
       " array([9, 4, 5, ..., 2, 6, 3]),\n",
       " array([7, 5, 4, ..., 6, 4, 6]),\n",
       " array([6, 5, 7, ..., 5, 4, 4]),\n",
       " array([8, 7, 6, ..., 3, 2, 5]),\n",
       " array([8, 5, 4, ..., 5, 3, 3]),\n",
       " array([4, 6, 4, ..., 7, 8, 3]),\n",
       " array([7, 7, 5, ..., 5, 5, 5]),\n",
       " array([6, 6, 4, ..., 6, 6, 4]),\n",
       " array([7, 5, 4, ..., 5, 6, 7]),\n",
       " array([2, 2, 5, ..., 5, 6, 9]),\n",
       " array([4, 5, 8, ..., 4, 4, 6]),\n",
       " array([4, 5, 7, ..., 7, 2, 3]),\n",
       " array([6, 6, 6, ..., 7, 5, 3]),\n",
       " array([7, 4, 5, ..., 7, 8, 4]),\n",
       " array([3, 4, 5, ..., 7, 5, 4]),\n",
       " array([6, 4, 5, ..., 5, 4, 2]),\n",
       " array([4, 4, 8, ..., 5, 3, 4]),\n",
       " array([6, 6, 5, ..., 5, 3, 5]),\n",
       " array([6, 3, 4, ..., 3, 4, 6]),\n",
       " array([4, 4, 5, ..., 2, 4, 3]),\n",
       " array([5, 6, 5, ..., 7, 4, 6]),\n",
       " array([6, 4, 5, ..., 5, 3, 4]),\n",
       " array([4, 4, 7, ..., 5, 5, 5]),\n",
       " array([6, 3, 6, ..., 5, 9, 6]),\n",
       " array([5, 5, 6, ..., 6, 9, 7]),\n",
       " array([7, 2, 7, ..., 6, 7, 7]),\n",
       " array([4, 3, 7, ..., 4, 5, 7]),\n",
       " array([3, 6, 4, ..., 1, 5, 6]),\n",
       " array([7, 5, 3, ..., 6, 6, 6]),\n",
       " array([8, 5, 6, ..., 8, 6, 3]),\n",
       " array([6, 8, 6, ..., 6, 5, 3]),\n",
       " array([4, 7, 5, ..., 2, 6, 3]),\n",
       " array([5, 7, 5, ..., 3, 6, 6]),\n",
       " array([6, 5, 7, ..., 4, 5, 4]),\n",
       " array([6, 6, 6, ..., 4, 5, 4]),\n",
       " array([4, 7, 4, ..., 3, 6, 6]),\n",
       " array([7, 7, 4, ..., 4, 6, 5]),\n",
       " array([5, 7, 3, ..., 6, 7, 4]),\n",
       " array([5, 7, 3, ..., 8, 4, 4]),\n",
       " array([6, 2, 5, ..., 8, 4, 4]),\n",
       " array([6, 6, 4, ..., 4, 5, 2]),\n",
       " array([6, 5, 5, ..., 5, 8, 4]),\n",
       " array([3, 4, 2, ..., 5, 6, 7]),\n",
       " array([3, 6, 8, ..., 3, 5, 7]),\n",
       " array([7, 6, 5, ..., 5, 5, 7]),\n",
       " array([4, 4, 6, ..., 2, 6, 4]),\n",
       " array([ 7,  1,  3, ...,  6,  5, 10]),\n",
       " array([6, 4, 3, ..., 5, 7, 4]),\n",
       " array([9, 4, 6, ..., 7, 3, 6]),\n",
       " array([ 5,  6,  5, ..., 10,  5,  4]),\n",
       " array([2, 8, 1, ..., 6, 4, 5]),\n",
       " array([6, 6, 7, ..., 7, 6, 3]),\n",
       " array([4, 2, 7, ..., 6, 2, 4]),\n",
       " array([5, 4, 5, ..., 6, 4, 5]),\n",
       " array([3, 2, 4, ..., 6, 7, 7]),\n",
       " array([3, 1, 7, ..., 6, 5, 6]),\n",
       " array([4, 7, 7, ..., 5, 4, 4]),\n",
       " array([4, 3, 5, ..., 5, 5, 5]),\n",
       " array([7, 6, 5, ..., 5, 5, 3]),\n",
       " array([7, 4, 8, ..., 7, 5, 6]),\n",
       " array([6, 4, 4, ..., 4, 5, 5]),\n",
       " array([6, 3, 8, ..., 4, 3, 7]),\n",
       " array([5, 6, 5, ..., 3, 7, 5]),\n",
       " array([6, 3, 4, ..., 2, 7, 2]),\n",
       " array([4, 8, 5, ..., 5, 3, 3]),\n",
       " array([5, 6, 7, ..., 8, 6, 9]),\n",
       " array([6, 6, 5, ..., 4, 3, 5]),\n",
       " array([7, 4, 4, ..., 3, 5, 7]),\n",
       " array([5, 4, 8, ..., 4, 4, 3]),\n",
       " array([9, 7, 5, ..., 7, 4, 6]),\n",
       " array([5, 6, 6, ..., 6, 2, 6]),\n",
       " array([4, 4, 7, ..., 7, 1, 2]),\n",
       " array([5, 7, 7, ..., 7, 5, 4]),\n",
       " array([6, 3, 3, ..., 3, 5, 6]),\n",
       " array([4, 6, 5, ..., 5, 3, 6]),\n",
       " array([6, 4, 5, ..., 7, 6, 3]),\n",
       " array([4, 3, 5, ..., 7, 3, 5]),\n",
       " array([5, 5, 5, ..., 5, 2, 5]),\n",
       " array([5, 4, 6, ..., 6, 6, 5]),\n",
       " array([4, 8, 5, ..., 4, 3, 4]),\n",
       " array([4, 5, 7, ..., 3, 5, 4]),\n",
       " array([3, 3, 4, ..., 3, 5, 2]),\n",
       " array([4, 5, 4, ..., 4, 5, 6]),\n",
       " array([4, 4, 8, ..., 5, 7, 7]),\n",
       " array([4, 5, 2, ..., 5, 5, 5]),\n",
       " array([6, 2, 4, ..., 4, 4, 5]),\n",
       " array([4, 5, 4, ..., 7, 1, 4]),\n",
       " array([6, 4, 6, ..., 2, 7, 4]),\n",
       " array([5, 5, 6, ..., 7, 4, 5]),\n",
       " array([9, 7, 2, ..., 7, 3, 5]),\n",
       " array([5, 6, 6, ..., 4, 2, 5]),\n",
       " array([5, 8, 7, ..., 3, 7, 8]),\n",
       " array([4, 5, 5, ..., 6, 6, 6]),\n",
       " array([3, 5, 5, ..., 7, 6, 3]),\n",
       " array([3, 6, 3, ..., 2, 6, 4]),\n",
       " array([5, 8, 3, ..., 6, 3, 5]),\n",
       " array([7, 5, 6, ..., 4, 5, 4]),\n",
       " array([3, 7, 6, ..., 8, 7, 4]),\n",
       " array([5, 4, 4, ..., 5, 5, 6]),\n",
       " array([4, 3, 3, ..., 5, 4, 7]),\n",
       " array([5, 7, 7, ..., 6, 3, 4]),\n",
       " array([5, 4, 7, ..., 4, 8, 3]),\n",
       " array([5, 4, 5, ..., 5, 4, 6]),\n",
       " array([6, 8, 6, ..., 4, 2, 6]),\n",
       " array([5, 6, 3, ..., 6, 3, 4]),\n",
       " array([7, 6, 7, ..., 3, 7, 3]),\n",
       " array([7, 4, 4, ..., 4, 4, 5]),\n",
       " array([5, 7, 4, ..., 8, 6, 5]),\n",
       " array([5, 5, 4, ..., 5, 6, 4]),\n",
       " array([5, 3, 4, ..., 5, 3, 6]),\n",
       " array([4, 6, 2, ..., 5, 4, 2]),\n",
       " array([4, 4, 3, ..., 6, 7, 6]),\n",
       " array([4, 4, 5, ..., 8, 3, 5]),\n",
       " array([5, 5, 4, ..., 3, 5, 3]),\n",
       " array([6, 5, 3, ..., 4, 6, 3]),\n",
       " array([4, 5, 4, ..., 7, 4, 6]),\n",
       " array([4, 6, 6, ..., 5, 5, 4]),\n",
       " array([6, 4, 3, ..., 6, 6, 4]),\n",
       " array([7, 7, 5, ..., 2, 7, 4]),\n",
       " array([6, 8, 5, ..., 2, 5, 4]),\n",
       " array([5, 8, 5, ..., 5, 3, 6]),\n",
       " array([4, 4, 5, ..., 6, 6, 4]),\n",
       " array([2, 4, 3, ..., 7, 7, 7]),\n",
       " array([6, 3, 6, ..., 6, 4, 5]),\n",
       " array([4, 5, 4, ..., 4, 4, 6]),\n",
       " array([7, 4, 5, ..., 2, 9, 8]),\n",
       " array([5, 5, 7, ..., 5, 6, 5]),\n",
       " array([6, 3, 7, ..., 3, 4, 5]),\n",
       " array([7, 5, 6, ..., 5, 5, 5]),\n",
       " array([5, 3, 5, ..., 5, 7, 4]),\n",
       " array([6, 7, 6, ..., 4, 5, 4]),\n",
       " array([7, 5, 8, ..., 6, 6, 6]),\n",
       " array([6, 6, 3, ..., 3, 4, 4]),\n",
       " array([5, 6, 4, ..., 4, 5, 8]),\n",
       " array([4, 6, 4, ..., 3, 3, 5]),\n",
       " array([6, 7, 6, ..., 1, 5, 4]),\n",
       " array([4, 6, 3, ..., 7, 3, 6]),\n",
       " array([3, 2, 6, ..., 7, 3, 5]),\n",
       " array([8, 3, 2, ..., 6, 7, 5]),\n",
       " array([5, 7, 6, ..., 5, 7, 6]),\n",
       " array([5, 3, 5, ..., 5, 2, 6]),\n",
       " array([5, 6, 8, ..., 5, 5, 5]),\n",
       " array([5, 2, 4, ..., 4, 5, 6]),\n",
       " array([4, 2, 5, ..., 6, 5, 6]),\n",
       " array([6, 4, 5, ..., 7, 7, 3]),\n",
       " array([5, 4, 2, ..., 4, 4, 1]),\n",
       " array([2, 7, 7, ..., 6, 8, 6]),\n",
       " array([5, 4, 7, ..., 6, 4, 6]),\n",
       " array([4, 6, 4, ..., 6, 5, 5]),\n",
       " array([4, 3, 4, ..., 4, 3, 5]),\n",
       " array([7, 8, 3, ..., 4, 4, 6]),\n",
       " array([6, 7, 7, ..., 5, 2, 5]),\n",
       " array([6, 6, 5, ..., 3, 5, 6]),\n",
       " array([5, 5, 3, ..., 5, 4, 3]),\n",
       " array([4, 5, 4, ..., 4, 6, 7]),\n",
       " array([5, 7, 6, ..., 4, 5, 9]),\n",
       " array([6, 7, 5, ..., 5, 6, 4]),\n",
       " array([4, 3, 5, ..., 6, 2, 4]),\n",
       " array([6, 3, 7, ..., 7, 5, 7]),\n",
       " array([4, 5, 5, ..., 3, 6, 5]),\n",
       " array([4, 8, 6, ..., 6, 7, 4]),\n",
       " array([4, 4, 4, ..., 4, 3, 5]),\n",
       " array([2, 6, 3, ..., 5, 5, 2]),\n",
       " array([4, 6, 5, ..., 4, 6, 2]),\n",
       " array([4, 5, 5, ..., 6, 5, 3]),\n",
       " array([4, 3, 5, ..., 3, 6, 5]),\n",
       " array([8, 3, 7, ..., 5, 6, 5]),\n",
       " array([6, 4, 7, ..., 5, 6, 4]),\n",
       " array([5, 3, 4, ..., 4, 6, 7]),\n",
       " array([6, 2, 6, ..., 7, 4, 4]),\n",
       " array([7, 5, 4, ..., 3, 4, 5]),\n",
       " array([3, 6, 4, ..., 7, 5, 4]),\n",
       " array([6, 5, 6, ..., 4, 7, 5]),\n",
       " array([5, 4, 6, ..., 2, 5, 6]),\n",
       " array([7, 5, 8, ..., 9, 4, 5]),\n",
       " array([4, 7, 6, ..., 5, 5, 4]),\n",
       " array([3, 4, 4, ..., 7, 3, 3]),\n",
       " array([5, 5, 5, ..., 8, 6, 3]),\n",
       " array([5, 5, 7, ..., 4, 5, 5]),\n",
       " array([7, 2, 5, ..., 3, 7, 4]),\n",
       " array([3, 5, 6, ..., 4, 5, 3]),\n",
       " array([5, 8, 3, ..., 5, 5, 6]),\n",
       " array([5, 5, 6, ..., 5, 7, 7]),\n",
       " array([8, 5, 3, ..., 3, 6, 6]),\n",
       " array([8, 6, 4, ..., 8, 4, 4]),\n",
       " array([6, 5, 5, ..., 3, 6, 4]),\n",
       " array([4, 5, 2, ..., 5, 2, 5]),\n",
       " array([6, 7, 3, ..., 6, 5, 4]),\n",
       " array([4, 5, 4, ..., 5, 5, 5]),\n",
       " array([5, 3, 5, ..., 5, 4, 6]),\n",
       " array([4, 6, 5, ..., 5, 4, 3]),\n",
       " array([5, 4, 4, ..., 3, 3, 2]),\n",
       " array([3, 5, 4, ..., 5, 6, 4]),\n",
       " array([4, 9, 6, ..., 7, 6, 6]),\n",
       " array([4, 5, 3, ..., 3, 8, 5]),\n",
       " array([5, 5, 6, ..., 6, 7, 6]),\n",
       " array([7, 5, 4, ..., 6, 2, 4]),\n",
       " array([7, 5, 6, ..., 5, 5, 7]),\n",
       " array([2, 6, 5, ..., 3, 4, 6]),\n",
       " array([6, 4, 6, ..., 5, 6, 5]),\n",
       " array([6, 5, 4, ..., 7, 1, 3]),\n",
       " array([7, 3, 4, ..., 6, 5, 4]),\n",
       " array([8, 6, 7, ..., 6, 5, 5]),\n",
       " array([4, 5, 4, ..., 5, 6, 6]),\n",
       " array([2, 4, 4, ..., 5, 6, 6]),\n",
       " array([5, 6, 4, ..., 4, 4, 5]),\n",
       " array([6, 5, 6, ..., 8, 6, 5]),\n",
       " array([8, 4, 3, ..., 7, 6, 4]),\n",
       " array([6, 1, 6, ..., 6, 6, 7]),\n",
       " array([4, 5, 5, ..., 6, 5, 5]),\n",
       " array([3, 4, 5, ..., 7, 4, 4]),\n",
       " array([6, 7, 3, ..., 1, 7, 4]),\n",
       " array([4, 5, 2, ..., 8, 6, 6]),\n",
       " array([4, 4, 4, ..., 3, 5, 5]),\n",
       " array([6, 4, 4, ..., 7, 3, 8]),\n",
       " array([6, 7, 5, ..., 9, 8, 5]),\n",
       " array([6, 7, 6, ..., 6, 5, 2]),\n",
       " array([3, 3, 4, ..., 5, 6, 5]),\n",
       " array([7, 7, 5, ..., 3, 6, 4]),\n",
       " array([3, 6, 8, ..., 5, 6, 5]),\n",
       " array([5, 5, 6, ..., 5, 2, 6]),\n",
       " array([6, 2, 5, ..., 4, 5, 6]),\n",
       " array([5, 6, 3, ..., 4, 4, 4]),\n",
       " array([7, 3, 7, ..., 3, 8, 6]),\n",
       " array([5, 6, 8, ..., 6, 7, 4]),\n",
       " array([5, 5, 2, ..., 4, 6, 6]),\n",
       " array([3, 6, 7, ..., 5, 6, 4]),\n",
       " array([4, 7, 7, ..., 6, 5, 3]),\n",
       " array([3, 4, 4, ..., 4, 5, 5]),\n",
       " array([4, 3, 2, ..., 6, 3, 5]),\n",
       " array([5, 6, 5, ..., 1, 6, 4]),\n",
       " array([6, 5, 7, ..., 5, 4, 8]),\n",
       " array([3, 5, 4, ..., 4, 5, 3]),\n",
       " array([7, 4, 8, ..., 3, 5, 6]),\n",
       " array([6, 4, 6, ..., 5, 4, 7]),\n",
       " array([6, 5, 5, ..., 6, 5, 6]),\n",
       " array([7, 5, 4, ..., 7, 4, 4]),\n",
       " array([9, 5, 7, ..., 1, 5, 8]),\n",
       " array([8, 7, 5, ..., 6, 7, 9]),\n",
       " array([5, 6, 6, ..., 5, 5, 4]),\n",
       " array([4, 8, 5, ..., 5, 4, 7]),\n",
       " array([4, 6, 3, ..., 5, 2, 8]),\n",
       " array([6, 9, 3, ..., 3, 4, 4]),\n",
       " array([5, 5, 5, ..., 7, 7, 6]),\n",
       " array([9, 4, 5, ..., 4, 7, 6]),\n",
       " array([7, 5, 5, ..., 4, 4, 5]),\n",
       " array([3, 3, 2, ..., 5, 5, 6]),\n",
       " array([5, 2, 8, ..., 6, 3, 5]),\n",
       " array([4, 5, 4, ..., 4, 5, 5]),\n",
       " array([4, 7, 6, ..., 6, 1, 5]),\n",
       " array([5, 6, 2, ..., 4, 2, 4]),\n",
       " array([5, 6, 6, ..., 4, 8, 4]),\n",
       " array([4, 4, 3, ..., 3, 3, 6]),\n",
       " array([5, 4, 4, ..., 5, 4, 7]),\n",
       " array([3, 6, 4, ..., 6, 5, 4]),\n",
       " array([4, 2, 7, ..., 4, 8, 7]),\n",
       " array([7, 3, 8, ..., 5, 4, 4]),\n",
       " array([4, 5, 6, ..., 7, 5, 5]),\n",
       " array([5, 4, 5, ..., 3, 6, 7]),\n",
       " array([3, 7, 6, ..., 7, 8, 5]),\n",
       " array([5, 5, 7, ..., 3, 4, 3]),\n",
       " array([5, 6, 5, ..., 4, 2, 6]),\n",
       " array([3, 8, 5, ..., 6, 4, 2]),\n",
       " array([ 7,  6,  6, ..., 10,  4,  6]),\n",
       " array([5, 4, 6, ..., 5, 7, 5]),\n",
       " array([5, 5, 4, ..., 4, 5, 6]),\n",
       " array([8, 8, 5, ..., 4, 4, 5]),\n",
       " array([4, 2, 4, ..., 5, 7, 2]),\n",
       " array([4, 3, 7, ..., 7, 5, 3]),\n",
       " array([8, 7, 4, ..., 7, 7, 6]),\n",
       " array([5, 6, 6, ..., 5, 2, 5]),\n",
       " array([5, 6, 6, ..., 3, 8, 4]),\n",
       " array([4, 7, 6, ..., 3, 6, 2]),\n",
       " array([5, 4, 5, ..., 7, 7, 4]),\n",
       " array([5, 4, 6, ..., 6, 6, 7]),\n",
       " array([5, 6, 2, ..., 4, 7, 4]),\n",
       " array([4, 4, 6, ..., 3, 6, 4]),\n",
       " array([4, 5, 4, ..., 7, 8, 6]),\n",
       " array([5, 4, 5, ..., 3, 5, 6]),\n",
       " array([3, 6, 3, ..., 5, 5, 5]),\n",
       " array([7, 5, 3, ..., 6, 5, 5]),\n",
       " array([5, 3, 4, ..., 4, 2, 4]),\n",
       " array([3, 5, 4, ..., 3, 5, 2]),\n",
       " array([4, 6, 5, ..., 4, 5, 8]),\n",
       " array([4, 6, 5, ..., 4, 4, 4]),\n",
       " array([5, 4, 6, ..., 3, 2, 5]),\n",
       " array([8, 7, 3, ..., 7, 1, 5]),\n",
       " array([4, 5, 6, ..., 3, 5, 4]),\n",
       " array([6, 6, 3, ..., 7, 7, 5]),\n",
       " array([4, 6, 8, ..., 3, 3, 6]),\n",
       " array([5, 4, 5, ..., 7, 6, 5]),\n",
       " array([8, 6, 5, ..., 5, 7, 4]),\n",
       " array([7, 4, 6, ..., 3, 4, 3]),\n",
       " array([1, 7, 5, ..., 4, 6, 3]),\n",
       " array([5, 5, 5, ..., 5, 6, 5]),\n",
       " array([4, 6, 4, ..., 6, 7, 4]),\n",
       " array([5, 5, 7, ..., 5, 6, 5]),\n",
       " array([7, 6, 6, ..., 3, 6, 7]),\n",
       " array([4, 5, 7, ..., 4, 7, 5]),\n",
       " array([5, 6, 4, ..., 4, 4, 4]),\n",
       " array([5, 4, 5, ..., 5, 5, 1]),\n",
       " array([4, 4, 5, ..., 6, 8, 7]),\n",
       " array([3, 5, 5, ..., 6, 6, 7]),\n",
       " array([3, 6, 5, ..., 4, 6, 4]),\n",
       " array([4, 6, 4, ..., 3, 5, 4]),\n",
       " array([5, 7, 5, ..., 7, 6, 3]),\n",
       " array([7, 3, 5, ..., 5, 4, 5]),\n",
       " array([4, 4, 4, ..., 4, 2, 2]),\n",
       " array([5, 1, 2, ..., 5, 4, 3]),\n",
       " array([6, 5, 3, ..., 4, 5, 6]),\n",
       " array([6, 5, 7, ..., 2, 3, 6]),\n",
       " array([8, 6, 6, ..., 5, 4, 2]),\n",
       " array([7, 5, 3, ..., 7, 7, 4]),\n",
       " array([2, 5, 3, ..., 6, 5, 2]),\n",
       " array([7, 3, 6, ..., 4, 7, 7]),\n",
       " array([5, 7, 7, ..., 7, 4, 7]),\n",
       " array([6, 7, 4, ..., 4, 6, 5]),\n",
       " array([3, 5, 3, ..., 4, 2, 6]),\n",
       " array([3, 7, 6, ..., 7, 5, 6]),\n",
       " array([3, 3, 6, ..., 6, 6, 5]),\n",
       " array([9, 4, 4, ..., 9, 7, 2]),\n",
       " array([8, 5, 2, ..., 5, 4, 8]),\n",
       " array([4, 5, 7, ..., 6, 5, 4]),\n",
       " array([5, 5, 4, ..., 6, 4, 3]),\n",
       " array([5, 4, 6, ..., 4, 5, 6]),\n",
       " array([4, 5, 6, ..., 6, 6, 6]),\n",
       " array([8, 7, 2, ..., 6, 4, 4]),\n",
       " array([6, 8, 3, ..., 3, 5, 3]),\n",
       " array([6, 5, 7, ..., 5, 3, 6]),\n",
       " array([5, 7, 6, ..., 5, 9, 7]),\n",
       " array([2, 5, 8, ..., 4, 6, 4]),\n",
       " array([6, 5, 5, ..., 7, 4, 4]),\n",
       " array([6, 6, 2, ..., 6, 4, 4]),\n",
       " array([3, 6, 4, ..., 4, 4, 6]),\n",
       " array([2, 6, 5, ..., 5, 5, 4]),\n",
       " array([4, 6, 7, ..., 7, 5, 4]),\n",
       " array([5, 7, 3, ..., 7, 6, 6]),\n",
       " array([8, 3, 5, ..., 7, 5, 5]),\n",
       " array([7, 7, 5, ..., 2, 7, 4]),\n",
       " array([4, 5, 6, ..., 7, 5, 7]),\n",
       " array([5, 1, 6, ..., 5, 5, 6]),\n",
       " array([7, 5, 3, ..., 6, 4, 4]),\n",
       " array([6, 5, 4, ..., 6, 5, 4]),\n",
       " array([6, 5, 5, ..., 6, 4, 3]),\n",
       " array([5, 5, 5, ..., 5, 3, 4]),\n",
       " array([7, 4, 4, ..., 6, 4, 5]),\n",
       " array([4, 8, 5, ..., 5, 7, 1]),\n",
       " array([6, 5, 5, ..., 5, 5, 3]),\n",
       " array([2, 5, 4, ..., 6, 6, 8]),\n",
       " array([6, 5, 6, ..., 6, 5, 5]),\n",
       " array([2, 4, 7, ..., 6, 5, 5]),\n",
       " array([4, 4, 3, ..., 8, 2, 4]),\n",
       " array([5, 4, 5, ..., 2, 5, 7]),\n",
       " array([4, 3, 2, ..., 6, 4, 6]),\n",
       " array([8, 5, 6, ..., 4, 6, 3]),\n",
       " array([3, 5, 5, ..., 4, 7, 7]),\n",
       " array([5, 2, 7, ..., 5, 5, 6]),\n",
       " array([3, 6, 6, ..., 6, 4, 6]),\n",
       " array([5, 6, 7, ..., 3, 5, 5]),\n",
       " array([5, 4, 6, ..., 4, 4, 6]),\n",
       " array([6, 3, 5, ..., 3, 6, 2]),\n",
       " array([6, 7, 7, ..., 3, 4, 5]),\n",
       " array([6, 4, 4, ..., 3, 6, 3]),\n",
       " array([7, 5, 4, ..., 6, 7, 6]),\n",
       " array([3, 5, 6, ..., 6, 3, 3]),\n",
       " array([4, 6, 7, ..., 7, 4, 6]),\n",
       " array([4, 5, 8, ..., 5, 7, 6]),\n",
       " array([9, 3, 7, ..., 3, 4, 3]),\n",
       " array([6, 5, 4, ..., 4, 4, 6]),\n",
       " array([5, 4, 4, ..., 6, 2, 5]),\n",
       " array([6, 4, 5, ..., 2, 4, 6]),\n",
       " array([5, 6, 4, ..., 3, 5, 5]),\n",
       " array([5, 5, 2, ..., 4, 7, 3]),\n",
       " array([2, 6, 6, ..., 5, 6, 4]),\n",
       " array([5, 1, 3, ..., 5, 4, 4]),\n",
       " array([3, 5, 5, ..., 5, 4, 6]),\n",
       " array([6, 5, 4, ..., 6, 5, 6]),\n",
       " array([4, 5, 7, ..., 4, 5, 4]),\n",
       " array([5, 6, 6, ..., 6, 4, 4]),\n",
       " array([5, 1, 5, ..., 5, 6, 3]),\n",
       " array([4, 4, 5, ..., 5, 2, 4]),\n",
       " array([7, 5, 5, ..., 5, 4, 4]),\n",
       " array([3, 5, 5, ..., 8, 5, 6]),\n",
       " array([5, 5, 4, ..., 3, 6, 6]),\n",
       " array([7, 5, 5, ..., 2, 5, 6]),\n",
       " array([6, 6, 2, ..., 5, 5, 5]),\n",
       " array([7, 7, 5, ..., 4, 7, 7]),\n",
       " array([2, 3, 6, ..., 5, 5, 4]),\n",
       " array([5, 5, 6, ..., 5, 3, 4]),\n",
       " array([5, 4, 6, ..., 6, 6, 5]),\n",
       " array([4, 4, 4, ..., 4, 2, 2]),\n",
       " array([6, 4, 3, ..., 6, 4, 5]),\n",
       " array([6, 5, 5, ..., 6, 3, 3]),\n",
       " array([4, 6, 6, ..., 6, 5, 4]),\n",
       " array([4, 1, 3, ..., 2, 6, 4]),\n",
       " array([4, 7, 4, ..., 4, 7, 5]),\n",
       " array([4, 6, 2, ..., 5, 4, 5]),\n",
       " array([6, 4, 5, ..., 6, 5, 6]),\n",
       " array([4, 8, 4, ..., 6, 3, 1]),\n",
       " array([8, 7, 4, ..., 5, 6, 3]),\n",
       " array([5, 5, 1, ..., 6, 7, 6]),\n",
       " array([3, 6, 6, ..., 5, 4, 3]),\n",
       " array([5, 6, 5, ..., 5, 8, 6]),\n",
       " array([5, 4, 7, ..., 3, 5, 4]),\n",
       " array([6, 7, 6, ..., 5, 3, 7]),\n",
       " array([6, 5, 4, ..., 4, 5, 3]),\n",
       " array([5, 6, 4, ..., 2, 5, 6]),\n",
       " array([5, 2, 4, ..., 7, 6, 7]),\n",
       " array([4, 7, 4, ..., 7, 3, 5]),\n",
       " array([5, 5, 4, ..., 7, 5, 2]),\n",
       " array([7, 6, 6, ..., 5, 5, 6]),\n",
       " array([5, 5, 6, ..., 6, 6, 6]),\n",
       " array([3, 3, 5, ..., 4, 7, 8]),\n",
       " array([6, 5, 5, ..., 5, 3, 3]),\n",
       " array([3, 4, 4, ..., 5, 4, 1]),\n",
       " array([3, 3, 6, ..., 7, 4, 5]),\n",
       " array([3, 5, 6, ..., 7, 5, 5]),\n",
       " array([4, 6, 6, ..., 6, 5, 4]),\n",
       " array([2, 6, 6, ..., 2, 5, 5]),\n",
       " array([4, 1, 5, ..., 6, 6, 7]),\n",
       " array([7, 5, 5, ..., 4, 4, 4]),\n",
       " array([3, 5, 3, ..., 4, 5, 7]),\n",
       " array([4, 9, 2, ..., 5, 4, 3]),\n",
       " array([5, 6, 9, ..., 3, 1, 5]),\n",
       " array([3, 2, 6, ..., 3, 3, 5]),\n",
       " array([5, 6, 6, ..., 8, 7, 5]),\n",
       " array([5, 7, 5, ..., 6, 5, 6]),\n",
       " array([4, 6, 4, ..., 7, 4, 7]),\n",
       " array([6, 4, 5, ..., 7, 6, 5]),\n",
       " array([5, 5, 6, ..., 7, 6, 2]),\n",
       " array([9, 0, 8, ..., 6, 3, 6]),\n",
       " array([3, 5, 3, ..., 6, 6, 5]),\n",
       " array([7, 7, 5, ..., 5, 8, 6]),\n",
       " array([5, 5, 6, ..., 2, 7, 3]),\n",
       " array([2, 6, 7, ..., 5, 6, 3]),\n",
       " array([4, 6, 7, ..., 4, 5, 7]),\n",
       " array([3, 4, 8, ..., 6, 5, 4]),\n",
       " array([4, 6, 6, ..., 5, 6, 4]),\n",
       " array([5, 3, 7, ..., 5, 2, 7]),\n",
       " array([6, 5, 8, ..., 5, 5, 5]),\n",
       " array([7, 5, 5, ..., 8, 6, 5]),\n",
       " array([4, 7, 7, ..., 5, 6, 7]),\n",
       " array([4, 4, 4, ..., 4, 6, 6]),\n",
       " array([6, 6, 7, ..., 8, 5, 6]),\n",
       " array([6, 5, 4, ..., 5, 7, 6]),\n",
       " array([5, 3, 2, ..., 2, 4, 7]),\n",
       " array([5, 3, 5, ..., 5, 6, 5]),\n",
       " array([5, 8, 3, ..., 3, 5, 7]),\n",
       " array([8, 5, 6, ..., 5, 2, 5]),\n",
       " array([5, 6, 6, ..., 6, 8, 7]),\n",
       " array([4, 6, 5, ..., 4, 4, 6]),\n",
       " array([4, 4, 6, ..., 3, 4, 6]),\n",
       " array([6, 5, 5, ..., 4, 3, 5]),\n",
       " array([1, 5, 3, ..., 3, 4, 4]),\n",
       " array([7, 3, 3, ..., 7, 6, 6]),\n",
       " array([5, 5, 5, ..., 3, 7, 4]),\n",
       " array([4, 5, 3, ..., 8, 4, 5]),\n",
       " array([7, 6, 3, ..., 4, 3, 5]),\n",
       " array([7, 7, 5, ..., 4, 2, 7]),\n",
       " array([7, 4, 4, ..., 6, 5, 3]),\n",
       " array([5, 6, 6, ..., 4, 5, 7]),\n",
       " array([4, 5, 7, ..., 6, 4, 4]),\n",
       " array([3, 8, 6, ..., 7, 4, 6]),\n",
       " array([10,  6,  5, ...,  6,  6,  5]),\n",
       " array([4, 6, 6, ..., 4, 6, 7]),\n",
       " array([3, 5, 7, ..., 4, 7, 7]),\n",
       " array([6, 4, 4, ..., 7, 7, 5]),\n",
       " array([7, 5, 4, ..., 8, 7, 4]),\n",
       " array([7, 7, 6, ..., 8, 4, 3]),\n",
       " array([5, 3, 6, ..., 8, 4, 6]),\n",
       " array([6, 8, 3, ..., 5, 3, 7]),\n",
       " array([7, 7, 3, ..., 6, 6, 4]),\n",
       " array([6, 5, 5, ..., 7, 6, 5]),\n",
       " array([2, 5, 8, ..., 3, 7, 3]),\n",
       " array([7, 5, 3, ..., 6, 3, 5]),\n",
       " array([6, 4, 3, ..., 6, 4, 8]),\n",
       " array([5, 6, 5, ..., 5, 5, 4]),\n",
       " array([5, 6, 4, ..., 7, 4, 6]),\n",
       " array([7, 7, 6, ..., 7, 4, 4]),\n",
       " array([1, 4, 4, ..., 4, 5, 4]),\n",
       " array([4, 4, 5, ..., 5, 6, 7]),\n",
       " array([8, 1, 6, ..., 7, 5, 4]),\n",
       " array([5, 4, 5, ..., 3, 5, 6]),\n",
       " array([8, 6, 4, ..., 4, 5, 6]),\n",
       " array([6, 3, 5, ..., 5, 7, 7]),\n",
       " array([6, 8, 5, ..., 5, 3, 4]),\n",
       " array([7, 2, 6, ..., 1, 5, 5]),\n",
       " array([7, 4, 4, ..., 3, 3, 6]),\n",
       " array([7, 6, 5, ..., 4, 6, 2]),\n",
       " array([7, 5, 4, ..., 7, 6, 3]),\n",
       " array([4, 5, 7, ..., 6, 5, 8]),\n",
       " array([3, 5, 8, ..., 4, 7, 5]),\n",
       " array([5, 2, 4, ..., 7, 4, 7]),\n",
       " array([5, 7, 5, ..., 4, 5, 5]),\n",
       " array([6, 5, 7, ..., 6, 7, 6]),\n",
       " array([5, 2, 7, ..., 6, 5, 4]),\n",
       " array([4, 4, 5, ..., 5, 4, 7]),\n",
       " array([8, 5, 2, ..., 3, 4, 4]),\n",
       " array([5, 7, 9, ..., 6, 6, 3]),\n",
       " array([4, 5, 5, ..., 5, 3, 5]),\n",
       " array([2, 2, 6, ..., 5, 5, 5]),\n",
       " array([4, 5, 4, ..., 4, 9, 5]),\n",
       " array([7, 6, 4, ..., 4, 4, 5]),\n",
       " array([3, 4, 3, ..., 4, 5, 6]),\n",
       " array([6, 5, 4, ..., 5, 6, 6]),\n",
       " array([4, 8, 7, ..., 2, 6, 5]),\n",
       " array([6, 7, 8, ..., 5, 4, 2]),\n",
       " array([4, 6, 7, ..., 8, 5, 7]),\n",
       " array([8, 5, 5, ..., 4, 5, 4]),\n",
       " array([7, 8, 7, ..., 5, 7, 7]),\n",
       " array([4, 6, 5, ..., 5, 5, 4]),\n",
       " array([2, 5, 5, ..., 9, 3, 7]),\n",
       " array([5, 5, 5, ..., 2, 3, 6]),\n",
       " array([1, 3, 6, ..., 2, 5, 5]),\n",
       " array([5, 3, 6, ..., 5, 5, 5]),\n",
       " array([0, 4, 6, ..., 7, 6, 5]),\n",
       " array([8, 6, 6, ..., 6, 6, 5]),\n",
       " array([6, 6, 5, ..., 5, 4, 7]),\n",
       " array([7, 2, 2, ..., 6, 6, 9]),\n",
       " array([7, 3, 6, ..., 3, 6, 7]),\n",
       " array([6, 4, 3, ..., 3, 4, 3]),\n",
       " array([6, 6, 7, ..., 3, 2, 6]),\n",
       " array([5, 6, 4, ..., 7, 4, 5]),\n",
       " array([4, 6, 3, ..., 7, 3, 5]),\n",
       " array([5, 5, 3, ..., 8, 8, 6]),\n",
       " array([5, 6, 5, ..., 7, 5, 6]),\n",
       " array([5, 5, 4, ..., 4, 3, 6]),\n",
       " array([6, 2, 4, ..., 5, 4, 3]),\n",
       " array([6, 3, 8, ..., 7, 6, 6]),\n",
       " array([4, 6, 7, ..., 5, 5, 1]),\n",
       " array([3, 5, 1, ..., 3, 3, 6]),\n",
       " array([5, 6, 4, ..., 6, 3, 4]),\n",
       " array([8, 5, 4, ..., 4, 7, 5]),\n",
       " array([5, 7, 3, ..., 5, 5, 5]),\n",
       " array([6, 6, 5, ..., 2, 3, 7]),\n",
       " array([6, 6, 5, ..., 6, 4, 5]),\n",
       " array([7, 4, 3, ..., 5, 6, 3]),\n",
       " array([4, 6, 6, ..., 5, 8, 7]),\n",
       " array([8, 7, 3, ..., 6, 7, 3]),\n",
       " array([6, 3, 3, ..., 6, 7, 9]),\n",
       " array([4, 4, 6, ..., 1, 2, 8]),\n",
       " array([4, 5, 6, ..., 8, 4, 4]),\n",
       " array([3, 3, 4, ..., 4, 3, 6]),\n",
       " array([3, 6, 7, ..., 7, 7, 5]),\n",
       " array([7, 3, 5, ..., 3, 7, 9]),\n",
       " array([2, 6, 7, ..., 3, 7, 8]),\n",
       " array([4, 3, 6, ..., 7, 5, 7]),\n",
       " array([2, 6, 7, ..., 8, 8, 7]),\n",
       " array([7, 5, 5, ..., 3, 4, 4]),\n",
       " array([6, 4, 4, ..., 9, 3, 3]),\n",
       " array([6, 4, 7, ..., 8, 5, 5]),\n",
       " array([6, 4, 3, ..., 5, 2, 6]),\n",
       " array([5, 4, 6, ..., 5, 4, 5]),\n",
       " array([4, 4, 4, ..., 3, 6, 5]),\n",
       " array([8, 6, 6, ..., 4, 5, 5]),\n",
       " array([2, 5, 9, ..., 4, 5, 5]),\n",
       " array([6, 6, 6, ..., 5, 6, 6]),\n",
       " array([4, 6, 5, ..., 5, 6, 3]),\n",
       " array([4, 4, 4, ..., 5, 6, 5]),\n",
       " array([5, 5, 7, ..., 1, 2, 5]),\n",
       " array([4, 4, 8, ..., 4, 6, 8]),\n",
       " array([8, 4, 6, ..., 4, 2, 2]),\n",
       " array([6, 3, 6, ..., 6, 3, 4]),\n",
       " array([5, 4, 7, ..., 6, 6, 5]),\n",
       " array([5, 4, 5, ..., 3, 5, 6]),\n",
       " array([6, 3, 6, ..., 4, 3, 6]),\n",
       " array([4, 4, 3, ..., 3, 4, 4]),\n",
       " array([5, 5, 7, ..., 4, 4, 5]),\n",
       " array([5, 7, 4, ..., 4, 4, 4]),\n",
       " array([8, 7, 5, ..., 3, 5, 6]),\n",
       " array([2, 7, 7, ..., 6, 6, 4]),\n",
       " array([7, 4, 7, ..., 4, 2, 4]),\n",
       " array([6, 7, 4, ..., 3, 5, 6]),\n",
       " array([3, 8, 6, ..., 4, 3, 8]),\n",
       " array([6, 5, 3, ..., 6, 5, 4]),\n",
       " array([4, 7, 4, ..., 8, 4, 5]),\n",
       " array([4, 4, 5, ..., 4, 5, 5]),\n",
       " array([3, 5, 5, ..., 4, 6, 5]),\n",
       " array([6, 4, 4, ..., 5, 1, 5]),\n",
       " array([8, 9, 5, ..., 3, 5, 5]),\n",
       " array([7, 4, 4, ..., 8, 6, 6]),\n",
       " array([0, 3, 5, ..., 8, 5, 5]),\n",
       " array([5, 3, 9, ..., 6, 3, 6]),\n",
       " array([6, 8, 6, ..., 5, 8, 6]),\n",
       " array([5, 5, 2, ..., 6, 8, 5]),\n",
       " array([4, 3, 6, ..., 8, 7, 8]),\n",
       " array([6, 4, 4, ..., 6, 4, 4]),\n",
       " array([5, 6, 8, ..., 6, 5, 3]),\n",
       " array([3, 3, 4, ..., 4, 4, 5]),\n",
       " array([5, 4, 6, ..., 6, 5, 6]),\n",
       " array([6, 7, 6, ..., 6, 4, 3]),\n",
       " array([5, 4, 5, ..., 8, 6, 6])]"
      ]
     },
     "execution_count": 31,
     "metadata": {},
     "output_type": "execute_result"
    }
   ],
   "source": [
    "sample_mean"
   ]
  },
  {
   "cell_type": "code",
   "execution_count": 34,
   "id": "f726f550",
   "metadata": {},
   "outputs": [
    {
     "data": {
      "text/plain": [
       "<AxesSubplot:ylabel='Density'>"
      ]
     },
     "execution_count": 34,
     "metadata": {},
     "output_type": "execute_result"
    },
    {
     "data": {
      "image/png": "[encoded data removed]",
      "text/plain": [
       "<Figure size 640x480 with 1 Axes>"
      ]
     },
     "metadata": {},
     "output_type": "display_data"
    }
   ],
   "source": [
    "sns.distplot(sample_mean)"
   ]
  },
  {
   "cell_type": "code",
   "execution_count": 37,
   "id": "4627f679",
   "metadata": {},
   "outputs": [
    {
     "data": {
      "text/plain": [
       "4.992857"
      ]
     },
     "execution_count": 37,
     "metadata": {},
     "output_type": "execute_result"
    }
   ],
   "source": [
    "np.mean(sample_mean)"
   ]
  },
  {
   "cell_type": "markdown",
   "id": "8199a48e",
   "metadata": {},
   "source": [
    "# confidence interval and margin error"
   ]
  },
  {
   "cell_type": "code",
   "execution_count": 38,
   "id": "f943b2d5",
   "metadata": {},
   "outputs": [],
   "source": [
    "population  = np.random.randint(10,20,50)"
   ]
  },
  {
   "cell_type": "code",
   "execution_count": 39,
   "id": "fa0b2f9f",
   "metadata": {},
   "outputs": [
    {
     "data": {
      "text/plain": [
       "array([18, 15, 18, 12, 11, 10, 17, 16, 17, 12, 17, 10, 15, 12, 11, 13, 11,\n",
       "       13, 15, 18, 18, 15, 12, 12, 10, 11, 10, 14, 15, 18, 12, 11, 12, 16,\n",
       "       15, 17, 12, 10, 15, 18, 13, 14, 16, 17, 19, 13, 13, 19, 13, 12])"
      ]
     },
     "execution_count": 39,
     "metadata": {},
     "output_type": "execute_result"
    }
   ],
   "source": [
    "population"
   ]
  },
  {
   "cell_type": "code",
   "execution_count": 40,
   "id": "33d94fd3",
   "metadata": {},
   "outputs": [],
   "source": [
    "sample1 = np.random.choice(population , 20)\n",
    "sample2 = np.random.choice(population , 20)\n",
    "sample3 = np.random.choice(population , 20)\n",
    "sapmle4 = np.random.choice(population , 20)"
   ]
  },
  {
   "cell_type": "code",
   "execution_count": 53,
   "id": "8c8b5a3f",
   "metadata": {},
   "outputs": [],
   "source": [
    "all_sample = [sample1 , sample2, sample3 , sample4]\n",
    "mean_of_samples = []\n",
    "for sample in all_sample:\n",
    "    mean_of_samples.append(np.mean(sample))"
   ]
  },
  {
   "cell_type": "code",
   "execution_count": 54,
   "id": "85c525ca",
   "metadata": {},
   "outputs": [
    {
     "data": {
      "text/plain": [
       "[14.6, 13.75, 13.6, 15.4]"
      ]
     },
     "execution_count": 54,
     "metadata": {},
     "output_type": "execute_result"
    }
   ],
   "source": [
    "mean_of_samples"
   ]
  },
  {
   "cell_type": "code",
   "execution_count": 45,
   "id": "b531b242",
   "metadata": {},
   "outputs": [],
   "source": [
    "import scipy.stats as stats\n"
   ]
  },
  {
   "cell_type": "code",
   "execution_count": 46,
   "id": "346a134b",
   "metadata": {},
   "outputs": [],
   "source": [
    "z_critical = stats.norm.ppf(q=0.975)"
   ]
  },
  {
   "cell_type": "code",
   "execution_count": 47,
   "id": "e0a37724",
   "metadata": {},
   "outputs": [
    {
     "data": {
      "text/plain": [
       "1.959963984540054"
      ]
     },
     "execution_count": 47,
     "metadata": {},
     "output_type": "execute_result"
    }
   ],
   "source": [
    "z_critical"
   ]
  },
  {
   "cell_type": "code",
   "execution_count": 48,
   "id": "35eddd90",
   "metadata": {},
   "outputs": [],
   "source": [
    "t_critical = stats.t.ppf(q=0.975,df=24)"
   ]
  },
  {
   "cell_type": "code",
   "execution_count": 55,
   "id": "842694fc",
   "metadata": {},
   "outputs": [],
   "source": [
    "margin_of_error = z_critical * (np.std(mean_of_samples)/np.sqrt(20))"
   ]
  },
  {
   "cell_type": "code",
   "execution_count": 56,
   "id": "19a53f87",
   "metadata": {},
   "outputs": [
    {
     "data": {
      "text/plain": [
       "0.3165565584622292"
      ]
     },
     "execution_count": 56,
     "metadata": {},
     "output_type": "execute_result"
    }
   ],
   "source": [
    "margin_of_error"
   ]
  },
  {
   "cell_type": "code",
   "execution_count": 57,
   "id": "0987e63b",
   "metadata": {},
   "outputs": [
    {
     "data": {
      "text/plain": [
       "14.02094344153777"
      ]
     },
     "execution_count": 57,
     "metadata": {},
     "output_type": "execute_result"
    }
   ],
   "source": [
    "np.mean(mean_of_samples)-margin_of_error"
   ]
  },
  {
   "cell_type": "code",
   "execution_count": 58,
   "id": "d834b654",
   "metadata": {},
   "outputs": [
    {
     "data": {
      "text/plain": [
       "14.65405655846223"
      ]
     },
     "execution_count": 58,
     "metadata": {},
     "output_type": "execute_result"
    }
   ],
   "source": [
    "np.mean(mean_of_samples)+margin_of_error"
   ]
  },
  {
   "cell_type": "markdown",
   "id": "e04b8d22",
   "metadata": {},
   "source": [
    "# Z- Test"
   ]
  },
  {
   "cell_type": "code",
   "execution_count": 59,
   "id": "e0072389",
   "metadata": {},
   "outputs": [],
   "source": [
    "from numpy.random import randn\n",
    "population=randn(100)"
   ]
  },
  {
   "cell_type": "code",
   "execution_count": 60,
   "id": "0a309d37",
   "metadata": {},
   "outputs": [
    {
     "data": {
      "text/plain": [
       "array([-0.10973799, -0.5218609 , -0.82322432,  0.35726279, -0.08550615,\n",
       "       -0.78740227, -3.77972092,  0.34594348, -0.90647161, -0.68028393,\n",
       "       -0.91869279, -0.17102863,  1.22232461,  1.57313344,  1.27178014,\n",
       "        1.56280009, -0.49192313,  1.1329891 ,  0.15173732,  0.0783912 ,\n",
       "        0.16276028,  0.45001548, -0.17542888,  1.69944916,  0.04840757,\n",
       "        0.02120272, -0.55025135,  1.0363178 ,  1.86213266, -0.5054904 ,\n",
       "        0.38049562,  0.19076767, -1.26054552,  0.84608354, -0.02253487,\n",
       "        1.20489092, -0.44031937, -0.22915132,  1.69605151,  1.11218973,\n",
       "        2.21548732,  1.36095342, -0.22974635,  0.79848248, -0.18731084,\n",
       "        0.74288921, -0.42309418,  1.2940672 , -0.65664288, -2.29556335,\n",
       "        1.4058712 , -0.18077777, -0.84271873, -0.4398761 ,  1.09858676,\n",
       "        0.23989018, -2.34895472, -0.2322211 ,  0.39380429,  0.41208634,\n",
       "       -0.66695279,  1.40700025,  0.39829853,  0.50660585,  0.41126248,\n",
       "        0.48221374,  1.10307694,  1.51377177,  0.1300706 , -0.78945484,\n",
       "        1.16468891,  0.76666289, -0.42751256,  1.19565649,  1.08791257,\n",
       "        0.30071179,  0.71534241,  0.56024971, -0.55605469,  0.48561286,\n",
       "       -0.24594729,  1.61888244,  2.4119639 ,  0.20468602,  1.33167615,\n",
       "       -1.46814727,  1.11624584, -0.1586038 ,  2.86500243,  1.14151234,\n",
       "        0.88344477,  2.43826602,  0.33199041,  0.09303147, -0.82703741,\n",
       "       -0.65579616,  0.83446172,  0.37509358,  0.25471009,  1.05701304])"
      ]
     },
     "execution_count": 60,
     "metadata": {},
     "output_type": "execute_result"
    }
   ],
   "source": [
    "population"
   ]
  },
  {
   "cell_type": "code",
   "execution_count": 62,
   "id": "38343dc3",
   "metadata": {},
   "outputs": [
    {
     "data": {
      "text/plain": [
       "<AxesSubplot:ylabel='Density'>"
      ]
     },
     "execution_count": 62,
     "metadata": {},
     "output_type": "execute_result"
    },
    {
     "data": {
      "image/png": "[encoded data removed]",
      "text/plain": [
       "<Figure size 640x480 with 1 Axes>"
      ]
     },
     "metadata": {},
     "output_type": "display_data"
    }
   ],
   "source": [
    "sns.distplot(population)"
   ]
  },
  {
   "cell_type": "code",
   "execution_count": 65,
   "id": "ab6e6df1",
   "metadata": {},
   "outputs": [
    {
     "name": "stdout",
     "output_type": "stream",
     "text": [
      "Here mean of poplution 0.3146437607466517 , and standard deviation 1.0344060815745966\n"
     ]
    }
   ],
   "source": [
    "print(f\"Here mean of poplution {np.mean(population)} , and standard deviation {np.std(population)}\")"
   ]
  },
  {
   "cell_type": "code",
   "execution_count": 66,
   "id": "3e0daf06",
   "metadata": {},
   "outputs": [],
   "source": [
    "null_mean = 0.022"
   ]
  },
  {
   "cell_type": "code",
   "execution_count": 67,
   "id": "4afcff3e",
   "metadata": {},
   "outputs": [
    {
     "ename": "SyntaxError",
     "evalue": "invalid syntax (479726303.py, line 1)",
     "output_type": "error",
     "traceback": [
      "\u001b[1;36m  File \u001b[1;32m\"C:\\Users\\maury\\AppData\\Local\\Temp\\ipykernel_10724\\479726303.py\"\u001b[1;36m, line \u001b[1;32m1\u001b[0m\n\u001b[1;33m    C.I=95%\u001b[0m\n\u001b[1;37m           ^\u001b[0m\n\u001b[1;31mSyntaxError\u001b[0m\u001b[1;31m:\u001b[0m invalid syntax\n"
     ]
    }
   ],
   "source": [
    "C.I=95%\n",
    "ALPHA=0.05(5%)"
   ]
  },
  {
   "cell_type": "code",
   "execution_count": 69,
   "id": "669ebdef",
   "metadata": {},
   "outputs": [],
   "source": [
    "#P<=0.05#REJECT THE NULL HYPHOTHESIS\n",
    "#P>0.05 #YOU ARE GOING TO ACCEPT THE NULL HYPHOTEIS"
   ]
  },
  {
   "cell_type": "code",
   "execution_count": 70,
   "id": "a0fe9f9e",
   "metadata": {},
   "outputs": [],
   "source": [
    "# P<=ALPHA\n",
    "# P>ALPHA"
   ]
  },
  {
   "cell_type": "code",
   "execution_count": 71,
   "id": "d8d8cad0",
   "metadata": {},
   "outputs": [],
   "source": [
    "#p_value=0.05\n",
    "ALPHA=0.05"
   ]
  },
  {
   "cell_type": "code",
   "execution_count": 72,
   "id": "9a0a386b",
   "metadata": {},
   "outputs": [],
   "source": [
    "from statsmodels.stats.weightstats import ztest\n",
    "z_score,p_value=ztest(population,value=null_mean,alternative='larger')"
   ]
  },
  {
   "cell_type": "code",
   "execution_count": 73,
   "id": "5a6b176a",
   "metadata": {},
   "outputs": [
    {
     "data": {
      "text/plain": [
       "2.8149183447115638"
      ]
     },
     "execution_count": 73,
     "metadata": {},
     "output_type": "execute_result"
    }
   ],
   "source": [
    "z_score"
   ]
  },
  {
   "cell_type": "code",
   "execution_count": 74,
   "id": "0efa8c96",
   "metadata": {},
   "outputs": [
    {
     "data": {
      "text/plain": [
       "0.0024394814505765694"
      ]
     },
     "execution_count": 74,
     "metadata": {},
     "output_type": "execute_result"
    }
   ],
   "source": [
    "p_value"
   ]
  },
  {
   "cell_type": "code",
   "execution_count": 75,
   "id": "6038cbda",
   "metadata": {},
   "outputs": [
    {
     "name": "stdout",
     "output_type": "stream",
     "text": [
      "reject the null hyphothesis\n"
     ]
    }
   ],
   "source": [
    "if (p_value<ALPHA):\n",
    "    print(\"reject the null hyphothesis\")\n",
    "else:\n",
    "    print(\"we are going to accpept the null hyphothesis\")"
   ]
  },
  {
   "cell_type": "markdown",
   "id": "dbe3474f",
   "metadata": {},
   "source": [
    "# 1 how to check the normality of the data\n",
    "# 2. z test\n",
    "# 3. t test\n",
    "# 4. chi squre test\n",
    "# 5 anova test"
   ]
  },
  {
   "cell_type": "code",
   "execution_count": 79,
   "id": "9fc867e4",
   "metadata": {},
   "outputs": [],
   "source": [
    "#import the dataset\n",
    "import pandas as pd\n",
    "data=pd.read_csv(\"https://raw.githubusercontent.com/shrikant-temburwar/Wine-Quality-Dataset/master/winequality-red.csv\",sep=\";\")"
   ]
  },
  {
   "cell_type": "code",
   "execution_count": 80,
   "id": "4a406322",
   "metadata": {},
   "outputs": [
    {
     "data": {
      "text/html": [
       "<div>\n",
       "<style scoped>\n",
       "    .dataframe tbody tr th:only-of-type {\n",
       "        vertical-align: middle;\n",
       "    }\n",
       "\n",
       "    .dataframe tbody tr th {\n",
       "        vertical-align: top;\n",
       "    }\n",
       "\n",
       "    .dataframe thead th {\n",
       "        text-align: right;\n",
       "    }\n",
       "</style>\n",
       "<table border=\"1\" class=\"dataframe\">\n",
       "  <thead>\n",
       "    <tr style=\"text-align: right;\">\n",
       "      <th></th>\n",
       "      <th>fixed acidity</th>\n",
       "      <th>volatile acidity</th>\n",
       "      <th>citric acid</th>\n",
       "      <th>residual sugar</th>\n",
       "      <th>chlorides</th>\n",
       "      <th>free sulfur dioxide</th>\n",
       "      <th>total sulfur dioxide</th>\n",
       "      <th>density</th>\n",
       "      <th>pH</th>\n",
       "      <th>sulphates</th>\n",
       "      <th>alcohol</th>\n",
       "      <th>quality</th>\n",
       "    </tr>\n",
       "  </thead>\n",
       "  <tbody>\n",
       "    <tr>\n",
       "      <th>0</th>\n",
       "      <td>7.4</td>\n",
       "      <td>0.700</td>\n",
       "      <td>0.00</td>\n",
       "      <td>1.9</td>\n",
       "      <td>0.076</td>\n",
       "      <td>11.0</td>\n",
       "      <td>34.0</td>\n",
       "      <td>0.99780</td>\n",
       "      <td>3.51</td>\n",
       "      <td>0.56</td>\n",
       "      <td>9.4</td>\n",
       "      <td>5</td>\n",
       "    </tr>\n",
       "    <tr>\n",
       "      <th>1</th>\n",
       "      <td>7.8</td>\n",
       "      <td>0.880</td>\n",
       "      <td>0.00</td>\n",
       "      <td>2.6</td>\n",
       "      <td>0.098</td>\n",
       "      <td>25.0</td>\n",
       "      <td>67.0</td>\n",
       "      <td>0.99680</td>\n",
       "      <td>3.20</td>\n",
       "      <td>0.68</td>\n",
       "      <td>9.8</td>\n",
       "      <td>5</td>\n",
       "    </tr>\n",
       "    <tr>\n",
       "      <th>2</th>\n",
       "      <td>7.8</td>\n",
       "      <td>0.760</td>\n",
       "      <td>0.04</td>\n",
       "      <td>2.3</td>\n",
       "      <td>0.092</td>\n",
       "      <td>15.0</td>\n",
       "      <td>54.0</td>\n",
       "      <td>0.99700</td>\n",
       "      <td>3.26</td>\n",
       "      <td>0.65</td>\n",
       "      <td>9.8</td>\n",
       "      <td>5</td>\n",
       "    </tr>\n",
       "    <tr>\n",
       "      <th>3</th>\n",
       "      <td>11.2</td>\n",
       "      <td>0.280</td>\n",
       "      <td>0.56</td>\n",
       "      <td>1.9</td>\n",
       "      <td>0.075</td>\n",
       "      <td>17.0</td>\n",
       "      <td>60.0</td>\n",
       "      <td>0.99800</td>\n",
       "      <td>3.16</td>\n",
       "      <td>0.58</td>\n",
       "      <td>9.8</td>\n",
       "      <td>6</td>\n",
       "    </tr>\n",
       "    <tr>\n",
       "      <th>4</th>\n",
       "      <td>7.4</td>\n",
       "      <td>0.700</td>\n",
       "      <td>0.00</td>\n",
       "      <td>1.9</td>\n",
       "      <td>0.076</td>\n",
       "      <td>11.0</td>\n",
       "      <td>34.0</td>\n",
       "      <td>0.99780</td>\n",
       "      <td>3.51</td>\n",
       "      <td>0.56</td>\n",
       "      <td>9.4</td>\n",
       "      <td>5</td>\n",
       "    </tr>\n",
       "    <tr>\n",
       "      <th>...</th>\n",
       "      <td>...</td>\n",
       "      <td>...</td>\n",
       "      <td>...</td>\n",
       "      <td>...</td>\n",
       "      <td>...</td>\n",
       "      <td>...</td>\n",
       "      <td>...</td>\n",
       "      <td>...</td>\n",
       "      <td>...</td>\n",
       "      <td>...</td>\n",
       "      <td>...</td>\n",
       "      <td>...</td>\n",
       "    </tr>\n",
       "    <tr>\n",
       "      <th>1594</th>\n",
       "      <td>6.2</td>\n",
       "      <td>0.600</td>\n",
       "      <td>0.08</td>\n",
       "      <td>2.0</td>\n",
       "      <td>0.090</td>\n",
       "      <td>32.0</td>\n",
       "      <td>44.0</td>\n",
       "      <td>0.99490</td>\n",
       "      <td>3.45</td>\n",
       "      <td>0.58</td>\n",
       "      <td>10.5</td>\n",
       "      <td>5</td>\n",
       "    </tr>\n",
       "    <tr>\n",
       "      <th>1595</th>\n",
       "      <td>5.9</td>\n",
       "      <td>0.550</td>\n",
       "      <td>0.10</td>\n",
       "      <td>2.2</td>\n",
       "      <td>0.062</td>\n",
       "      <td>39.0</td>\n",
       "      <td>51.0</td>\n",
       "      <td>0.99512</td>\n",
       "      <td>3.52</td>\n",
       "      <td>0.76</td>\n",
       "      <td>11.2</td>\n",
       "      <td>6</td>\n",
       "    </tr>\n",
       "    <tr>\n",
       "      <th>1596</th>\n",
       "      <td>6.3</td>\n",
       "      <td>0.510</td>\n",
       "      <td>0.13</td>\n",
       "      <td>2.3</td>\n",
       "      <td>0.076</td>\n",
       "      <td>29.0</td>\n",
       "      <td>40.0</td>\n",
       "      <td>0.99574</td>\n",
       "      <td>3.42</td>\n",
       "      <td>0.75</td>\n",
       "      <td>11.0</td>\n",
       "      <td>6</td>\n",
       "    </tr>\n",
       "    <tr>\n",
       "      <th>1597</th>\n",
       "      <td>5.9</td>\n",
       "      <td>0.645</td>\n",
       "      <td>0.12</td>\n",
       "      <td>2.0</td>\n",
       "      <td>0.075</td>\n",
       "      <td>32.0</td>\n",
       "      <td>44.0</td>\n",
       "      <td>0.99547</td>\n",
       "      <td>3.57</td>\n",
       "      <td>0.71</td>\n",
       "      <td>10.2</td>\n",
       "      <td>5</td>\n",
       "    </tr>\n",
       "    <tr>\n",
       "      <th>1598</th>\n",
       "      <td>6.0</td>\n",
       "      <td>0.310</td>\n",
       "      <td>0.47</td>\n",
       "      <td>3.6</td>\n",
       "      <td>0.067</td>\n",
       "      <td>18.0</td>\n",
       "      <td>42.0</td>\n",
       "      <td>0.99549</td>\n",
       "      <td>3.39</td>\n",
       "      <td>0.66</td>\n",
       "      <td>11.0</td>\n",
       "      <td>6</td>\n",
       "    </tr>\n",
       "  </tbody>\n",
       "</table>\n",
       "<p>1599 rows × 12 columns</p>\n",
       "</div>"
      ],
      "text/plain": [
       "      fixed acidity  volatile acidity  citric acid  residual sugar  chlorides  \\\n",
       "0               7.4             0.700         0.00             1.9      0.076   \n",
       "1               7.8             0.880         0.00             2.6      0.098   \n",
       "2               7.8             0.760         0.04             2.3      0.092   \n",
       "3              11.2             0.280         0.56             1.9      0.075   \n",
       "4               7.4             0.700         0.00             1.9      0.076   \n",
       "...             ...               ...          ...             ...        ...   \n",
       "1594            6.2             0.600         0.08             2.0      0.090   \n",
       "1595            5.9             0.550         0.10             2.2      0.062   \n",
       "1596            6.3             0.510         0.13             2.3      0.076   \n",
       "1597            5.9             0.645         0.12             2.0      0.075   \n",
       "1598            6.0             0.310         0.47             3.6      0.067   \n",
       "\n",
       "      free sulfur dioxide  total sulfur dioxide  density    pH  sulphates  \\\n",
       "0                    11.0                  34.0  0.99780  3.51       0.56   \n",
       "1                    25.0                  67.0  0.99680  3.20       0.68   \n",
       "2                    15.0                  54.0  0.99700  3.26       0.65   \n",
       "3                    17.0                  60.0  0.99800  3.16       0.58   \n",
       "4                    11.0                  34.0  0.99780  3.51       0.56   \n",
       "...                   ...                   ...      ...   ...        ...   \n",
       "1594                 32.0                  44.0  0.99490  3.45       0.58   \n",
       "1595                 39.0                  51.0  0.99512  3.52       0.76   \n",
       "1596                 29.0                  40.0  0.99574  3.42       0.75   \n",
       "1597                 32.0                  44.0  0.99547  3.57       0.71   \n",
       "1598                 18.0                  42.0  0.99549  3.39       0.66   \n",
       "\n",
       "      alcohol  quality  \n",
       "0         9.4        5  \n",
       "1         9.8        5  \n",
       "2         9.8        5  \n",
       "3         9.8        6  \n",
       "4         9.4        5  \n",
       "...       ...      ...  \n",
       "1594     10.5        5  \n",
       "1595     11.2        6  \n",
       "1596     11.0        6  \n",
       "1597     10.2        5  \n",
       "1598     11.0        6  \n",
       "\n",
       "[1599 rows x 12 columns]"
      ]
     },
     "execution_count": 80,
     "metadata": {},
     "output_type": "execute_result"
    }
   ],
   "source": [
    "data"
   ]
  },
  {
   "cell_type": "code",
   "execution_count": 81,
   "id": "ad2abbbe",
   "metadata": {},
   "outputs": [
    {
     "data": {
      "text/plain": [
       "0       0.700\n",
       "1       0.880\n",
       "2       0.760\n",
       "3       0.280\n",
       "4       0.700\n",
       "        ...  \n",
       "1594    0.600\n",
       "1595    0.550\n",
       "1596    0.510\n",
       "1597    0.645\n",
       "1598    0.310\n",
       "Name: volatile acidity, Length: 1599, dtype: float64"
      ]
     },
     "execution_count": 81,
     "metadata": {},
     "output_type": "execute_result"
    }
   ],
   "source": [
    "data[\"volatile acidity\"]"
   ]
  },
  {
   "cell_type": "code",
   "execution_count": 83,
   "id": "f2046844",
   "metadata": {},
   "outputs": [
    {
     "data": {
      "text/plain": [
       "<AxesSubplot:xlabel='volatile acidity', ylabel='Density'>"
      ]
     },
     "execution_count": 83,
     "metadata": {},
     "output_type": "execute_result"
    },
    {
     "data": {
      "image/png": "[encoded data removed]",
      "text/plain": [
       "<Figure size 640x480 with 1 Axes>"
      ]
     },
     "metadata": {},
     "output_type": "display_data"
    }
   ],
   "source": [
    "sns.distplot(data[\"volatile acidity\"] , kde = True , color = \"red\")"
   ]
  },
  {
   "cell_type": "code",
   "execution_count": 84,
   "id": "f6cd5016",
   "metadata": {},
   "outputs": [
    {
     "data": {
      "text/plain": [
       "<AxesSubplot:xlabel='citric acid', ylabel='Density'>"
      ]
     },
     "execution_count": 84,
     "metadata": {},
     "output_type": "execute_result"
    },
    {
     "data": {
      "image/png": "[encoded data removed]",
      "text/plain": [
       "<Figure size 640x480 with 1 Axes>"
      ]
     },
     "metadata": {},
     "output_type": "display_data"
    }
   ],
   "source": [
    "sns.distplot(data[\"citric acid\"] , kde = True)"
   ]
  },
  {
   "cell_type": "code",
   "execution_count": 92,
   "id": "6328e222",
   "metadata": {},
   "outputs": [
    {
     "data": {
      "text/plain": [
       "ShapiroResult(statistic=0.9743338823318481, pvalue=2.686385373947307e-16)"
      ]
     },
     "execution_count": 92,
     "metadata": {},
     "output_type": "execute_result"
    }
   ],
   "source": [
    "# this is method for checking data normal distribution or not \n",
    "from scipy import stats\n",
    "stats.shapiro(data['volatile acidity'])"
   ]
  },
  {
   "cell_type": "code",
   "execution_count": 91,
   "id": "4806b81b",
   "metadata": {},
   "outputs": [],
   "source": [
    "pvalue = stats.shapiro(data['volatile acidity'])[1]"
   ]
  },
  {
   "cell_type": "code",
   "execution_count": 94,
   "id": "a1429958",
   "metadata": {},
   "outputs": [],
   "source": [
    "alpha = 0.05"
   ]
  },
  {
   "cell_type": "code",
   "execution_count": 95,
   "id": "2ff57beb",
   "metadata": {},
   "outputs": [
    {
     "name": "stdout",
     "output_type": "stream",
     "text": [
      "This is not Normal Distribution\n"
     ]
    }
   ],
   "source": [
    "if pvalue<=alpha:\n",
    "    print(\"This is not Normal Distribution\")\n",
    "else:\n",
    "    print(\"This is Normal Distribution\")\n",
    "    "
   ]
  },
  {
   "cell_type": "code",
   "execution_count": 96,
   "id": "b001a0bb",
   "metadata": {},
   "outputs": [],
   "source": [
    "from numpy.random import randn\n",
    "mydata=randn(500)"
   ]
  },
  {
   "cell_type": "code",
   "execution_count": 97,
   "id": "03070a89",
   "metadata": {},
   "outputs": [
    {
     "data": {
      "text/plain": [
       "<AxesSubplot:ylabel='Density'>"
      ]
     },
     "execution_count": 97,
     "metadata": {},
     "output_type": "execute_result"
    },
    {
     "data": {
      "image/png": "[encoded data removed]",
      "text/plain": [
       "<Figure size 640x480 with 1 Axes>"
      ]
     },
     "metadata": {},
     "output_type": "display_data"
    }
   ],
   "source": [
    "sns.distplot(mydata , kde= True)"
   ]
  },
  {
   "cell_type": "code",
   "execution_count": 98,
   "id": "c9135b0a",
   "metadata": {},
   "outputs": [],
   "source": [
    "result=stats.shapiro(mydata)"
   ]
  },
  {
   "cell_type": "code",
   "execution_count": 99,
   "id": "7389bb89",
   "metadata": {},
   "outputs": [
    {
     "data": {
      "text/plain": [
       "ShapiroResult(statistic=0.996484637260437, pvalue=0.3434622585773468)"
      ]
     },
     "execution_count": 99,
     "metadata": {},
     "output_type": "execute_result"
    }
   ],
   "source": [
    "result"
   ]
  },
  {
   "cell_type": "code",
   "execution_count": 101,
   "id": "41d049fa",
   "metadata": {},
   "outputs": [],
   "source": [
    "pvalue = result[1]"
   ]
  },
  {
   "cell_type": "code",
   "execution_count": 102,
   "id": "3ff38543",
   "metadata": {},
   "outputs": [
    {
     "name": "stdout",
     "output_type": "stream",
     "text": [
      "This is Normal Distribution\n"
     ]
    }
   ],
   "source": [
    "if pvalue<=alpha:\n",
    "    print(\"This is not Normal Distribution\")\n",
    "else:\n",
    "    print(\"This is Normal Distribution\")"
   ]
  },
  {
   "cell_type": "markdown",
   "id": "aac00eed",
   "metadata": {},
   "source": [
    "# what is my null hyphothesis?\n",
    "# null hypothesis that the data was drawn from a normal distribution."
   ]
  },
  {
   "cell_type": "code",
   "execution_count": 103,
   "id": "671a52d8",
   "metadata": {},
   "outputs": [
    {
     "data": {
      "text/plain": [
       "NormaltestResult(statistic=152.039214793795, pvalue=9.662822259281018e-34)"
      ]
     },
     "execution_count": 103,
     "metadata": {},
     "output_type": "execute_result"
    }
   ],
   "source": [
    "from scipy import stats\n",
    "stats.normaltest(data['citric acid'])"
   ]
  },
  {
   "cell_type": "code",
   "execution_count": 104,
   "id": "84a9e6a6",
   "metadata": {},
   "outputs": [
    {
     "data": {
      "text/plain": [
       "NormaltestResult(statistic=2.6275205748544503, pvalue=0.2688073606258878)"
      ]
     },
     "execution_count": 104,
     "metadata": {},
     "output_type": "execute_result"
    }
   ],
   "source": [
    "stats.normaltest(mydata)\n"
   ]
  },
  {
   "cell_type": "code",
   "execution_count": 107,
   "id": "f48b4eab",
   "metadata": {},
   "outputs": [],
   "source": [
    "sample_mean_iq=110\n",
    "alpha=0.05\n",
    "#ci=95%"
   ]
  },
  {
   "cell_type": "code",
   "execution_count": 106,
   "id": "a1c7380b",
   "metadata": {},
   "outputs": [],
   "source": [
    "mean_std_dev=15\n",
    "mean_population=100"
   ]
  },
  {
   "cell_type": "code",
   "execution_count": 111,
   "id": "b4802b76",
   "metadata": {},
   "outputs": [],
   "source": [
    "data = mean_std_dev*randn(50)+sample_mean_iq"
   ]
  },
  {
   "cell_type": "code",
   "execution_count": 113,
   "id": "e91b4218",
   "metadata": {},
   "outputs": [
    {
     "data": {
      "text/plain": [
       "array([100.28656538, 120.93975636,  94.70195798, 100.49287939,\n",
       "       130.19034829, 115.76168005,  95.259022  , 143.63424819,\n",
       "       122.61455084, 118.67231792,  92.11936875, 118.79910116,\n",
       "        91.69756467,  90.95187579, 110.51155966, 124.71609767,\n",
       "       103.45976433, 132.60551672,  92.7714393 , 111.62044097,\n",
       "       115.22717984, 108.98890253,  96.19184858, 122.48871333,\n",
       "       119.99047691, 112.78896431,  94.00702342, 109.88403803,\n",
       "       123.64938446, 130.48280377, 101.58301865, 120.79345766,\n",
       "       108.77710621,  99.79667864, 111.177829  ,  99.5718263 ,\n",
       "       107.42473006, 117.81018108, 101.28606408, 120.73655598,\n",
       "        98.82273495,  93.96113862, 126.36974769, 113.29958248,\n",
       "       109.41659637,  87.24342291, 124.85512336, 125.236506  ,\n",
       "       117.4795225 , 106.53202795])"
      ]
     },
     "execution_count": 113,
     "metadata": {},
     "output_type": "execute_result"
    }
   ],
   "source": [
    "data"
   ]
  },
  {
   "cell_type": "code",
   "execution_count": 112,
   "id": "b85607e6",
   "metadata": {},
   "outputs": [
    {
     "data": {
      "text/plain": [
       "110.7535848217202"
      ]
     },
     "execution_count": 112,
     "metadata": {},
     "output_type": "execute_result"
    }
   ],
   "source": [
    "np.mean(data)"
   ]
  },
  {
   "cell_type": "code",
   "execution_count": 114,
   "id": "8fbfe0c0",
   "metadata": {},
   "outputs": [
    {
     "data": {
      "text/plain": [
       "12.96530561752922"
      ]
     },
     "execution_count": 114,
     "metadata": {},
     "output_type": "execute_result"
    }
   ],
   "source": [
    "np.std(data)"
   ]
  },
  {
   "cell_type": "code",
   "execution_count": 115,
   "id": "de5aad3d",
   "metadata": {},
   "outputs": [],
   "source": [
    "null_hyphothesis_value=100\n"
   ]
  },
  {
   "cell_type": "code",
   "execution_count": 116,
   "id": "5b86a4f9",
   "metadata": {},
   "outputs": [
    {
     "data": {
      "text/plain": [
       "(5.805886569327661, 3.2013149272983766e-09)"
      ]
     },
     "execution_count": 116,
     "metadata": {},
     "output_type": "execute_result"
    }
   ],
   "source": [
    "# find z-test syntex \n",
    "\n",
    "from statsmodels.stats.weightstats import ztest\n",
    "ztest(data,value=null_hyphothesis_value,alternative='larger')"
   ]
  },
  {
   "cell_type": "markdown",
   "id": "e94f19c0",
   "metadata": {},
   "source": [
    "# T-test"
   ]
  },
  {
   "cell_type": "code",
   "execution_count": 118,
   "id": "3ac82344",
   "metadata": {},
   "outputs": [],
   "source": [
    "# ztest vs test\n",
    "# sample size less than 30\n",
    "# pop var/pop std won't be there"
   ]
  },
  {
   "cell_type": "code",
   "execution_count": 119,
   "id": "4842a258",
   "metadata": {},
   "outputs": [],
   "source": [
    "# one-sample t test(with respect to one independent sample)\n",
    "# two-sample t test(with respect to two independent sample)\n",
    "# paired t-test(two sample from the sample population on different time interval)"
   ]
  },
  {
   "cell_type": "code",
   "execution_count": 120,
   "id": "de0ed2df",
   "metadata": {},
   "outputs": [
    {
     "data": {
      "text/plain": [
       "array([33, 43, 25, 23, 24, 28, 17, 32, 33, 23, 10, 46, 13, 29, 34, 25, 39,\n",
       "       39, 45, 35, 43, 13, 49, 25, 10, 40, 20, 39, 36, 22, 34, 11, 28, 43,\n",
       "       32, 12, 13, 24, 36, 36, 25, 17, 29, 37, 40, 25, 20, 28, 19, 21])"
      ]
     },
     "execution_count": 120,
     "metadata": {},
     "output_type": "execute_result"
    }
   ],
   "source": [
    "import random\n",
    "import numpy as np\n",
    "np.random.randint(10,50,50)"
   ]
  },
  {
   "cell_type": "code",
   "execution_count": 121,
   "id": "b46fd9e4",
   "metadata": {},
   "outputs": [],
   "source": [
    "population=np.random.randint(10,50,50)\n"
   ]
  },
  {
   "cell_type": "code",
   "execution_count": 122,
   "id": "4f5f9667",
   "metadata": {},
   "outputs": [],
   "source": [
    "sample1 = np.random.choice(population , 20)"
   ]
  },
  {
   "cell_type": "code",
   "execution_count": 123,
   "id": "cb008aa9",
   "metadata": {},
   "outputs": [],
   "source": [
    "sample2 = np.random.choice(population , 20)"
   ]
  },
  {
   "cell_type": "code",
   "execution_count": 124,
   "id": "209851ae",
   "metadata": {},
   "outputs": [
    {
     "data": {
      "text/plain": [
       "array([21, 39, 26, 14, 26, 28, 41, 19, 35, 20, 11, 25, 17, 40, 13, 49, 13,\n",
       "       16, 13, 19])"
      ]
     },
     "execution_count": 124,
     "metadata": {},
     "output_type": "execute_result"
    }
   ],
   "source": [
    "sample1"
   ]
  },
  {
   "cell_type": "code",
   "execution_count": 128,
   "id": "8368b492",
   "metadata": {},
   "outputs": [
    {
     "data": {
      "text/plain": [
       "24.25"
      ]
     },
     "execution_count": 128,
     "metadata": {},
     "output_type": "execute_result"
    }
   ],
   "source": [
    "np.mean(sample1)"
   ]
  },
  {
   "cell_type": "code",
   "execution_count": 126,
   "id": "c41174cd",
   "metadata": {},
   "outputs": [
    {
     "data": {
      "text/plain": [
       "array([27, 40, 35, 14, 27, 10, 14, 49, 19, 19, 49, 43, 19, 32, 17, 47, 35,\n",
       "       23, 17, 16])"
      ]
     },
     "execution_count": 126,
     "metadata": {},
     "output_type": "execute_result"
    }
   ],
   "source": [
    "sample2"
   ]
  },
  {
   "cell_type": "code",
   "execution_count": 127,
   "id": "50277076",
   "metadata": {},
   "outputs": [
    {
     "data": {
      "text/plain": [
       "27.6"
      ]
     },
     "execution_count": 127,
     "metadata": {},
     "output_type": "execute_result"
    }
   ],
   "source": [
    "np.mean(sample2)"
   ]
  },
  {
   "cell_type": "code",
   "execution_count": 129,
   "id": "32e6e470",
   "metadata": {},
   "outputs": [],
   "source": [
    "my_cricket_score=[22, 38, 19, 15, 48, 11, 10, 49, 47, 38, 10, 25, 46, 10, 21, 24, 29,36, 25, 24]\n"
   ]
  },
  {
   "cell_type": "code",
   "execution_count": 130,
   "id": "097d4a90",
   "metadata": {},
   "outputs": [
    {
     "data": {
      "text/plain": [
       "27.35"
      ]
     },
     "execution_count": 130,
     "metadata": {},
     "output_type": "execute_result"
    }
   ],
   "source": [
    "np.mean(my_cricket_score)"
   ]
  },
  {
   "cell_type": "code",
   "execution_count": 131,
   "id": "a0d72c45",
   "metadata": {},
   "outputs": [],
   "source": [
    "# null_hyphothesis=sample mean should be 27.35\n"
   ]
  },
  {
   "cell_type": "code",
   "execution_count": 132,
   "id": "64e7086c",
   "metadata": {},
   "outputs": [],
   "source": [
    "virat_cricket_score=[33, 45, 23, 25, 46, 46, 46, 49, 49, 14, 14, 44, 25, 31, 25, 40, 30,20, 42, 37]\n"
   ]
  },
  {
   "cell_type": "code",
   "execution_count": 133,
   "id": "3537de08",
   "metadata": {},
   "outputs": [
    {
     "data": {
      "text/plain": [
       "34.2"
      ]
     },
     "execution_count": 133,
     "metadata": {},
     "output_type": "execute_result"
    }
   ],
   "source": [
    "np.mean(virat_cricket_score)"
   ]
  },
  {
   "cell_type": "code",
   "execution_count": 141,
   "id": "cc31d8dc",
   "metadata": {},
   "outputs": [],
   "source": [
    "import scipy\n",
    "result=scipy.stats.ttest_1samp(my_cricket_score,15)"
   ]
  },
  {
   "cell_type": "code",
   "execution_count": 140,
   "id": "2d118725",
   "metadata": {},
   "outputs": [
    {
     "data": {
      "text/plain": [
       "Ttest_1sampResult(statistic=-10.203919728868648, pvalue=3.798254058489987e-09)"
      ]
     },
     "execution_count": 140,
     "metadata": {},
     "output_type": "execute_result"
    }
   ],
   "source": [
    "result"
   ]
  },
  {
   "cell_type": "code",
   "execution_count": 142,
   "id": "82d6d1a6",
   "metadata": {},
   "outputs": [
    {
     "data": {
      "text/plain": [
       "0.0005939030580482863"
      ]
     },
     "execution_count": 142,
     "metadata": {},
     "output_type": "execute_result"
    }
   ],
   "source": [
    "result[1]"
   ]
  },
  {
   "cell_type": "code",
   "execution_count": 143,
   "id": "3202c4e8",
   "metadata": {},
   "outputs": [
    {
     "data": {
      "text/plain": [
       "True"
      ]
     },
     "execution_count": 143,
     "metadata": {},
     "output_type": "execute_result"
    }
   ],
   "source": [
    "# we are going to reject the null hyphothesis\n",
    "p_value<=0.05\n"
   ]
  },
  {
   "cell_type": "code",
   "execution_count": 144,
   "id": "0d949f09",
   "metadata": {},
   "outputs": [
    {
     "data": {
      "text/plain": [
       "False"
      ]
     },
     "execution_count": 144,
     "metadata": {},
     "output_type": "execute_result"
    }
   ],
   "source": [
    "#if P_value we are going to accept the null hyphgothesis\n",
    "p_value>0.05"
   ]
  },
  {
   "cell_type": "code",
   "execution_count": 145,
   "id": "0388a39c",
   "metadata": {},
   "outputs": [
    {
     "data": {
      "text/plain": [
       "Ttest_1sampResult(statistic=0.11652110620241571, pvalue=0.9084623785416333)"
      ]
     },
     "execution_count": 145,
     "metadata": {},
     "output_type": "execute_result"
    }
   ],
   "source": [
    "scipy.stats.ttest_1samp(my_cricket_score,27)\n"
   ]
  },
  {
   "cell_type": "code",
   "execution_count": 146,
   "id": "ce4e0ef1",
   "metadata": {},
   "outputs": [],
   "source": [
    "#two-sample t test(with respect to two independent sample)\n",
    "my_cricket_score=[22, 38, 19, 15, 48, 11, 10, 49, 47, 38, 10, 25, 46, 10, 21, 24, 29,36, 25, 24]\n",
    "\n",
    "virat_cricket_score=[33, 45, 23, 25, 46, 46, 46, 49, 49, 44, 44, 49, 25, 31, 25, 40, 30,20, 42, 37]"
   ]
  },
  {
   "cell_type": "code",
   "execution_count": 147,
   "id": "69e83dc8",
   "metadata": {},
   "outputs": [],
   "source": [
    "first_sample_mean=np.mean(my_cricket_score)\n",
    "second_sample_mean=np.mean(virat_cricket_score)"
   ]
  },
  {
   "cell_type": "code",
   "execution_count": 148,
   "id": "b55241f6",
   "metadata": {},
   "outputs": [
    {
     "name": "stdout",
     "output_type": "stream",
     "text": [
      "27.35\n",
      "37.45\n"
     ]
    }
   ],
   "source": [
    "print(first_sample_mean)\n",
    "print(second_sample_mean)"
   ]
  },
  {
   "cell_type": "code",
   "execution_count": 149,
   "id": "f0dd780a",
   "metadata": {},
   "outputs": [],
   "source": [
    "# my_null_hyphothsis=both sample mean will be same"
   ]
  },
  {
   "cell_type": "code",
   "execution_count": 150,
   "id": "a80a0259",
   "metadata": {},
   "outputs": [
    {
     "data": {
      "text/plain": [
       "Ttest_indResult(statistic=-2.7009890879565885, pvalue=0.010269464981935)"
      ]
     },
     "execution_count": 150,
     "metadata": {},
     "output_type": "execute_result"
    }
   ],
   "source": [
    "scipy.stats.ttest_ind(my_cricket_score,virat_cricket_score)"
   ]
  },
  {
   "cell_type": "code",
   "execution_count": 151,
   "id": "73e2e805",
   "metadata": {},
   "outputs": [
    {
     "data": {
      "text/plain": [
       "False"
      ]
     },
     "execution_count": 151,
     "metadata": {},
     "output_type": "execute_result"
    }
   ],
   "source": [
    "# we are going to reject the null hyphothesis\n",
    "p_value<=0.05\n",
    "#if P_value we are going to accept the null hyphgothesis\n",
    "p_value>0.05"
   ]
  },
  {
   "cell_type": "code",
   "execution_count": 152,
   "id": "116ad965",
   "metadata": {},
   "outputs": [],
   "source": [
    "#paired t-test(two sample from the sample population on different time interval)\n",
    "my_cricket_score_from_first_inning=[22, 38, 19, 15, 48, 11, 10, 49, 47, 38, 10, 25, 46, 10, 21, 24, 29,36, 25, 24]\n",
    "my_cricket_score_from_second_inning=[22, 38, 29, 15, 18, 11, 10, 49, 47, 38, 50, 45, 46, 40, 21, 24, 29,16, 25, 24]"
   ]
  },
  {
   "cell_type": "code",
   "execution_count": 153,
   "id": "87cc21c9",
   "metadata": {},
   "outputs": [
    {
     "name": "stdout",
     "output_type": "stream",
     "text": [
      "27.35\n",
      "29.85\n"
     ]
    }
   ],
   "source": [
    "print(np.mean(my_cricket_score_from_first_inning))\n",
    "print(np.mean(my_cricket_score_from_second_inning))"
   ]
  },
  {
   "cell_type": "code",
   "execution_count": 154,
   "id": "242dd109",
   "metadata": {},
   "outputs": [
    {
     "data": {
      "text/plain": [
       "Ttest_relResult(statistic=-0.7542295906745516, pvalue=0.45995773816634733)"
      ]
     },
     "execution_count": 154,
     "metadata": {},
     "output_type": "execute_result"
    }
   ],
   "source": [
    "scipy.stats.ttest_rel(my_cricket_score_from_first_inning,my_cricket_score_from_second_inning)"
   ]
  },
  {
   "cell_type": "markdown",
   "id": "a2340e5d",
   "metadata": {},
   "source": [
    "# CHI -SQURE TEST"
   ]
  },
  {
   "cell_type": "code",
   "execution_count": 155,
   "id": "aae92a4e",
   "metadata": {},
   "outputs": [],
   "source": [
    "import seaborn as sns\n",
    "dataset=sns.load_dataset('tips')"
   ]
  },
  {
   "cell_type": "code",
   "execution_count": 156,
   "id": "96dda249",
   "metadata": {},
   "outputs": [
    {
     "data": {
      "text/html": [
       "<div>\n",
       "<style scoped>\n",
       "    .dataframe tbody tr th:only-of-type {\n",
       "        vertical-align: middle;\n",
       "    }\n",
       "\n",
       "    .dataframe tbody tr th {\n",
       "        vertical-align: top;\n",
       "    }\n",
       "\n",
       "    .dataframe thead th {\n",
       "        text-align: right;\n",
       "    }\n",
       "</style>\n",
       "<table border=\"1\" class=\"dataframe\">\n",
       "  <thead>\n",
       "    <tr style=\"text-align: right;\">\n",
       "      <th></th>\n",
       "      <th>total_bill</th>\n",
       "      <th>tip</th>\n",
       "      <th>sex</th>\n",
       "      <th>smoker</th>\n",
       "      <th>day</th>\n",
       "      <th>time</th>\n",
       "      <th>size</th>\n",
       "    </tr>\n",
       "  </thead>\n",
       "  <tbody>\n",
       "    <tr>\n",
       "      <th>0</th>\n",
       "      <td>16.99</td>\n",
       "      <td>1.01</td>\n",
       "      <td>Female</td>\n",
       "      <td>No</td>\n",
       "      <td>Sun</td>\n",
       "      <td>Dinner</td>\n",
       "      <td>2</td>\n",
       "    </tr>\n",
       "    <tr>\n",
       "      <th>1</th>\n",
       "      <td>10.34</td>\n",
       "      <td>1.66</td>\n",
       "      <td>Male</td>\n",
       "      <td>No</td>\n",
       "      <td>Sun</td>\n",
       "      <td>Dinner</td>\n",
       "      <td>3</td>\n",
       "    </tr>\n",
       "    <tr>\n",
       "      <th>2</th>\n",
       "      <td>21.01</td>\n",
       "      <td>3.50</td>\n",
       "      <td>Male</td>\n",
       "      <td>No</td>\n",
       "      <td>Sun</td>\n",
       "      <td>Dinner</td>\n",
       "      <td>3</td>\n",
       "    </tr>\n",
       "    <tr>\n",
       "      <th>3</th>\n",
       "      <td>23.68</td>\n",
       "      <td>3.31</td>\n",
       "      <td>Male</td>\n",
       "      <td>No</td>\n",
       "      <td>Sun</td>\n",
       "      <td>Dinner</td>\n",
       "      <td>2</td>\n",
       "    </tr>\n",
       "    <tr>\n",
       "      <th>4</th>\n",
       "      <td>24.59</td>\n",
       "      <td>3.61</td>\n",
       "      <td>Female</td>\n",
       "      <td>No</td>\n",
       "      <td>Sun</td>\n",
       "      <td>Dinner</td>\n",
       "      <td>4</td>\n",
       "    </tr>\n",
       "    <tr>\n",
       "      <th>...</th>\n",
       "      <td>...</td>\n",
       "      <td>...</td>\n",
       "      <td>...</td>\n",
       "      <td>...</td>\n",
       "      <td>...</td>\n",
       "      <td>...</td>\n",
       "      <td>...</td>\n",
       "    </tr>\n",
       "    <tr>\n",
       "      <th>239</th>\n",
       "      <td>29.03</td>\n",
       "      <td>5.92</td>\n",
       "      <td>Male</td>\n",
       "      <td>No</td>\n",
       "      <td>Sat</td>\n",
       "      <td>Dinner</td>\n",
       "      <td>3</td>\n",
       "    </tr>\n",
       "    <tr>\n",
       "      <th>240</th>\n",
       "      <td>27.18</td>\n",
       "      <td>2.00</td>\n",
       "      <td>Female</td>\n",
       "      <td>Yes</td>\n",
       "      <td>Sat</td>\n",
       "      <td>Dinner</td>\n",
       "      <td>2</td>\n",
       "    </tr>\n",
       "    <tr>\n",
       "      <th>241</th>\n",
       "      <td>22.67</td>\n",
       "      <td>2.00</td>\n",
       "      <td>Male</td>\n",
       "      <td>Yes</td>\n",
       "      <td>Sat</td>\n",
       "      <td>Dinner</td>\n",
       "      <td>2</td>\n",
       "    </tr>\n",
       "    <tr>\n",
       "      <th>242</th>\n",
       "      <td>17.82</td>\n",
       "      <td>1.75</td>\n",
       "      <td>Male</td>\n",
       "      <td>No</td>\n",
       "      <td>Sat</td>\n",
       "      <td>Dinner</td>\n",
       "      <td>2</td>\n",
       "    </tr>\n",
       "    <tr>\n",
       "      <th>243</th>\n",
       "      <td>18.78</td>\n",
       "      <td>3.00</td>\n",
       "      <td>Female</td>\n",
       "      <td>No</td>\n",
       "      <td>Thur</td>\n",
       "      <td>Dinner</td>\n",
       "      <td>2</td>\n",
       "    </tr>\n",
       "  </tbody>\n",
       "</table>\n",
       "<p>244 rows × 7 columns</p>\n",
       "</div>"
      ],
      "text/plain": [
       "     total_bill   tip     sex smoker   day    time  size\n",
       "0         16.99  1.01  Female     No   Sun  Dinner     2\n",
       "1         10.34  1.66    Male     No   Sun  Dinner     3\n",
       "2         21.01  3.50    Male     No   Sun  Dinner     3\n",
       "3         23.68  3.31    Male     No   Sun  Dinner     2\n",
       "4         24.59  3.61  Female     No   Sun  Dinner     4\n",
       "..          ...   ...     ...    ...   ...     ...   ...\n",
       "239       29.03  5.92    Male     No   Sat  Dinner     3\n",
       "240       27.18  2.00  Female    Yes   Sat  Dinner     2\n",
       "241       22.67  2.00    Male    Yes   Sat  Dinner     2\n",
       "242       17.82  1.75    Male     No   Sat  Dinner     2\n",
       "243       18.78  3.00  Female     No  Thur  Dinner     2\n",
       "\n",
       "[244 rows x 7 columns]"
      ]
     },
     "execution_count": 156,
     "metadata": {},
     "output_type": "execute_result"
    }
   ],
   "source": [
    "dataset"
   ]
  },
  {
   "cell_type": "code",
   "execution_count": 157,
   "id": "bf9d4068",
   "metadata": {},
   "outputs": [
    {
     "name": "stdout",
     "output_type": "stream",
     "text": [
      "<class 'pandas.core.frame.DataFrame'>\n",
      "RangeIndex: 244 entries, 0 to 243\n",
      "Data columns (total 7 columns):\n",
      " #   Column      Non-Null Count  Dtype   \n",
      "---  ------      --------------  -----   \n",
      " 0   total_bill  244 non-null    float64 \n",
      " 1   tip         244 non-null    float64 \n",
      " 2   sex         244 non-null    category\n",
      " 3   smoker      244 non-null    category\n",
      " 4   day         244 non-null    category\n",
      " 5   time        244 non-null    category\n",
      " 6   size        244 non-null    int64   \n",
      "dtypes: category(4), float64(2), int64(1)\n",
      "memory usage: 7.4 KB\n"
     ]
    }
   ],
   "source": [
    "dataset.info()\n"
   ]
  },
  {
   "cell_type": "code",
   "execution_count": 158,
   "id": "d68157c7",
   "metadata": {},
   "outputs": [
    {
     "data": {
      "text/plain": [
       "Index(['total_bill', 'tip', 'sex', 'smoker', 'day', 'time', 'size'], dtype='object')"
      ]
     },
     "execution_count": 158,
     "metadata": {},
     "output_type": "execute_result"
    }
   ],
   "source": [
    "dataset.columns\n"
   ]
  },
  {
   "cell_type": "code",
   "execution_count": 159,
   "id": "ac31f642",
   "metadata": {},
   "outputs": [
    {
     "data": {
      "text/html": [
       "<div>\n",
       "<style scoped>\n",
       "    .dataframe tbody tr th:only-of-type {\n",
       "        vertical-align: middle;\n",
       "    }\n",
       "\n",
       "    .dataframe tbody tr th {\n",
       "        vertical-align: top;\n",
       "    }\n",
       "\n",
       "    .dataframe thead th {\n",
       "        text-align: right;\n",
       "    }\n",
       "</style>\n",
       "<table border=\"1\" class=\"dataframe\">\n",
       "  <thead>\n",
       "    <tr style=\"text-align: right;\">\n",
       "      <th></th>\n",
       "      <th>sex</th>\n",
       "      <th>smoker</th>\n",
       "    </tr>\n",
       "  </thead>\n",
       "  <tbody>\n",
       "    <tr>\n",
       "      <th>0</th>\n",
       "      <td>Female</td>\n",
       "      <td>No</td>\n",
       "    </tr>\n",
       "    <tr>\n",
       "      <th>1</th>\n",
       "      <td>Male</td>\n",
       "      <td>No</td>\n",
       "    </tr>\n",
       "    <tr>\n",
       "      <th>2</th>\n",
       "      <td>Male</td>\n",
       "      <td>No</td>\n",
       "    </tr>\n",
       "    <tr>\n",
       "      <th>3</th>\n",
       "      <td>Male</td>\n",
       "      <td>No</td>\n",
       "    </tr>\n",
       "    <tr>\n",
       "      <th>4</th>\n",
       "      <td>Female</td>\n",
       "      <td>No</td>\n",
       "    </tr>\n",
       "    <tr>\n",
       "      <th>...</th>\n",
       "      <td>...</td>\n",
       "      <td>...</td>\n",
       "    </tr>\n",
       "    <tr>\n",
       "      <th>239</th>\n",
       "      <td>Male</td>\n",
       "      <td>No</td>\n",
       "    </tr>\n",
       "    <tr>\n",
       "      <th>240</th>\n",
       "      <td>Female</td>\n",
       "      <td>Yes</td>\n",
       "    </tr>\n",
       "    <tr>\n",
       "      <th>241</th>\n",
       "      <td>Male</td>\n",
       "      <td>Yes</td>\n",
       "    </tr>\n",
       "    <tr>\n",
       "      <th>242</th>\n",
       "      <td>Male</td>\n",
       "      <td>No</td>\n",
       "    </tr>\n",
       "    <tr>\n",
       "      <th>243</th>\n",
       "      <td>Female</td>\n",
       "      <td>No</td>\n",
       "    </tr>\n",
       "  </tbody>\n",
       "</table>\n",
       "<p>244 rows × 2 columns</p>\n",
       "</div>"
      ],
      "text/plain": [
       "        sex smoker\n",
       "0    Female     No\n",
       "1      Male     No\n",
       "2      Male     No\n",
       "3      Male     No\n",
       "4    Female     No\n",
       "..      ...    ...\n",
       "239    Male     No\n",
       "240  Female    Yes\n",
       "241    Male    Yes\n",
       "242    Male     No\n",
       "243  Female     No\n",
       "\n",
       "[244 rows x 2 columns]"
      ]
     },
     "execution_count": 159,
     "metadata": {},
     "output_type": "execute_result"
    }
   ],
   "source": [
    "dataset[['sex','smoker']]\n"
   ]
  },
  {
   "cell_type": "code",
   "execution_count": 160,
   "id": "4952cc8d",
   "metadata": {},
   "outputs": [],
   "source": [
    "dataset_table=pd.crosstab(dataset['sex'],dataset['smoker'])\n"
   ]
  },
  {
   "cell_type": "code",
   "execution_count": 163,
   "id": "918b9eb8",
   "metadata": {},
   "outputs": [],
   "source": [
    "Observed_Values=dataset_table.values\n"
   ]
  },
  {
   "cell_type": "code",
   "execution_count": 164,
   "id": "bb53e740",
   "metadata": {},
   "outputs": [
    {
     "data": {
      "text/plain": [
       "array([[60, 97],\n",
       "       [33, 54]], dtype=int64)"
      ]
     },
     "execution_count": 164,
     "metadata": {},
     "output_type": "execute_result"
    }
   ],
   "source": [
    "Observed_Values"
   ]
  },
  {
   "cell_type": "code",
   "execution_count": 170,
   "id": "68213114",
   "metadata": {},
   "outputs": [
    {
     "name": "stdout",
     "output_type": "stream",
     "text": [
      "observed value(real value) \n",
      " [[60 97]\n",
      " [33 54]]\n"
     ]
    }
   ],
   "source": [
    "print(f\"observed value(real value) \\n {Observed_Values}\")\n"
   ]
  },
  {
   "cell_type": "code",
   "execution_count": 169,
   "id": "8f27ff36",
   "metadata": {},
   "outputs": [],
   "source": [
    "import scipy.stats as stats\n"
   ]
  },
  {
   "cell_type": "code",
   "execution_count": 172,
   "id": "2557dc5c",
   "metadata": {},
   "outputs": [],
   "source": [
    "stats_test,p,dof,Expected_Values=stats.chi2_contingency(Observed_Values)\n"
   ]
  },
  {
   "cell_type": "code",
   "execution_count": 173,
   "id": "3a63705b",
   "metadata": {},
   "outputs": [
    {
     "data": {
      "text/plain": [
       "1.0"
      ]
     },
     "execution_count": 173,
     "metadata": {},
     "output_type": "execute_result"
    }
   ],
   "source": [
    "p"
   ]
  },
  {
   "cell_type": "code",
   "execution_count": 174,
   "id": "4c5e3569",
   "metadata": {},
   "outputs": [
    {
     "name": "stdout",
     "output_type": "stream",
     "text": [
      "observed value(real value) \n",
      " [[60 97]\n",
      " [33 54]]\n"
     ]
    }
   ],
   "source": [
    "print(f\"observed value(real value) \\n {Observed_Values}\")\n"
   ]
  },
  {
   "cell_type": "code",
   "execution_count": 175,
   "id": "b4082752",
   "metadata": {},
   "outputs": [
    {
     "data": {
      "text/plain": [
       "array([[59.84016393, 97.15983607],\n",
       "       [33.15983607, 53.84016393]])"
      ]
     },
     "execution_count": 175,
     "metadata": {},
     "output_type": "execute_result"
    }
   ],
   "source": [
    "Expected_Values\n"
   ]
  },
  {
   "cell_type": "code",
   "execution_count": 176,
   "id": "751ff654",
   "metadata": {},
   "outputs": [
    {
     "data": {
      "text/html": [
       "<div>\n",
       "<style scoped>\n",
       "    .dataframe tbody tr th:only-of-type {\n",
       "        vertical-align: middle;\n",
       "    }\n",
       "\n",
       "    .dataframe tbody tr th {\n",
       "        vertical-align: top;\n",
       "    }\n",
       "\n",
       "    .dataframe thead th {\n",
       "        text-align: right;\n",
       "    }\n",
       "</style>\n",
       "<table border=\"1\" class=\"dataframe\">\n",
       "  <thead>\n",
       "    <tr style=\"text-align: right;\">\n",
       "      <th>smoker</th>\n",
       "      <th>Yes</th>\n",
       "      <th>No</th>\n",
       "    </tr>\n",
       "    <tr>\n",
       "      <th>sex</th>\n",
       "      <th></th>\n",
       "      <th></th>\n",
       "    </tr>\n",
       "  </thead>\n",
       "  <tbody>\n",
       "    <tr>\n",
       "      <th>Male</th>\n",
       "      <td>60</td>\n",
       "      <td>97</td>\n",
       "    </tr>\n",
       "    <tr>\n",
       "      <th>Female</th>\n",
       "      <td>33</td>\n",
       "      <td>54</td>\n",
       "    </tr>\n",
       "  </tbody>\n",
       "</table>\n",
       "</div>"
      ],
      "text/plain": [
       "smoker  Yes  No\n",
       "sex            \n",
       "Male     60  97\n",
       "Female   33  54"
      ]
     },
     "execution_count": 176,
     "metadata": {},
     "output_type": "execute_result"
    }
   ],
   "source": [
    "dataset_table\n"
   ]
  },
  {
   "cell_type": "code",
   "execution_count": 177,
   "id": "1141f44f",
   "metadata": {},
   "outputs": [],
   "source": [
    "no_of_rows=dataset_table.iloc[0:2,0]\n"
   ]
  },
  {
   "cell_type": "code",
   "execution_count": 178,
   "id": "ac867023",
   "metadata": {},
   "outputs": [
    {
     "data": {
      "text/plain": [
       "2"
      ]
     },
     "execution_count": 178,
     "metadata": {},
     "output_type": "execute_result"
    }
   ],
   "source": [
    "len(no_of_rows)\n"
   ]
  },
  {
   "cell_type": "code",
   "execution_count": 179,
   "id": "6e071dbd",
   "metadata": {},
   "outputs": [],
   "source": [
    "no_of_columns=dataset_table.iloc[0,0:2]\n"
   ]
  },
  {
   "cell_type": "code",
   "execution_count": 180,
   "id": "2eb0cf6d",
   "metadata": {},
   "outputs": [
    {
     "data": {
      "text/plain": [
       "2"
      ]
     },
     "execution_count": 180,
     "metadata": {},
     "output_type": "execute_result"
    }
   ],
   "source": [
    "len(no_of_columns)\n"
   ]
  },
  {
   "cell_type": "code",
   "execution_count": 181,
   "id": "a3a24297",
   "metadata": {},
   "outputs": [],
   "source": [
    "dof=(len(no_of_columns)-1)*(len(no_of_rows)-1)\n"
   ]
  },
  {
   "cell_type": "code",
   "execution_count": 182,
   "id": "04fa129a",
   "metadata": {},
   "outputs": [
    {
     "data": {
      "text/plain": [
       "1"
      ]
     },
     "execution_count": 182,
     "metadata": {},
     "output_type": "execute_result"
    }
   ],
   "source": [
    "dof"
   ]
  },
  {
   "cell_type": "code",
   "execution_count": 183,
   "id": "9bfc4ec4",
   "metadata": {},
   "outputs": [
    {
     "name": "stdout",
     "output_type": "stream",
     "text": [
      "[60 97] [59.84016393 97.15983607]\n",
      "[33 54] [33.15983607 53.84016393]\n"
     ]
    }
   ],
   "source": [
    "for o,e in zip(Observed_Values,Expected_Values):\n",
    "    print(o,e)"
   ]
  },
  {
   "cell_type": "code",
   "execution_count": 184,
   "id": "728b4e55",
   "metadata": {},
   "outputs": [],
   "source": [
    "from scipy.stats import chi2\n",
    "chisqure_test=sum([(o-e)**2./e for o,e in zip(Observed_Values,Expected_Values)])"
   ]
  },
  {
   "cell_type": "code",
   "execution_count": 185,
   "id": "841eca6d",
   "metadata": {},
   "outputs": [
    {
     "data": {
      "text/plain": [
       "array([0.00119737, 0.00073745])"
      ]
     },
     "execution_count": 185,
     "metadata": {},
     "output_type": "execute_result"
    }
   ],
   "source": [
    "chisqure_test\n"
   ]
  },
  {
   "cell_type": "code",
   "execution_count": 186,
   "id": "bf809de5",
   "metadata": {},
   "outputs": [],
   "source": [
    "chi_square_statistic=chisqure_test[0]+chisqure_test[1]\n"
   ]
  },
  {
   "cell_type": "code",
   "execution_count": 187,
   "id": "d13dfb4e",
   "metadata": {},
   "outputs": [],
   "source": [
    "alpha=0.05\n"
   ]
  },
  {
   "cell_type": "code",
   "execution_count": 188,
   "id": "b544deb8",
   "metadata": {},
   "outputs": [],
   "source": [
    "from scipy.stats import chi2\n",
    "critical_value=chi2.ppf(1-alpha,df=dof)"
   ]
  },
  {
   "cell_type": "code",
   "execution_count": 189,
   "id": "dc2d68f6",
   "metadata": {},
   "outputs": [
    {
     "name": "stdout",
     "output_type": "stream",
     "text": [
      "Retain H0,There is no relationship between 2 categorical variables\n"
     ]
    }
   ],
   "source": [
    "if chi_square_statistic>=critical_value:\n",
    "    print(\"Reject H0,There is a relationship between 2 categorical variables\")\n",
    "else:\n",
    "    print(\"Retain H0,There is no relationship between 2 categorical variables\")"
   ]
  },
  {
   "cell_type": "code",
   "execution_count": 190,
   "id": "4ebe7a05",
   "metadata": {},
   "outputs": [],
   "source": [
    "#p-value\n",
    "p_value=1-chi2.cdf(x=chi_square_statistic,df=dof)"
   ]
  },
  {
   "cell_type": "code",
   "execution_count": 191,
   "id": "6c0c134a",
   "metadata": {},
   "outputs": [
    {
     "name": "stdout",
     "output_type": "stream",
     "text": [
      "Retain H0,There is no relationship between 2 categorical variables\n"
     ]
    }
   ],
   "source": [
    "if p_value<=alpha:\n",
    "    print(\"Reject H0,There is a relationship between 2 categorical variables\")\n",
    "else:\n",
    "    print(\"Retain H0,There is no relationship between 2 categorical variables\")"
   ]
  },
  {
   "cell_type": "code",
   "execution_count": null,
   "id": "2a2d473f",
   "metadata": {},
   "outputs": [],
   "source": []
  }
 ],
 "metadata": {
  "kernelspec": {
   "display_name": "Python 3 (ipykernel)",
   "language": "python",
   "name": "python3"
  },
  "language_info": {
   "codemirror_mode": {
    "name": "ipython",
    "version": 3
   },
   "file_extension": ".py",
   "mimetype": "text/x-python",
   "name": "python",
   "nbconvert_exporter": "python",
   "pygments_lexer": "ipython3",
   "version": "3.9.13"
  }
 },
 "nbformat": 4,
 "nbformat_minor": 5
}
