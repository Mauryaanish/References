{
 "cells": [
  {
   "cell_type": "code",
   "execution_count": 1,
   "id": "ad645af9",
   "metadata": {},
   "outputs": [],
   "source": [
    "def test(*ele) :\n",
    "    return ele"
   ]
  },
  {
   "cell_type": "code",
   "execution_count": 2,
   "id": "66123bfb",
   "metadata": {},
   "outputs": [
    {
     "data": {
      "text/plain": [
       "(12, 23, 54, 'ansh', [14, 56, 58])"
      ]
     },
     "execution_count": 2,
     "metadata": {},
     "output_type": "execute_result"
    }
   ],
   "source": [
    "test(12,23,54,\"ansh\" , [14,56,58])"
   ]
  },
  {
   "cell_type": "code",
   "execution_count": 3,
   "id": "3840d42a",
   "metadata": {},
   "outputs": [
    {
     "data": {
      "text/plain": [
       "[12, 23, 54, 'ansh', [14, 56, 58]]"
      ]
     },
     "execution_count": 3,
     "metadata": {},
     "output_type": "execute_result"
    }
   ],
   "source": [
    "list(test(12,23,54,\"ansh\" , [14,56,58]))"
   ]
  },
  {
   "cell_type": "code",
   "execution_count": 4,
   "id": "6e647187",
   "metadata": {},
   "outputs": [
    {
     "ename": "TypeError",
     "evalue": "unhashable type: 'list'",
     "output_type": "error",
     "traceback": [
      "\u001b[1;31m---------------------------------------------------------------------------\u001b[0m",
      "\u001b[1;31mTypeError\u001b[0m                                 Traceback (most recent call last)",
      "\u001b[1;32m~\\AppData\\Local\\Temp\\ipykernel_7524\\860386999.py\u001b[0m in \u001b[0;36m<module>\u001b[1;34m\u001b[0m\n\u001b[1;32m----> 1\u001b[1;33m \u001b[0mset\u001b[0m\u001b[1;33m(\u001b[0m\u001b[0mtest\u001b[0m\u001b[1;33m(\u001b[0m\u001b[1;36m12\u001b[0m\u001b[1;33m,\u001b[0m\u001b[1;36m23\u001b[0m\u001b[1;33m,\u001b[0m\u001b[1;36m54\u001b[0m\u001b[1;33m,\u001b[0m\u001b[1;34m\"ansh\"\u001b[0m \u001b[1;33m,\u001b[0m \u001b[1;33m[\u001b[0m\u001b[1;36m14\u001b[0m\u001b[1;33m,\u001b[0m\u001b[1;36m56\u001b[0m\u001b[1;33m,\u001b[0m\u001b[1;36m58\u001b[0m\u001b[1;33m]\u001b[0m\u001b[1;33m)\u001b[0m\u001b[1;33m)\u001b[0m\u001b[1;33m\u001b[0m\u001b[1;33m\u001b[0m\u001b[0m\n\u001b[0m",
      "\u001b[1;31mTypeError\u001b[0m: unhashable type: 'list'"
     ]
    }
   ],
   "source": [
    "set(test(12,23,54,\"ansh\" , [14,56,58]))"
   ]
  },
  {
   "cell_type": "code",
   "execution_count": 22,
   "id": "3a50a7e8",
   "metadata": {},
   "outputs": [],
   "source": [
    "def test1(*ele) :\n",
    "    l = []\n",
    "    for i in ele :\n",
    "        l.append(i)\n",
    "    return l"
   ]
  },
  {
   "cell_type": "code",
   "execution_count": 27,
   "id": "2c5bae66",
   "metadata": {},
   "outputs": [
    {
     "data": {
      "text/plain": [
       "['anish', 55, 56, 85, [1, 2, 3, 4, 5, 6, 'jenny']]"
      ]
     },
     "execution_count": 27,
     "metadata": {},
     "output_type": "execute_result"
    }
   ],
   "source": [
    "test1(\"anish\" , 55 , 56 , 85 , [1,2,3,4,5,6,\"jenny\"])"
   ]
  },
  {
   "cell_type": "code",
   "execution_count": 28,
   "id": "8023f2e1",
   "metadata": {},
   "outputs": [
    {
     "ename": "NameError",
     "evalue": "name 'l' is not defined",
     "output_type": "error",
     "traceback": [
      "\u001b[1;31m---------------------------------------------------------------------------\u001b[0m",
      "\u001b[1;31mNameError\u001b[0m                                 Traceback (most recent call last)",
      "\u001b[1;32m~\\AppData\\Local\\Temp\\ipykernel_7524\\538381881.py\u001b[0m in \u001b[0;36m<module>\u001b[1;34m\u001b[0m\n\u001b[1;32m----> 1\u001b[1;33m \u001b[0mtype\u001b[0m\u001b[1;33m(\u001b[0m\u001b[0ml\u001b[0m\u001b[1;33m)\u001b[0m\u001b[1;33m\u001b[0m\u001b[1;33m\u001b[0m\u001b[0m\n\u001b[0m",
      "\u001b[1;31mNameError\u001b[0m: name 'l' is not defined"
     ]
    }
   ],
   "source": [
    "type(l)"
   ]
  },
  {
   "cell_type": "code",
   "execution_count": 15,
   "id": "ed333118",
   "metadata": {},
   "outputs": [],
   "source": [
    "def test5(*args) :\n",
    "        l = []\n",
    "        for i in args : \n",
    "            l.append(i)\n",
    "        return l\n",
    "        "
   ]
  },
  {
   "cell_type": "code",
   "execution_count": 25,
   "id": "30d73963",
   "metadata": {},
   "outputs": [
    {
     "data": {
      "text/plain": [
       "list"
      ]
     },
     "execution_count": 25,
     "metadata": {},
     "output_type": "execute_result"
    }
   ],
   "source": [
    "type(test5(223,45,46))"
   ]
  },
  {
   "cell_type": "code",
   "execution_count": 17,
   "id": "29647f78",
   "metadata": {},
   "outputs": [
    {
     "ename": "NameError",
     "evalue": "name 'l' is not defined",
     "output_type": "error",
     "traceback": [
      "\u001b[1;31m---------------------------------------------------------------------------\u001b[0m",
      "\u001b[1;31mNameError\u001b[0m                                 Traceback (most recent call last)",
      "\u001b[1;32m~\\AppData\\Local\\Temp\\ipykernel_7524\\538381881.py\u001b[0m in \u001b[0;36m<module>\u001b[1;34m\u001b[0m\n\u001b[1;32m----> 1\u001b[1;33m \u001b[0mtype\u001b[0m\u001b[1;33m(\u001b[0m\u001b[0ml\u001b[0m\u001b[1;33m)\u001b[0m\u001b[1;33m\u001b[0m\u001b[1;33m\u001b[0m\u001b[0m\n\u001b[0m",
      "\u001b[1;31mNameError\u001b[0m: name 'l' is not defined"
     ]
    }
   ],
   "source": [
    "type(l)"
   ]
  },
  {
   "cell_type": "code",
   "execution_count": 30,
   "id": "71686a90",
   "metadata": {},
   "outputs": [],
   "source": [
    "a = {\"name\" : \"anish\" , \"age\" : 24 , \"gender\" : \"male\" , \"emp\" : {\"salary\" : \"12k\" , \"compuny_name\" : \"divya\"}}"
   ]
  },
  {
   "cell_type": "code",
   "execution_count": 32,
   "id": "2f860e2b",
   "metadata": {},
   "outputs": [
    {
     "data": {
      "text/plain": [
       "'divya'"
      ]
     },
     "execution_count": 32,
     "metadata": {},
     "output_type": "execute_result"
    }
   ],
   "source": [
    "a[\"emp\"][\"compuny_name\"]"
   ]
  },
  {
   "cell_type": "code",
   "execution_count": 34,
   "id": "b5309a47",
   "metadata": {},
   "outputs": [
    {
     "data": {
      "text/plain": [
       "['name', 'age', 'gender', 'emp']"
      ]
     },
     "execution_count": 34,
     "metadata": {},
     "output_type": "execute_result"
    }
   ],
   "source": [
    "list(a)"
   ]
  },
  {
   "cell_type": "code",
   "execution_count": 35,
   "id": "426a48e5",
   "metadata": {},
   "outputs": [
    {
     "data": {
      "text/plain": [
       "dict_keys(['name', 'age', 'gender', 'emp'])"
      ]
     },
     "execution_count": 35,
     "metadata": {},
     "output_type": "execute_result"
    }
   ],
   "source": [
    "a.keys()"
   ]
  },
  {
   "cell_type": "code",
   "execution_count": 37,
   "id": "8880c899",
   "metadata": {},
   "outputs": [
    {
     "data": {
      "text/plain": [
       "['anish', 24, 'male', {'salary': '12k', 'compuny_name': 'divya'}]"
      ]
     },
     "execution_count": 37,
     "metadata": {},
     "output_type": "execute_result"
    }
   ],
   "source": [
    "list(a.values())"
   ]
  },
  {
   "cell_type": "code",
   "execution_count": 38,
   "id": "bfb05db7",
   "metadata": {},
   "outputs": [],
   "source": [
    "a[\"mobile_number\"]=4563"
   ]
  },
  {
   "cell_type": "code",
   "execution_count": 39,
   "id": "7d6cab7a",
   "metadata": {},
   "outputs": [
    {
     "data": {
      "text/plain": [
       "{'name': 'anish',\n",
       " 'age': 24,\n",
       " 'gender': 'male',\n",
       " 'emp': {'salary': '12k', 'compuny_name': 'divya'},\n",
       " 'mobile_number': 4563}"
      ]
     },
     "execution_count": 39,
     "metadata": {},
     "output_type": "execute_result"
    }
   ],
   "source": [
    "a"
   ]
  },
  {
   "cell_type": "code",
   "execution_count": 42,
   "id": "a2174b21",
   "metadata": {},
   "outputs": [
    {
     "name": "stdout",
     "output_type": "stream",
     "text": [
      "anish\n",
      "24\n",
      "male\n",
      "{'salary': '12k', 'compuny_name': 'divya'}\n",
      "4563\n"
     ]
    }
   ],
   "source": [
    "for i in a.values () :\n",
    "    print(i)"
   ]
  },
  {
   "cell_type": "code",
   "execution_count": 43,
   "id": "83985307",
   "metadata": {},
   "outputs": [],
   "source": [
    "def st5(**ele) :\n",
    "    return ele"
   ]
  },
  {
   "cell_type": "code",
   "execution_count": 44,
   "id": "89a26611",
   "metadata": {},
   "outputs": [
    {
     "data": {
      "text/plain": [
       "{'a': 56, 'b': 'anish', 'c': 8576767, 'e': [24, 67, 89, 'manish']}"
      ]
     },
     "execution_count": 44,
     "metadata": {},
     "output_type": "execute_result"
    }
   ],
   "source": [
    "st5(a=56 , b = \"anish\" , c = 8576767 , e = [24,67,89,\"manish\"])"
   ]
  },
  {
   "cell_type": "code",
   "execution_count": 52,
   "id": "c588e887",
   "metadata": {},
   "outputs": [],
   "source": [
    "def test6(func) :\n",
    "    def test7() :\n",
    "        func()\n",
    "        print(\"this is decoret \")\n",
    "        func()\n",
    "    return test7\n",
    "        "
   ]
  },
  {
   "cell_type": "code",
   "execution_count": 53,
   "id": "936c5719",
   "metadata": {},
   "outputs": [],
   "source": [
    "@test6\n",
    "def test8() :\n",
    "    return 8+6"
   ]
  },
  {
   "cell_type": "code",
   "execution_count": 54,
   "id": "6802ee67",
   "metadata": {},
   "outputs": [
    {
     "name": "stdout",
     "output_type": "stream",
     "text": [
      "this is decoret \n"
     ]
    }
   ],
   "source": [
    "test8()"
   ]
  },
  {
   "cell_type": "code",
   "execution_count": 55,
   "id": "c4372f11",
   "metadata": {},
   "outputs": [],
   "source": [
    "from functools import reduce"
   ]
  },
  {
   "cell_type": "code",
   "execution_count": 56,
   "id": "ab52c64f",
   "metadata": {},
   "outputs": [],
   "source": [
    "l1 = [1,2,3,4,5,6,7,8]\n"
   ]
  },
  {
   "cell_type": "code",
   "execution_count": 58,
   "id": "77306f66",
   "metadata": {},
   "outputs": [],
   "source": [
    "def test12(a,b) :\n",
    "    return a*b"
   ]
  },
  {
   "cell_type": "code",
   "execution_count": 59,
   "id": "37a2ea5f",
   "metadata": {},
   "outputs": [
    {
     "data": {
      "text/plain": [
       "40320"
      ]
     },
     "execution_count": 59,
     "metadata": {},
     "output_type": "execute_result"
    }
   ],
   "source": [
    "reduce(test12,l1)"
   ]
  },
  {
   "cell_type": "code",
   "execution_count": 60,
   "id": "da71b6a3",
   "metadata": {},
   "outputs": [],
   "source": [
    "a=lambda a,b : a*b"
   ]
  },
  {
   "cell_type": "code",
   "execution_count": 62,
   "id": "ad14da04",
   "metadata": {},
   "outputs": [
    {
     "data": {
      "text/plain": [
       "40320"
      ]
     },
     "execution_count": 62,
     "metadata": {},
     "output_type": "execute_result"
    }
   ],
   "source": [
    "reduce(a, l1)"
   ]
  },
  {
   "cell_type": "code",
   "execution_count": 63,
   "id": "eba31f64",
   "metadata": {},
   "outputs": [],
   "source": [
    "l = [\"anish\" , \"mukesh\" , \"sarita\" , \"prem\"]"
   ]
  },
  {
   "cell_type": "code",
   "execution_count": 64,
   "id": "1daec254",
   "metadata": {},
   "outputs": [
    {
     "data": {
      "text/plain": [
       "[5, 6, 6, 4]"
      ]
     },
     "execution_count": 64,
     "metadata": {},
     "output_type": "execute_result"
    }
   ],
   "source": [
    "list(map(len , l))"
   ]
  },
  {
   "cell_type": "code",
   "execution_count": 65,
   "id": "38713844",
   "metadata": {},
   "outputs": [],
   "source": [
    "l2 = [10, 25 , 30 , 35 , 40 , 45 , 50]"
   ]
  },
  {
   "cell_type": "code",
   "execution_count": 96,
   "id": "ce011d39",
   "metadata": {},
   "outputs": [],
   "source": [
    "def test12(a) :\n",
    "    for i in range(a):\n",
    "        if i %10 == 0:\n",
    "            print(i)"
   ]
  },
  {
   "cell_type": "code",
   "execution_count": 90,
   "id": "c073f5ac",
   "metadata": {},
   "outputs": [
    {
     "name": "stdout",
     "output_type": "stream",
     "text": [
      "0\n",
      "0\n",
      "10\n",
      "20\n",
      "0\n",
      "10\n",
      "20\n",
      "0\n",
      "10\n",
      "20\n",
      "30\n",
      "0\n",
      "10\n",
      "20\n",
      "30\n",
      "0\n",
      "10\n",
      "20\n",
      "30\n",
      "40\n",
      "0\n",
      "10\n",
      "20\n",
      "30\n",
      "40\n"
     ]
    },
    {
     "data": {
      "text/plain": [
       "[]"
      ]
     },
     "execution_count": 90,
     "metadata": {},
     "output_type": "execute_result"
    }
   ],
   "source": [
    "list(filter(test12 , l2))"
   ]
  },
  {
   "cell_type": "code",
   "execution_count": 81,
   "id": "381618b9",
   "metadata": {},
   "outputs": [
    {
     "name": "stdout",
     "output_type": "stream",
     "text": [
      "[10, 30, 40, 50]\n"
     ]
    }
   ],
   "source": [
    "l2 = [10 , 25 , 30 ,35 , 40 , 45 , 50 ]\n",
    "l1 = []\n",
    "for i in l2 :\n",
    "    if i % 10 == 0:\n",
    "        l1.append(i)\n",
    "print(l1)"
   ]
  },
  {
   "cell_type": "code",
   "execution_count": 82,
   "id": "90028e06",
   "metadata": {},
   "outputs": [
    {
     "name": "stdout",
     "output_type": "stream",
     "text": [
      "10\n",
      "30\n",
      "40\n",
      "50\n"
     ]
    }
   ],
   "source": [
    "l2 = [10 , 25 , 30 ,35 , 40 , 45 , 50 ]\n",
    "l1 = []\n",
    "for i in l2 :\n",
    "    if i % 10 == 0:\n",
    "        print(i)"
   ]
  },
  {
   "cell_type": "code",
   "execution_count": 103,
   "id": "20fc4311",
   "metadata": {},
   "outputs": [],
   "source": [
    "def test13(a):\n",
    "    l = []\n",
    "    for i in a :\n",
    "        if i % 10 == 0:\n",
    "            l.append(i)\n",
    "    print(l)"
   ]
  },
  {
   "cell_type": "code",
   "execution_count": 104,
   "id": "4da45959",
   "metadata": {},
   "outputs": [
    {
     "name": "stdout",
     "output_type": "stream",
     "text": [
      "[10, 30, 40, 50]\n"
     ]
    }
   ],
   "source": [
    "test13(l2)"
   ]
  },
  {
   "cell_type": "code",
   "execution_count": 106,
   "id": "ceaeb958",
   "metadata": {},
   "outputs": [
    {
     "ename": "TypeError",
     "evalue": "'int' object is not iterable",
     "output_type": "error",
     "traceback": [
      "\u001b[1;31m---------------------------------------------------------------------------\u001b[0m",
      "\u001b[1;31mTypeError\u001b[0m                                 Traceback (most recent call last)",
      "\u001b[1;32m~\\AppData\\Local\\Temp\\ipykernel_7524\\3903222070.py\u001b[0m in \u001b[0;36m<module>\u001b[1;34m\u001b[0m\n\u001b[1;32m----> 1\u001b[1;33m \u001b[0mlist\u001b[0m\u001b[1;33m(\u001b[0m\u001b[0mfilter\u001b[0m\u001b[1;33m(\u001b[0m\u001b[0mtest13\u001b[0m \u001b[1;33m,\u001b[0m \u001b[0ml2\u001b[0m\u001b[1;33m)\u001b[0m\u001b[1;33m)\u001b[0m\u001b[1;33m\u001b[0m\u001b[1;33m\u001b[0m\u001b[0m\n\u001b[0m",
      "\u001b[1;32m~\\AppData\\Local\\Temp\\ipykernel_7524\\3830820822.py\u001b[0m in \u001b[0;36mtest13\u001b[1;34m(a)\u001b[0m\n\u001b[0;32m      1\u001b[0m \u001b[1;32mdef\u001b[0m \u001b[0mtest13\u001b[0m\u001b[1;33m(\u001b[0m\u001b[0ma\u001b[0m\u001b[1;33m)\u001b[0m\u001b[1;33m:\u001b[0m\u001b[1;33m\u001b[0m\u001b[1;33m\u001b[0m\u001b[0m\n\u001b[0;32m      2\u001b[0m     \u001b[0ml\u001b[0m \u001b[1;33m=\u001b[0m \u001b[1;33m[\u001b[0m\u001b[1;33m]\u001b[0m\u001b[1;33m\u001b[0m\u001b[1;33m\u001b[0m\u001b[0m\n\u001b[1;32m----> 3\u001b[1;33m     \u001b[1;32mfor\u001b[0m \u001b[0mi\u001b[0m \u001b[1;32min\u001b[0m \u001b[0ma\u001b[0m \u001b[1;33m:\u001b[0m\u001b[1;33m\u001b[0m\u001b[1;33m\u001b[0m\u001b[0m\n\u001b[0m\u001b[0;32m      4\u001b[0m         \u001b[1;32mif\u001b[0m \u001b[0mi\u001b[0m \u001b[1;33m%\u001b[0m \u001b[1;36m10\u001b[0m \u001b[1;33m==\u001b[0m \u001b[1;36m0\u001b[0m\u001b[1;33m:\u001b[0m\u001b[1;33m\u001b[0m\u001b[1;33m\u001b[0m\u001b[0m\n\u001b[0;32m      5\u001b[0m             \u001b[0ml\u001b[0m\u001b[1;33m.\u001b[0m\u001b[0mappend\u001b[0m\u001b[1;33m(\u001b[0m\u001b[0mi\u001b[0m\u001b[1;33m)\u001b[0m\u001b[1;33m\u001b[0m\u001b[1;33m\u001b[0m\u001b[0m\n",
      "\u001b[1;31mTypeError\u001b[0m: 'int' object is not iterable"
     ]
    }
   ],
   "source": [
    "list(filter(test13 , l2))"
   ]
  },
  {
   "cell_type": "code",
   "execution_count": 124,
   "id": "d2c3c65b",
   "metadata": {},
   "outputs": [],
   "source": [
    "def test14(a) -> int :\n",
    "    \"\"\" This function find a number \"\"\"\n",
    "    if a%10 == 0:\n",
    "        return a"
   ]
  },
  {
   "cell_type": "code",
   "execution_count": 123,
   "id": "cf0dfd9f",
   "metadata": {},
   "outputs": [
    {
     "data": {
      "text/plain": [
       "[10, 30, 40, 50]"
      ]
     },
     "execution_count": 123,
     "metadata": {},
     "output_type": "execute_result"
    }
   ],
   "source": [
    "list(filter(test14 , l2))"
   ]
  },
  {
   "cell_type": "code",
   "execution_count": null,
   "id": "e6a2ad35",
   "metadata": {},
   "outputs": [],
   "source": [
    "test14"
   ]
  },
  {
   "cell_type": "code",
   "execution_count": null,
   "id": "fc90648b",
   "metadata": {},
   "outputs": [],
   "source": [
    "int"
   ]
  },
  {
   "cell_type": "code",
   "execution_count": 128,
   "id": "33f36c82",
   "metadata": {},
   "outputs": [],
   "source": [
    "def test17(a) :\n",
    "    def test18():\n",
    "        print(\"this is your number one\")\n",
    "        a()\n",
    "        print(a())\n",
    "        print(\"This is anish\")\n",
    "        return a()\n",
    "    return test18"
   ]
  },
  {
   "cell_type": "code",
   "execution_count": 129,
   "id": "efa3ae69",
   "metadata": {},
   "outputs": [],
   "source": [
    "@test17\n",
    "def test19():\n",
    "    print(\"this is my number\")"
   ]
  },
  {
   "cell_type": "code",
   "execution_count": 130,
   "id": "01b951a3",
   "metadata": {},
   "outputs": [
    {
     "data": {
      "text/plain": [
       "<function __main__.test17.<locals>.test18()>"
      ]
     },
     "execution_count": 130,
     "metadata": {},
     "output_type": "execute_result"
    }
   ],
   "source": [
    "test19"
   ]
  },
  {
   "cell_type": "code",
   "execution_count": 162,
   "id": "2b8125b8",
   "metadata": {},
   "outputs": [],
   "source": [
    "def test(a) :\n",
    "    print(\"How are you anish\")\n",
    "    a()\n",
    "    print(\"i am also fine\")\n",
    "    return test "
   ]
  },
  {
   "cell_type": "code",
   "execution_count": 163,
   "id": "31294463",
   "metadata": {},
   "outputs": [
    {
     "name": "stdout",
     "output_type": "stream",
     "text": [
      "How are you anish\n",
      "fine\n",
      "and you\n",
      "i am also fine\n"
     ]
    }
   ],
   "source": [
    "@test\n",
    "def test1():\n",
    "    print(\"fine\")\n",
    "    print(\"and you\")"
   ]
  },
  {
   "cell_type": "code",
   "execution_count": 1,
   "id": "0848b56b",
   "metadata": {},
   "outputs": [],
   "source": [
    "import logging"
   ]
  },
  {
   "cell_type": "code",
   "execution_count": 7,
   "id": "cadb577a",
   "metadata": {},
   "outputs": [],
   "source": [
    "logging.basicConfig(filename = \"error.txt\" , level = logging.DEBUG , format = \"%(asctime)s , %(message)s\")\n",
    "def div(a,b) :\n",
    "    try:\n",
    "        return (a/b)\n",
    "    except Exception as e :\n",
    "        logging.debug(\"Some Error On Your\" ,  e)\n",
    "    else:\n",
    "        logging.debug(\"On any Error your Code Proggam is Done: \")"
   ]
  },
  {
   "cell_type": "code",
   "execution_count": 6,
   "id": "72e6c00b",
   "metadata": {},
   "outputs": [
    {
     "name": "stderr",
     "output_type": "stream",
     "text": [
      "--- Logging error ---\n",
      "Traceback (most recent call last):\n",
      "  File \"C:\\Users\\maury\\AppData\\Local\\Temp\\ipykernel_8548\\1584948353.py\", line 4, in div\n",
      "    return (a/b)\n",
      "ZeroDivisionError: division by zero\n",
      "\n",
      "During handling of the above exception, another exception occurred:\n",
      "\n",
      "Traceback (most recent call last):\n",
      "  File \"C:\\Users\\maury\\anaconda3\\lib\\logging\\__init__.py\", line 1083, in emit\n",
      "    msg = self.format(record)\n",
      "  File \"C:\\Users\\maury\\anaconda3\\lib\\logging\\__init__.py\", line 927, in format\n",
      "    return fmt.format(record)\n",
      "  File \"C:\\Users\\maury\\anaconda3\\lib\\logging\\__init__.py\", line 663, in format\n",
      "    record.message = record.getMessage()\n",
      "  File \"C:\\Users\\maury\\anaconda3\\lib\\logging\\__init__.py\", line 367, in getMessage\n",
      "    msg = msg % self.args\n",
      "TypeError: not all arguments converted during string formatting\n",
      "Call stack:\n",
      "  File \"C:\\Users\\maury\\anaconda3\\lib\\runpy.py\", line 197, in _run_module_as_main\n",
      "    return _run_code(code, main_globals, None,\n",
      "  File \"C:\\Users\\maury\\anaconda3\\lib\\runpy.py\", line 87, in _run_code\n",
      "    exec(code, run_globals)\n",
      "  File \"C:\\Users\\maury\\anaconda3\\lib\\site-packages\\ipykernel_launcher.py\", line 17, in <module>\n",
      "    app.launch_new_instance()\n",
      "  File \"C:\\Users\\maury\\anaconda3\\lib\\site-packages\\traitlets\\config\\application.py\", line 846, in launch_instance\n",
      "    app.start()\n",
      "  File \"C:\\Users\\maury\\anaconda3\\lib\\site-packages\\ipykernel\\kernelapp.py\", line 712, in start\n",
      "    self.io_loop.start()\n",
      "  File \"C:\\Users\\maury\\anaconda3\\lib\\site-packages\\tornado\\platform\\asyncio.py\", line 199, in start\n",
      "    self.asyncio_loop.run_forever()\n",
      "  File \"C:\\Users\\maury\\anaconda3\\lib\\asyncio\\base_events.py\", line 601, in run_forever\n",
      "    self._run_once()\n",
      "  File \"C:\\Users\\maury\\anaconda3\\lib\\asyncio\\base_events.py\", line 1905, in _run_once\n",
      "    handle._run()\n",
      "  File \"C:\\Users\\maury\\anaconda3\\lib\\asyncio\\events.py\", line 80, in _run\n",
      "    self._context.run(self._callback, *self._args)\n",
      "  File \"C:\\Users\\maury\\anaconda3\\lib\\site-packages\\ipykernel\\kernelbase.py\", line 510, in dispatch_queue\n",
      "    await self.process_one()\n",
      "  File \"C:\\Users\\maury\\anaconda3\\lib\\site-packages\\ipykernel\\kernelbase.py\", line 499, in process_one\n",
      "    await dispatch(*args)\n",
      "  File \"C:\\Users\\maury\\anaconda3\\lib\\site-packages\\ipykernel\\kernelbase.py\", line 406, in dispatch_shell\n",
      "    await result\n",
      "  File \"C:\\Users\\maury\\anaconda3\\lib\\site-packages\\ipykernel\\kernelbase.py\", line 730, in execute_request\n",
      "    reply_content = await reply_content\n",
      "  File \"C:\\Users\\maury\\anaconda3\\lib\\site-packages\\ipykernel\\ipkernel.py\", line 390, in do_execute\n",
      "    res = shell.run_cell(code, store_history=store_history, silent=silent)\n",
      "  File \"C:\\Users\\maury\\anaconda3\\lib\\site-packages\\ipykernel\\zmqshell.py\", line 528, in run_cell\n",
      "    return super().run_cell(*args, **kwargs)\n",
      "  File \"C:\\Users\\maury\\anaconda3\\lib\\site-packages\\IPython\\core\\interactiveshell.py\", line 2914, in run_cell\n",
      "    result = self._run_cell(\n",
      "  File \"C:\\Users\\maury\\anaconda3\\lib\\site-packages\\IPython\\core\\interactiveshell.py\", line 2960, in _run_cell\n",
      "    return runner(coro)\n",
      "  File \"C:\\Users\\maury\\anaconda3\\lib\\site-packages\\IPython\\core\\async_helpers.py\", line 78, in _pseudo_sync_runner\n",
      "    coro.send(None)\n",
      "  File \"C:\\Users\\maury\\anaconda3\\lib\\site-packages\\IPython\\core\\interactiveshell.py\", line 3185, in run_cell_async\n",
      "    has_raised = await self.run_ast_nodes(code_ast.body, cell_name,\n",
      "  File \"C:\\Users\\maury\\anaconda3\\lib\\site-packages\\IPython\\core\\interactiveshell.py\", line 3377, in run_ast_nodes\n",
      "    if (await self.run_code(code, result,  async_=asy)):\n",
      "  File \"C:\\Users\\maury\\anaconda3\\lib\\site-packages\\IPython\\core\\interactiveshell.py\", line 3457, in run_code\n",
      "    exec(code_obj, self.user_global_ns, self.user_ns)\n",
      "  File \"C:\\Users\\maury\\AppData\\Local\\Temp\\ipykernel_8548\\2865619855.py\", line 1, in <module>\n",
      "    div(10,0)\n",
      "  File \"C:\\Users\\maury\\AppData\\Local\\Temp\\ipykernel_8548\\1584948353.py\", line 6, in div\n",
      "    logging.info(\"Some Error On Your\" ,  e)\n",
      "Message: 'Some Error On Your'\n",
      "Arguments: (ZeroDivisionError('division by zero'),)\n"
     ]
    }
   ],
   "source": [
    "div(10,0)"
   ]
  },
  {
   "cell_type": "code",
   "execution_count": 3,
   "id": "8cba570b",
   "metadata": {},
   "outputs": [],
   "source": [
    "import logging"
   ]
  },
  {
   "cell_type": "code",
   "execution_count": 8,
   "id": "cadbcb88",
   "metadata": {},
   "outputs": [],
   "source": [
    "logging.basicConfig(filename = \"error1.txt\" , level = logging.INFO , format = \"%(asctime)s\")\n",
    "def add(a,b,c):\n",
    "    logging.info(f\"This is a total sum of A and B and C:{a+b+c}\")\n",
    "    logging.info(\"This is total sum of A and B and C: \")"
   ]
  },
  {
   "cell_type": "code",
   "execution_count": 9,
   "id": "eacab08e",
   "metadata": {},
   "outputs": [],
   "source": [
    "add(24,54,30)"
   ]
  },
  {
   "cell_type": "code",
   "execution_count": 2,
   "id": "a346eb20",
   "metadata": {},
   "outputs": [],
   "source": [
    "import logging"
   ]
  },
  {
   "cell_type": "code",
   "execution_count": 11,
   "id": "add923d0",
   "metadata": {},
   "outputs": [],
   "source": [
    "logging.basicConfig(filename = \"error2.txt\" , level = logging.INFO , format = \"%(asctime)s\")\n",
    "def div_1(a,b) :\n",
    "    try:\n",
    "        logging.info(f\"this is a divion  after value:- {a/b}\")\n",
    "    except Exception as e :\n",
    "        logging.info(\"some Error on your Code\" , e)"
   ]
  },
  {
   "cell_type": "code",
   "execution_count": 12,
   "id": "36307f1a",
   "metadata": {},
   "outputs": [
    {
     "name": "stderr",
     "output_type": "stream",
     "text": [
      "--- Logging error ---\n",
      "Traceback (most recent call last):\n",
      "  File \"C:\\Users\\maury\\AppData\\Local\\Temp\\ipykernel_1268\\2558705483.py\", line 4, in div_1\n",
      "    logging.info(f\"this is a divion  after value:- {a/b}\")\n",
      "ZeroDivisionError: division by zero\n",
      "\n",
      "During handling of the above exception, another exception occurred:\n",
      "\n",
      "Traceback (most recent call last):\n",
      "  File \"C:\\Users\\maury\\anaconda3\\lib\\logging\\__init__.py\", line 1083, in emit\n",
      "    msg = self.format(record)\n",
      "  File \"C:\\Users\\maury\\anaconda3\\lib\\logging\\__init__.py\", line 927, in format\n",
      "    return fmt.format(record)\n",
      "  File \"C:\\Users\\maury\\anaconda3\\lib\\logging\\__init__.py\", line 663, in format\n",
      "    record.message = record.getMessage()\n",
      "  File \"C:\\Users\\maury\\anaconda3\\lib\\logging\\__init__.py\", line 367, in getMessage\n",
      "    msg = msg % self.args\n",
      "TypeError: not all arguments converted during string formatting\n",
      "Call stack:\n",
      "  File \"C:\\Users\\maury\\anaconda3\\lib\\runpy.py\", line 197, in _run_module_as_main\n",
      "    return _run_code(code, main_globals, None,\n",
      "  File \"C:\\Users\\maury\\anaconda3\\lib\\runpy.py\", line 87, in _run_code\n",
      "    exec(code, run_globals)\n",
      "  File \"C:\\Users\\maury\\anaconda3\\lib\\site-packages\\ipykernel_launcher.py\", line 17, in <module>\n",
      "    app.launch_new_instance()\n",
      "  File \"C:\\Users\\maury\\anaconda3\\lib\\site-packages\\traitlets\\config\\application.py\", line 846, in launch_instance\n",
      "    app.start()\n",
      "  File \"C:\\Users\\maury\\anaconda3\\lib\\site-packages\\ipykernel\\kernelapp.py\", line 712, in start\n",
      "    self.io_loop.start()\n",
      "  File \"C:\\Users\\maury\\anaconda3\\lib\\site-packages\\tornado\\platform\\asyncio.py\", line 199, in start\n",
      "    self.asyncio_loop.run_forever()\n",
      "  File \"C:\\Users\\maury\\anaconda3\\lib\\asyncio\\base_events.py\", line 601, in run_forever\n",
      "    self._run_once()\n",
      "  File \"C:\\Users\\maury\\anaconda3\\lib\\asyncio\\base_events.py\", line 1905, in _run_once\n",
      "    handle._run()\n",
      "  File \"C:\\Users\\maury\\anaconda3\\lib\\asyncio\\events.py\", line 80, in _run\n",
      "    self._context.run(self._callback, *self._args)\n",
      "  File \"C:\\Users\\maury\\anaconda3\\lib\\site-packages\\ipykernel\\kernelbase.py\", line 510, in dispatch_queue\n",
      "    await self.process_one()\n",
      "  File \"C:\\Users\\maury\\anaconda3\\lib\\site-packages\\ipykernel\\kernelbase.py\", line 499, in process_one\n",
      "    await dispatch(*args)\n",
      "  File \"C:\\Users\\maury\\anaconda3\\lib\\site-packages\\ipykernel\\kernelbase.py\", line 406, in dispatch_shell\n",
      "    await result\n",
      "  File \"C:\\Users\\maury\\anaconda3\\lib\\site-packages\\ipykernel\\kernelbase.py\", line 730, in execute_request\n",
      "    reply_content = await reply_content\n",
      "  File \"C:\\Users\\maury\\anaconda3\\lib\\site-packages\\ipykernel\\ipkernel.py\", line 390, in do_execute\n",
      "    res = shell.run_cell(code, store_history=store_history, silent=silent)\n",
      "  File \"C:\\Users\\maury\\anaconda3\\lib\\site-packages\\ipykernel\\zmqshell.py\", line 528, in run_cell\n",
      "    return super().run_cell(*args, **kwargs)\n",
      "  File \"C:\\Users\\maury\\anaconda3\\lib\\site-packages\\IPython\\core\\interactiveshell.py\", line 2914, in run_cell\n",
      "    result = self._run_cell(\n",
      "  File \"C:\\Users\\maury\\anaconda3\\lib\\site-packages\\IPython\\core\\interactiveshell.py\", line 2960, in _run_cell\n",
      "    return runner(coro)\n",
      "  File \"C:\\Users\\maury\\anaconda3\\lib\\site-packages\\IPython\\core\\async_helpers.py\", line 78, in _pseudo_sync_runner\n",
      "    coro.send(None)\n",
      "  File \"C:\\Users\\maury\\anaconda3\\lib\\site-packages\\IPython\\core\\interactiveshell.py\", line 3185, in run_cell_async\n",
      "    has_raised = await self.run_ast_nodes(code_ast.body, cell_name,\n",
      "  File \"C:\\Users\\maury\\anaconda3\\lib\\site-packages\\IPython\\core\\interactiveshell.py\", line 3377, in run_ast_nodes\n",
      "    if (await self.run_code(code, result,  async_=asy)):\n",
      "  File \"C:\\Users\\maury\\anaconda3\\lib\\site-packages\\IPython\\core\\interactiveshell.py\", line 3457, in run_code\n",
      "    exec(code_obj, self.user_global_ns, self.user_ns)\n",
      "  File \"C:\\Users\\maury\\AppData\\Local\\Temp\\ipykernel_1268\\2330432923.py\", line 1, in <module>\n",
      "    div_1(20,0)\n",
      "  File \"C:\\Users\\maury\\AppData\\Local\\Temp\\ipykernel_1268\\2558705483.py\", line 6, in div_1\n",
      "    logging.info(\"some Error on your Code\" , e)\n",
      "Message: 'some Error on your Code'\n",
      "Arguments: (ZeroDivisionError('division by zero'),)\n"
     ]
    }
   ],
   "source": [
    "div_1(20,0)"
   ]
  },
  {
   "cell_type": "code",
   "execution_count": 8,
   "id": "d9addc4e",
   "metadata": {},
   "outputs": [],
   "source": [
    "def div_1(a,b) :\n",
    "    try:\n",
    "        return a/b\n",
    "    except Exception as e:\n",
    "        print(\"some error on your code:\" , e)"
   ]
  },
  {
   "cell_type": "code",
   "execution_count": 6,
   "id": "529d6afa",
   "metadata": {},
   "outputs": [
    {
     "data": {
      "text/plain": [
       "2.0"
      ]
     },
     "execution_count": 6,
     "metadata": {},
     "output_type": "execute_result"
    }
   ],
   "source": [
    "div_1(20,10)"
   ]
  },
  {
   "cell_type": "code",
   "execution_count": 9,
   "id": "329d4b52",
   "metadata": {},
   "outputs": [
    {
     "name": "stdout",
     "output_type": "stream",
     "text": [
      "some error on your code: division by zero\n"
     ]
    }
   ],
   "source": [
    "div_1(10, 0)"
   ]
  },
  {
   "cell_type": "code",
   "execution_count": 21,
   "id": "bf67c017",
   "metadata": {},
   "outputs": [
    {
     "ename": "ModuleNotFoundError",
     "evalue": "No module named 'div'",
     "output_type": "error",
     "traceback": [
      "\u001b[1;31m---------------------------------------------------------------------------\u001b[0m",
      "\u001b[1;31mModuleNotFoundError\u001b[0m                       Traceback (most recent call last)",
      "\u001b[1;32m~\\AppData\\Local\\Temp\\ipykernel_1268\\2396458500.py\u001b[0m in \u001b[0;36m<module>\u001b[1;34m\u001b[0m\n\u001b[1;32m----> 1\u001b[1;33m \u001b[1;32mimport\u001b[0m \u001b[0mdiv\u001b[0m\u001b[1;33m.\u001b[0m\u001b[0mipynb\u001b[0m\u001b[1;33m\u001b[0m\u001b[1;33m\u001b[0m\u001b[0m\n\u001b[0m\u001b[0;32m      2\u001b[0m \u001b[1;32mimport\u001b[0m \u001b[0mlogging\u001b[0m\u001b[1;33m\u001b[0m\u001b[1;33m\u001b[0m\u001b[0m\n\u001b[0;32m      3\u001b[0m \u001b[0mlogging\u001b[0m\u001b[1;33m.\u001b[0m\u001b[0mbasicConfig\u001b[0m\u001b[1;33m(\u001b[0m\u001b[0mfilename\u001b[0m \u001b[1;33m=\u001b[0m \u001b[1;34m\"error3.txt\"\u001b[0m \u001b[1;33m,\u001b[0m \u001b[0mlevel\u001b[0m \u001b[1;33m=\u001b[0m \u001b[0mlogging\u001b[0m\u001b[1;33m.\u001b[0m\u001b[0mINFO\u001b[0m \u001b[1;33m,\u001b[0m \u001b[0mformat\u001b[0m \u001b[1;33m=\u001b[0m \u001b[1;34m\"%(asctime)s\"\u001b[0m\u001b[1;33m)\u001b[0m\u001b[1;33m\u001b[0m\u001b[1;33m\u001b[0m\u001b[0m\n\u001b[0;32m      4\u001b[0m \u001b[0mlogging\u001b[0m\u001b[1;33m.\u001b[0m\u001b[0minfo\u001b[0m\u001b[1;33m(\u001b[0m\u001b[0mdiv\u001b[0m\u001b[1;33m(\u001b[0m\u001b[1;36m20\u001b[0m\u001b[1;33m,\u001b[0m\u001b[1;36m0\u001b[0m\u001b[1;33m)\u001b[0m\u001b[1;33m)\u001b[0m\u001b[1;33m\u001b[0m\u001b[1;33m\u001b[0m\u001b[0m\n",
      "\u001b[1;31mModuleNotFoundError\u001b[0m: No module named 'div'"
     ]
    }
   ],
   "source": [
    "import div.ipynb\n",
    "import logging\n",
    "logging.basicConfig(filename = \"error3.txt\" , level = logging.INFO , format = \"%(asctime)s\")\n",
    "logging.info(div(20,0))\n"
   ]
  },
  {
   "cell_type": "code",
   "execution_count": 12,
   "id": "49ef235e",
   "metadata": {},
   "outputs": [
    {
     "name": "stderr",
     "output_type": "stream",
     "text": [
      "__main__ - WARNING - This is warning\n",
      "__main__ - WARNING - This is warning\n",
      "__main__ - WARNING - This is warning\n",
      "__main__ - WARNING - This is warning\n",
      "__main__ - WARNING - This is warning\n",
      "__main__ - WARNING - This is warning\n",
      "__main__ - WARNING - This is warning\n",
      "__main__ - WARNING - This is warning\n",
      "__main__ - WARNING - This is warning\n",
      "__main__ - ERROR - this is error\n",
      "__main__ - ERROR - this is error\n",
      "__main__ - ERROR - this is error\n",
      "__main__ - ERROR - this is error\n",
      "__main__ - ERROR - this is error\n",
      "__main__ - ERROR - this is error\n",
      "__main__ - ERROR - this is error\n",
      "__main__ - ERROR - this is error\n",
      "__main__ - ERROR - this is error\n"
     ]
    }
   ],
   "source": [
    "import logging\n",
    "# create a custom logger\n",
    "logger = logging.getLogger(__name__)\n",
    "# create handlers\n",
    "\n",
    "c_handler = logging.StreamHandler()\n",
    "f_handler=logging.FileHandler(\"abc.log\")\n",
    "c_handler.setLevel(logging.DEBUG)\n",
    "f_handler.setLevel(logging.DEBUG)\n",
    "\n",
    "# create formatters and add it to handler\n",
    "\n",
    "c_format = logging.Formatter(\"%(name)s - %(levelname)s - %(message)s\")\n",
    "f_format = logging.Formatter(\"%(asctime)s - %(name)s - %(levelname)s - %(message)s\")\n",
    "c_handler.setFormatter(c_format)\n",
    "f_handler.setFormatter(f_format)\n",
    "\n",
    "# Add Handler to the Logger\n",
    "logger.addHandler(c_handler)\n",
    "logger.addHandler(f_handler)\n",
    "\n",
    "logger.debug(\"This is a debug\")\n",
    "logger.warning(\"This is warning\")\n",
    "logger.error(\"this is error\")"
   ]
  },
  {
   "cell_type": "code",
   "execution_count": 28,
   "id": "ce465080",
   "metadata": {},
   "outputs": [],
   "source": [
    "class Robot :\n",
    "    def introduce_self(self):\n",
    "        print(\"my name is \" + self.name ,\"|\", \"my age is \" + self.age)\n",
    "        "
   ]
  },
  {
   "cell_type": "code",
   "execution_count": 29,
   "id": "4ce43d24",
   "metadata": {},
   "outputs": [],
   "source": [
    "r1=Robot()"
   ]
  },
  {
   "cell_type": "code",
   "execution_count": 35,
   "id": "541d4303",
   "metadata": {},
   "outputs": [],
   "source": [
    "r1.name=\"anish\"\n",
    "r1.age=\"24\""
   ]
  },
  {
   "cell_type": "code",
   "execution_count": 36,
   "id": "b7d2a969",
   "metadata": {},
   "outputs": [
    {
     "name": "stdout",
     "output_type": "stream",
     "text": [
      "my name is anish | my age is 24\n"
     ]
    }
   ],
   "source": [
    "r1.introduce_self()"
   ]
  },
  {
   "cell_type": "code",
   "execution_count": 37,
   "id": "63925c56",
   "metadata": {},
   "outputs": [],
   "source": [
    "class Robot :\n",
    "    def __init__(self,name,age,gender):\n",
    "        self.name=name\n",
    "        self.age=age\n",
    "        self.gender=gender\n",
    "        \n",
    "    def introduce_self(self):\n",
    "        print(\"my name is \" , self.name ,\"|\", \"my age is \" , self.age , \"Gendae\" , self.gender)"
   ]
  },
  {
   "cell_type": "code",
   "execution_count": 38,
   "id": "5a0c7d5b",
   "metadata": {},
   "outputs": [],
   "source": [
    "r1 = Robot(\"anish\" , 24 , \"male\")"
   ]
  },
  {
   "cell_type": "code",
   "execution_count": 39,
   "id": "e5690fbe",
   "metadata": {},
   "outputs": [
    {
     "name": "stdout",
     "output_type": "stream",
     "text": [
      "my name is  anish | my age is  24 Gendae male\n"
     ]
    }
   ],
   "source": [
    "r1.introduce_self()"
   ]
  },
  {
   "cell_type": "code",
   "execution_count": 40,
   "id": "8a1ddf56",
   "metadata": {},
   "outputs": [
    {
     "data": {
      "text/plain": [
       "24"
      ]
     },
     "execution_count": 40,
     "metadata": {},
     "output_type": "execute_result"
    }
   ],
   "source": [
    "r1.age"
   ]
  },
  {
   "cell_type": "code",
   "execution_count": 146,
   "id": "d0437b96",
   "metadata": {},
   "outputs": [],
   "source": [
    "class Bankaccount:\n",
    "    def __init__(self,account_number , account_name , balance ) :\n",
    "        self.account_number = account_number\n",
    "        self.account_name = account_name\n",
    "        self.balance = balance\n",
    "    \n",
    "    \n",
    "    def detail_account(self):\n",
    "        print(\"Account Number is: \" , self.account_number)\n",
    "        print(\"Account Name is: \" , self.account_name)\n",
    "        print(\"Account Balance is: \", self.balance)\n",
    "    \n",
    "    def deposit_amount(self , d_amount):\n",
    "        self.d_amount = d_amount\n",
    "        print(f\"After Deposit  amount is: {self.balance+ d_amount}\")\n",
    "                                                           \n",
    "    def withdrawal_amount(self , w_amount) :\n",
    "        self.w_amount = w_amount\n",
    "        print(f\"After Withdrawal ammount Than Balance is: {self.balance- w_amount}\")\n"
   ]
  },
  {
   "cell_type": "code",
   "execution_count": 147,
   "id": "7aa2a8b3",
   "metadata": {},
   "outputs": [],
   "source": [
    "r1=Bankaccount(8347176457 , \"anish maurya\" , 2000 )"
   ]
  },
  {
   "cell_type": "code",
   "execution_count": 148,
   "id": "157f147a",
   "metadata": {},
   "outputs": [
    {
     "name": "stdout",
     "output_type": "stream",
     "text": [
      "Account Number is:  8347176457\n",
      "Account Name is:  anish maurya\n",
      "Account Balance is:  2000\n"
     ]
    }
   ],
   "source": [
    "r1.detail_account()"
   ]
  },
  {
   "cell_type": "code",
   "execution_count": 149,
   "id": "89581271",
   "metadata": {},
   "outputs": [
    {
     "name": "stdout",
     "output_type": "stream",
     "text": [
      "After Deposit  amount is: 2500\n"
     ]
    }
   ],
   "source": [
    "r1.deposit_amount(500)"
   ]
  },
  {
   "cell_type": "code",
   "execution_count": 150,
   "id": "61e5ef55",
   "metadata": {},
   "outputs": [
    {
     "name": "stdout",
     "output_type": "stream",
     "text": [
      "After Withdrawal ammount Than Balance is: 1650\n"
     ]
    }
   ],
   "source": [
    "r1.withdrawal_amount(350)"
   ]
  },
  {
   "cell_type": "code",
   "execution_count": 151,
   "id": "5f9b10c6",
   "metadata": {},
   "outputs": [
    {
     "name": "stdout",
     "output_type": "stream",
     "text": [
      "Account Number is:  8347176457\n",
      "Account Name is:  anish maurya\n",
      "Account Balance is:  2000\n"
     ]
    }
   ],
   "source": [
    "r1.detail_account()"
   ]
  },
  {
   "cell_type": "code",
   "execution_count": 176,
   "id": "883a526b",
   "metadata": {},
   "outputs": [],
   "source": [
    "class Bankaccount:\n",
    "    def __init__(self,account_number , account_name , balance ) :\n",
    "        self.account_number = account_number\n",
    "        self.account_name = account_name\n",
    "        self.balance = balance\n",
    "    \n",
    "    def deposit_amount(self , d_amount):\n",
    "        self.d_amount = d_amount\n",
    "        self.balance+= self.d_amount\n",
    "        print(f\"After Deposit  amount is: {self.balance+ d_amount}\")\n",
    "                                                           \n",
    "    def withdrawal_amount(self , w_amount) :\n",
    "        self.w_amount = w_amount\n",
    "        self.balance-=self.w_amount\n",
    "        print(f\"After Withdrawal ammount Than Balance is: {self.balance- w_amount}\")\n",
    "        \n",
    "    def detail_account(self):\n",
    "        print(\"Account Number is: \" , self.account_number)\n",
    "        print(\"Account Name is: \" , self.account_name)\n",
    "        print(\"Account Balance is: \", self.balance)\n",
    "        \n"
   ]
  },
  {
   "cell_type": "code",
   "execution_count": 177,
   "id": "5bcd8a7f",
   "metadata": {},
   "outputs": [],
   "source": [
    "r1 = Bankaccount(8347176457, \"anish\" , 1000)"
   ]
  },
  {
   "cell_type": "code",
   "execution_count": 181,
   "id": "42c174ee",
   "metadata": {},
   "outputs": [
    {
     "name": "stdout",
     "output_type": "stream",
     "text": [
      "After Deposit  amount is: 4650\n"
     ]
    }
   ],
   "source": [
    "r1.deposit_amount(1000)"
   ]
  },
  {
   "cell_type": "code",
   "execution_count": 182,
   "id": "9030b2b7",
   "metadata": {},
   "outputs": [
    {
     "name": "stdout",
     "output_type": "stream",
     "text": [
      "After Withdrawal ammount Than Balance is: 2950\n"
     ]
    }
   ],
   "source": [
    "r1.withdrawal_amount(350)"
   ]
  },
  {
   "cell_type": "code",
   "execution_count": 174,
   "id": "27142cc0",
   "metadata": {},
   "outputs": [
    {
     "name": "stdout",
     "output_type": "stream",
     "text": [
      "Account Number is:  8347176457\n",
      "Account Name is:  anish\n",
      "Account Balance is:  1300\n"
     ]
    }
   ],
   "source": [
    "r1.detail_account()"
   ]
  },
  {
   "cell_type": "code",
   "execution_count": 157,
   "id": "68d6838a",
   "metadata": {},
   "outputs": [],
   "source": [
    "class BankAccount:\n",
    "    def __init__(self,account_number, name, balance):\n",
    "        self.account_number = account_number\n",
    "        self.name = name\n",
    "        self.balance = balance\n",
    "   \n",
    "    def deposit(self,d_amount):\n",
    "        self.d_amount = d_amount\n",
    "        self.balance += self.d_amount\n",
    "        print(self.d_amount, ' is credited into your bank account')\n",
    "        print(f'your current balance is {self.balance}')\n",
    "\n",
    "    def withdraw(self,w_amount):\n",
    "        self.w_amount = w_amount\n",
    "        self.balance -= self.w_amount\n",
    "        print(self.w_amount, ' is debited into your bank account')\n",
    "        print(f'your current balance is {self.balance}')\n",
    "   \n",
    "    def account_details(self):\n",
    "        print(f'Your name is {self.name}')\n",
    "       \n",
    "        print(f'Your account number is {self.account_number}')\n",
    "        print(f'Your balance is {self.balance}')"
   ]
  },
  {
   "cell_type": "code",
   "execution_count": 158,
   "id": "9dd0eec9",
   "metadata": {},
   "outputs": [],
   "source": [
    "r1= BankAccount(454 , \"anish\" , 10000)"
   ]
  },
  {
   "cell_type": "code",
   "execution_count": 159,
   "id": "2c31ad52",
   "metadata": {},
   "outputs": [
    {
     "name": "stdout",
     "output_type": "stream",
     "text": [
      "Your name is anish\n",
      "Your account number is 454\n",
      "Your balance is 10000\n"
     ]
    }
   ],
   "source": [
    "r1.account_details()"
   ]
  },
  {
   "cell_type": "code",
   "execution_count": 160,
   "id": "8408ee3e",
   "metadata": {},
   "outputs": [
    {
     "name": "stdout",
     "output_type": "stream",
     "text": [
      "2500  is credited into your bank account\n",
      "your current balance is 12500\n"
     ]
    }
   ],
   "source": [
    "r1.deposit(2500)"
   ]
  },
  {
   "cell_type": "code",
   "execution_count": 161,
   "id": "d916fe45",
   "metadata": {},
   "outputs": [
    {
     "name": "stdout",
     "output_type": "stream",
     "text": [
      "Your name is anish\n",
      "Your account number is 454\n",
      "Your balance is 12500\n"
     ]
    }
   ],
   "source": [
    "r1.account_details()"
   ]
  },
  {
   "cell_type": "code",
   "execution_count": 183,
   "id": "a8598d10",
   "metadata": {},
   "outputs": [],
   "source": [
    "class Person :\n",
    "    def __init__(self , name , age , color , height , weight) :\n",
    "        self.name = name\n",
    "        self.age = age\n",
    "        self.color = color\n",
    "        self.height = height\n",
    "        self.weight = weight\n",
    "        \n",
    "    def bio_data(self) :\n",
    "        print(\"My Name is: \" , self.name)\n",
    "        print(\"My Age is: \" , self.age)\n",
    "        print(\"My Skin Color is: \" , self.color)\n",
    "        print(\"My Height is: \" , self.height)\n",
    "        print(\"My Weight is: \" , self.weight)\n",
    "        "
   ]
  },
  {
   "cell_type": "code",
   "execution_count": 191,
   "id": "d4ff493b",
   "metadata": {},
   "outputs": [],
   "source": [
    "m = Person(\"Anish\" , 24 , \"Light Black\" , \"5'6\" , 56 )"
   ]
  },
  {
   "cell_type": "code",
   "execution_count": 192,
   "id": "7721657b",
   "metadata": {},
   "outputs": [
    {
     "name": "stdout",
     "output_type": "stream",
     "text": [
      "My Name is:  Anish\n",
      "My Age is:  24\n",
      "My Skin Color is:  Light Black\n",
      "My Height is:  5'6\n",
      "My Weight is:  56\n"
     ]
    }
   ],
   "source": [
    "m.bio_data()"
   ]
  },
  {
   "cell_type": "code",
   "execution_count": 210,
   "id": "7247f293",
   "metadata": {},
   "outputs": [],
   "source": [
    "class Bankaccount:\n",
    "    def __init__(self,account_number , account_name , balance ) :\n",
    "        self.account_number = account_number\n",
    "        self.account_name = account_name\n",
    "        self.balance = balance\n",
    "    \n",
    "    def deposit_amount(self , d_amount):\n",
    "        self.d_amount = d_amount\n",
    "        self.balance+= self.d_amount\n",
    "        print(\"Your Deposit Amount is: \" , self.d_amount)\n",
    "        print(f\"After Deposit  amount Than Final Bank Balance is: {self.balance}\")\n",
    "                                                           \n",
    "    def withdrawal_amount(self , w_amount) :\n",
    "        self.w_amount = w_amount\n",
    "        self.balance-=self.w_amount\n",
    "        print(\"Your Withdrawal Amount is: \" , self.w_amount)\n",
    "        print(f\"After Withdrawal amount Than Final Bank Balance is : {self.balance}\")\n",
    "        \n",
    "    def detail_account(self):\n",
    "        print(\"Account Number is: \" , self.account_number)\n",
    "        print(\"Account Name is: \" , self.account_name)\n",
    "        print(\"Account Balance is: \", self.balance)"
   ]
  },
  {
   "cell_type": "code",
   "execution_count": 211,
   "id": "6e83d705",
   "metadata": {},
   "outputs": [
    {
     "name": "stdout",
     "output_type": "stream",
     "text": [
      "Enter Amount: 12\n",
      "Enter Amount: 2\n"
     ]
    }
   ],
   "source": [
    "p = Bankaccount(123 , \"anish\" , 1500)"
   ]
  },
  {
   "cell_type": "code",
   "execution_count": 212,
   "id": "c0655d6b",
   "metadata": {},
   "outputs": [
    {
     "name": "stdout",
     "output_type": "stream",
     "text": [
      "Your Withdrawal Amount is:  500\n",
      "After Withdrawal amount Than Final Bank Balance is : 1000\n"
     ]
    }
   ],
   "source": [
    "p.withdrawal_amount(500)"
   ]
  },
  {
   "cell_type": "code",
   "execution_count": 213,
   "id": "cfb2839c",
   "metadata": {},
   "outputs": [
    {
     "name": "stdout",
     "output_type": "stream",
     "text": [
      "Account Number is:  123\n",
      "Account Name is:  anish\n",
      "Account Balance is:  1000\n"
     ]
    }
   ],
   "source": [
    "p.detail_account()"
   ]
  },
  {
   "cell_type": "code",
   "execution_count": 214,
   "id": "1c708479",
   "metadata": {},
   "outputs": [
    {
     "name": "stdout",
     "output_type": "stream",
     "text": [
      "Account Number is:  123\n",
      "Account Name is:  anish\n",
      "Account Balance is:  1000\n"
     ]
    }
   ],
   "source": [
    "p.detail_account()"
   ]
  },
  {
   "cell_type": "code",
   "execution_count": 215,
   "id": "e596e7c9",
   "metadata": {},
   "outputs": [
    {
     "name": "stdout",
     "output_type": "stream",
     "text": [
      "Your Deposit Amount is:  1000\n",
      "After Deposit  amount Than Final Bank Balance is: 2000\n"
     ]
    }
   ],
   "source": [
    "p.deposit_amount(1000)"
   ]
  },
  {
   "cell_type": "code",
   "execution_count": 255,
   "id": "06d7840d",
   "metadata": {},
   "outputs": [
    {
     "name": "stdout",
     "output_type": "stream",
     "text": [
      "Account Number is:  123\n",
      "Account Name is:  anish\n",
      "Account Balance is:  2000\n",
      "None\n"
     ]
    }
   ],
   "source": [
    "print(p.detail_account())"
   ]
  },
  {
   "cell_type": "code",
   "execution_count": 243,
   "id": "00c1880b",
   "metadata": {},
   "outputs": [],
   "source": [
    "class Divya_Portfolio_Pvt_Ltd :\n",
    "    \n",
    "    def __init__(self , Emp_name , Designation , Working_place , Joining_date , Working_day , Salary ):\n",
    "        self.Emp_name = Emp_name\n",
    "        self.Designation = Designation\n",
    "        self.Working_place = Working_place\n",
    "        self.Joining_date = Joining_date\n",
    "        self.Working_day = Working_day\n",
    "        self.Salary = Salary\n",
    "        self.pay = (self.Salary/30)*self.Working_day\n",
    "    \n",
    "    def Emp_data(self) :\n",
    "        print(\"Employee Name: \" , self.Emp_name)\n",
    "        print(\"Employee Designation: \" , self.Designation)\n",
    "        print(\"Working Place: \" , self.Working_place)\n",
    "        print(\"Joining Date : \" , self.Joining_date)\n",
    "        print(\"Total Working Day on This Current Month: \" , self.Working_day)\n",
    "        print(\"Your Gross Salary: \" , self.Salary)\n",
    "        print(f\"This Month Net Payble Salary is: {self.pay}\")\n",
    "        "
   ]
  },
  {
   "cell_type": "code",
   "execution_count": 244,
   "id": "d15b7d03",
   "metadata": {},
   "outputs": [],
   "source": [
    "sagar =  Divya_Portfolio_Pvt_Ltd(\"Sagar Sharma\" , \"Trader\" , \"Gift City\" , \"05-Feb-2020\" , 28 , 19500)"
   ]
  },
  {
   "cell_type": "code",
   "execution_count": 245,
   "id": "8a69e8d1",
   "metadata": {},
   "outputs": [
    {
     "name": "stdout",
     "output_type": "stream",
     "text": [
      "Employee Name:  Sagar Sharma\n",
      "Employee Designation:  Trader\n",
      "Working Place:  Gift City\n",
      "Joining Date :  05-Feb-2020\n",
      "Total Working Day on This Current Month:  28\n",
      "Your Gross Salary:  19500\n",
      "This Month Net Payble Salary is: 18200.0\n"
     ]
    }
   ],
   "source": [
    "sagar.Emp_data()"
   ]
  },
  {
   "cell_type": "code",
   "execution_count": 246,
   "id": "f0b9d16e",
   "metadata": {},
   "outputs": [],
   "source": [
    "meet = Divya_Portfolio_Pvt_Ltd(\"Meet Gupta\" , \"Trader\" , \"Gift City\" , \"01-March-2021\" , 30 , 16500 )"
   ]
  },
  {
   "cell_type": "code",
   "execution_count": 247,
   "id": "9c26ad1c",
   "metadata": {},
   "outputs": [
    {
     "name": "stdout",
     "output_type": "stream",
     "text": [
      "Employee Name:  Meet Gupta\n",
      "Employee Designation:  Trader\n",
      "Working Place:  Gift City\n",
      "Joining Date :  01-March-2021\n",
      "Total Working Day on This Current Month:  30\n",
      "Your Gross Salary:  16500\n",
      "This Month Net Payble Salary is: 16500.0\n"
     ]
    }
   ],
   "source": [
    "meet.Emp_data()"
   ]
  },
  {
   "cell_type": "code",
   "execution_count": 249,
   "id": "96ca12ae",
   "metadata": {},
   "outputs": [
    {
     "data": {
      "text/plain": [
       "'Trader'"
      ]
     },
     "execution_count": 249,
     "metadata": {},
     "output_type": "execute_result"
    }
   ],
   "source": [
    "meet.Designation"
   ]
  },
  {
   "cell_type": "code",
   "execution_count": 250,
   "id": "618f1cea",
   "metadata": {},
   "outputs": [
    {
     "data": {
      "text/plain": [
       "16500.0"
      ]
     },
     "execution_count": 250,
     "metadata": {},
     "output_type": "execute_result"
    }
   ],
   "source": [
    "meet.pay"
   ]
  },
  {
   "cell_type": "code",
   "execution_count": null,
   "id": "80258279",
   "metadata": {},
   "outputs": [],
   "source": [
    "print()"
   ]
  }
 ],
 "metadata": {
  "kernelspec": {
   "display_name": "Python 3 (ipykernel)",
   "language": "python",
   "name": "python3"
  },
  "language_info": {
   "codemirror_mode": {
    "name": "ipython",
    "version": 3
   },
   "file_extension": ".py",
   "mimetype": "text/x-python",
   "name": "python",
   "nbconvert_exporter": "python",
   "pygments_lexer": "ipython3",
   "version": "3.9.13"
  }
 },
 "nbformat": 4,
 "nbformat_minor": 5
}
